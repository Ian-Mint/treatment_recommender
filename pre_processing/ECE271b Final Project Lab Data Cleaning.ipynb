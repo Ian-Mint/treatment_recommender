{
 "cells": [
  {
   "cell_type": "markdown",
   "metadata": {},
   "source": [
    "# Data Preprocessing:\n",
    "Given data as a csv from a postgres call, extract the relevant lab events, chunk the lab events into 4 hour increments and interpolate the amount at each time index based on the previous measurement"
   ]
  },
  {
   "cell_type": "code",
   "execution_count": 2,
   "metadata": {},
   "outputs": [],
   "source": [
    "import numpy as np\n",
    "import pandas as pd\n",
    "import pickle"
   ]
  },
  {
   "cell_type": "code",
   "execution_count": 87,
   "metadata": {
    "scrolled": true
   },
   "outputs": [],
   "source": [
    "import sqlalchemy as db\n",
    "from sqlalchemy import create_engine\n",
    "\n",
    "engine = db.create_engine('connection string')\n",
    "connection = engine.connect()\n",
    "connection.execute(\"set search_path to mimiciii\")\n",
    "\n",
    "sepsis_admissions = pd.read_sql(\"select * from mimic_db.mimiciii.d_labitems\", connection)"
   ]
  },
  {
   "cell_type": "code",
   "execution_count": 88,
   "metadata": {},
   "outputs": [],
   "source": [
    "columnNames = [\"row_id\", \"subject_id\", \"hadm_id\", \"itemid\", \"charttime\", \"value\", \"valuenum\",\n",
    "              \"valueuom\", \"flag\"]\n",
    "rawData = pd.read_csv(\"mimic_db_mimiciii_sepsis_lab_events.csv\", names = columnNames)\n",
    "\n",
    "admitNames = [\"hadm_id\", \"admittime\", \"dischtime\"]\n",
    "admissionTimes = pd.read_csv(\"sepsis_admissions_admit_time.csv\", names = admitNames)\n",
    "admissionTimes = admissionTimes.set_index('hadm_id')"
   ]
  },
  {
   "cell_type": "code",
   "execution_count": 89,
   "metadata": {},
   "outputs": [],
   "source": [
    "rawData = rawData.astype({'value': str, 'valueuom': str, 'flag': str})"
   ]
  },
  {
   "cell_type": "code",
   "execution_count": 90,
   "metadata": {},
   "outputs": [
    {
     "data": {
      "text/html": [
       "<div>\n",
       "<style scoped>\n",
       "    .dataframe tbody tr th:only-of-type {\n",
       "        vertical-align: middle;\n",
       "    }\n",
       "\n",
       "    .dataframe tbody tr th {\n",
       "        vertical-align: top;\n",
       "    }\n",
       "\n",
       "    .dataframe thead th {\n",
       "        text-align: right;\n",
       "    }\n",
       "</style>\n",
       "<table border=\"1\" class=\"dataframe\">\n",
       "  <thead>\n",
       "    <tr style=\"text-align: right;\">\n",
       "      <th></th>\n",
       "      <th>admittime</th>\n",
       "      <th>dischtime</th>\n",
       "    </tr>\n",
       "    <tr>\n",
       "      <th>hadm_id</th>\n",
       "      <th></th>\n",
       "      <th></th>\n",
       "    </tr>\n",
       "  </thead>\n",
       "  <tbody>\n",
       "    <tr>\n",
       "      <th>185910</th>\n",
       "      <td>2166-08-10 00:28:00</td>\n",
       "      <td>2166-09-04 11:30:00</td>\n",
       "    </tr>\n",
       "    <tr>\n",
       "      <th>145674</th>\n",
       "      <td>2198-08-02 04:49:00</td>\n",
       "      <td>2198-10-26 14:55:00</td>\n",
       "    </tr>\n",
       "    <tr>\n",
       "      <th>122609</th>\n",
       "      <td>2198-11-01 22:36:00</td>\n",
       "      <td>2198-11-14 14:20:00</td>\n",
       "    </tr>\n",
       "    <tr>\n",
       "      <th>142807</th>\n",
       "      <td>2122-12-13 19:30:00</td>\n",
       "      <td>2123-03-04 13:47:00</td>\n",
       "    </tr>\n",
       "    <tr>\n",
       "      <th>160481</th>\n",
       "      <td>2128-03-17 17:11:00</td>\n",
       "      <td>2128-06-17 15:00:00</td>\n",
       "    </tr>\n",
       "    <tr>\n",
       "      <th>...</th>\n",
       "      <td>...</td>\n",
       "      <td>...</td>\n",
       "    </tr>\n",
       "    <tr>\n",
       "      <th>134977</th>\n",
       "      <td>2188-10-18 02:00:00</td>\n",
       "      <td>2188-10-22 15:53:00</td>\n",
       "    </tr>\n",
       "    <tr>\n",
       "      <th>186754</th>\n",
       "      <td>2143-08-22 16:01:00</td>\n",
       "      <td>2143-09-02 17:15:00</td>\n",
       "    </tr>\n",
       "    <tr>\n",
       "      <th>168288</th>\n",
       "      <td>2127-06-10 19:22:00</td>\n",
       "      <td>2127-06-18 11:51:00</td>\n",
       "    </tr>\n",
       "    <tr>\n",
       "      <th>153703</th>\n",
       "      <td>2127-10-21 12:43:00</td>\n",
       "      <td>2127-10-31 12:35:00</td>\n",
       "    </tr>\n",
       "    <tr>\n",
       "      <th>141860</th>\n",
       "      <td>2125-02-22 22:18:00</td>\n",
       "      <td>2125-03-05 17:22:00</td>\n",
       "    </tr>\n",
       "  </tbody>\n",
       "</table>\n",
       "<p>4137 rows × 2 columns</p>\n",
       "</div>"
      ],
      "text/plain": [
       "                  admittime           dischtime\n",
       "hadm_id                                        \n",
       "185910  2166-08-10 00:28:00 2166-09-04 11:30:00\n",
       "145674  2198-08-02 04:49:00 2198-10-26 14:55:00\n",
       "122609  2198-11-01 22:36:00 2198-11-14 14:20:00\n",
       "142807  2122-12-13 19:30:00 2123-03-04 13:47:00\n",
       "160481  2128-03-17 17:11:00 2128-06-17 15:00:00\n",
       "...                     ...                 ...\n",
       "134977  2188-10-18 02:00:00 2188-10-22 15:53:00\n",
       "186754  2143-08-22 16:01:00 2143-09-02 17:15:00\n",
       "168288  2127-06-10 19:22:00 2127-06-18 11:51:00\n",
       "153703  2127-10-21 12:43:00 2127-10-31 12:35:00\n",
       "141860  2125-02-22 22:18:00 2125-03-05 17:22:00\n",
       "\n",
       "[4137 rows x 2 columns]"
      ]
     },
     "execution_count": 90,
     "metadata": {},
     "output_type": "execute_result"
    }
   ],
   "source": [
    "admissionTimes['admittime'] = pd.to_datetime(admissionTimes['admittime'])\n",
    "admissionTimes['dischtime'] = pd.to_datetime(admissionTimes['dischtime'])\n",
    "\n",
    "admissionTimes"
   ]
  },
  {
   "cell_type": "code",
   "execution_count": 91,
   "metadata": {},
   "outputs": [
    {
     "data": {
      "text/plain": [
       "Timestamp('2198-08-02 04:49:00')"
      ]
     },
     "execution_count": 91,
     "metadata": {},
     "output_type": "execute_result"
    }
   ],
   "source": [
    "admissionTimes.at[145674, 'admittime']"
   ]
  },
  {
   "cell_type": "code",
   "execution_count": 92,
   "metadata": {},
   "outputs": [],
   "source": [
    "rawData['charttime'] = pd.to_datetime(rawData['charttime'])"
   ]
  },
  {
   "cell_type": "code",
   "execution_count": 5,
   "metadata": {},
   "outputs": [
    {
     "data": {
      "text/html": [
       "<div>\n",
       "<style scoped>\n",
       "    .dataframe tbody tr th:only-of-type {\n",
       "        vertical-align: middle;\n",
       "    }\n",
       "\n",
       "    .dataframe tbody tr th {\n",
       "        vertical-align: top;\n",
       "    }\n",
       "\n",
       "    .dataframe thead th {\n",
       "        text-align: right;\n",
       "    }\n",
       "</style>\n",
       "<table border=\"1\" class=\"dataframe\">\n",
       "  <thead>\n",
       "    <tr style=\"text-align: right;\">\n",
       "      <th></th>\n",
       "      <th>row_id</th>\n",
       "      <th>subject_id</th>\n",
       "      <th>hadm_id</th>\n",
       "      <th>itemid</th>\n",
       "      <th>charttime</th>\n",
       "      <th>value</th>\n",
       "      <th>valuenum</th>\n",
       "      <th>valueuom</th>\n",
       "      <th>flag</th>\n",
       "    </tr>\n",
       "  </thead>\n",
       "  <tbody>\n",
       "    <tr>\n",
       "      <th>0</th>\n",
       "      <td>23565441</td>\n",
       "      <td>66745</td>\n",
       "      <td>192825</td>\n",
       "      <td>51237</td>\n",
       "      <td>2145-11-16 15:00:00</td>\n",
       "      <td>1.0</td>\n",
       "      <td>1.0</td>\n",
       "      <td>nan</td>\n",
       "      <td>nan</td>\n",
       "    </tr>\n",
       "    <tr>\n",
       "      <th>1</th>\n",
       "      <td>23565442</td>\n",
       "      <td>66745</td>\n",
       "      <td>192825</td>\n",
       "      <td>51248</td>\n",
       "      <td>2145-11-16 15:00:00</td>\n",
       "      <td>31.4</td>\n",
       "      <td>31.4</td>\n",
       "      <td>pg</td>\n",
       "      <td>nan</td>\n",
       "    </tr>\n",
       "    <tr>\n",
       "      <th>2</th>\n",
       "      <td>23565443</td>\n",
       "      <td>66745</td>\n",
       "      <td>192825</td>\n",
       "      <td>51249</td>\n",
       "      <td>2145-11-16 15:00:00</td>\n",
       "      <td>35.5</td>\n",
       "      <td>35.5</td>\n",
       "      <td>%</td>\n",
       "      <td>abnormal</td>\n",
       "    </tr>\n",
       "    <tr>\n",
       "      <th>3</th>\n",
       "      <td>23565444</td>\n",
       "      <td>66745</td>\n",
       "      <td>192825</td>\n",
       "      <td>51250</td>\n",
       "      <td>2145-11-16 15:00:00</td>\n",
       "      <td>88</td>\n",
       "      <td>88.0</td>\n",
       "      <td>fL</td>\n",
       "      <td>nan</td>\n",
       "    </tr>\n",
       "    <tr>\n",
       "      <th>4</th>\n",
       "      <td>23565445</td>\n",
       "      <td>66745</td>\n",
       "      <td>192825</td>\n",
       "      <td>51265</td>\n",
       "      <td>2145-11-16 15:00:00</td>\n",
       "      <td>55</td>\n",
       "      <td>55.0</td>\n",
       "      <td>K/uL</td>\n",
       "      <td>abnormal</td>\n",
       "    </tr>\n",
       "    <tr>\n",
       "      <th>...</th>\n",
       "      <td>...</td>\n",
       "      <td>...</td>\n",
       "      <td>...</td>\n",
       "      <td>...</td>\n",
       "      <td>...</td>\n",
       "      <td>...</td>\n",
       "      <td>...</td>\n",
       "      <td>...</td>\n",
       "      <td>...</td>\n",
       "    </tr>\n",
       "    <tr>\n",
       "      <th>3466296</th>\n",
       "      <td>23565436</td>\n",
       "      <td>66745</td>\n",
       "      <td>192825</td>\n",
       "      <td>50986</td>\n",
       "      <td>2145-11-16 15:00:00</td>\n",
       "      <td>LESS THAN 2.0</td>\n",
       "      <td>NaN</td>\n",
       "      <td>ng/mL</td>\n",
       "      <td>nan</td>\n",
       "    </tr>\n",
       "    <tr>\n",
       "      <th>3466297</th>\n",
       "      <td>23565437</td>\n",
       "      <td>66745</td>\n",
       "      <td>192825</td>\n",
       "      <td>51006</td>\n",
       "      <td>2145-11-16 15:00:00</td>\n",
       "      <td>19</td>\n",
       "      <td>19.0</td>\n",
       "      <td>mg/dL</td>\n",
       "      <td>nan</td>\n",
       "    </tr>\n",
       "    <tr>\n",
       "      <th>3466298</th>\n",
       "      <td>23565438</td>\n",
       "      <td>66745</td>\n",
       "      <td>192825</td>\n",
       "      <td>51214</td>\n",
       "      <td>2145-11-16 15:00:00</td>\n",
       "      <td>302</td>\n",
       "      <td>302.0</td>\n",
       "      <td>mg/dL</td>\n",
       "      <td>nan</td>\n",
       "    </tr>\n",
       "    <tr>\n",
       "      <th>3466299</th>\n",
       "      <td>23565439</td>\n",
       "      <td>66745</td>\n",
       "      <td>192825</td>\n",
       "      <td>51221</td>\n",
       "      <td>2145-11-16 15:00:00</td>\n",
       "      <td>33.9</td>\n",
       "      <td>33.9</td>\n",
       "      <td>%</td>\n",
       "      <td>abnormal</td>\n",
       "    </tr>\n",
       "    <tr>\n",
       "      <th>3466300</th>\n",
       "      <td>23565440</td>\n",
       "      <td>66745</td>\n",
       "      <td>192825</td>\n",
       "      <td>51222</td>\n",
       "      <td>2145-11-16 15:00:00</td>\n",
       "      <td>12.0</td>\n",
       "      <td>12.0</td>\n",
       "      <td>g/dL</td>\n",
       "      <td>abnormal</td>\n",
       "    </tr>\n",
       "  </tbody>\n",
       "</table>\n",
       "<p>3466301 rows × 9 columns</p>\n",
       "</div>"
      ],
      "text/plain": [
       "           row_id  subject_id  hadm_id  itemid           charttime  \\\n",
       "0        23565441       66745   192825   51237 2145-11-16 15:00:00   \n",
       "1        23565442       66745   192825   51248 2145-11-16 15:00:00   \n",
       "2        23565443       66745   192825   51249 2145-11-16 15:00:00   \n",
       "3        23565444       66745   192825   51250 2145-11-16 15:00:00   \n",
       "4        23565445       66745   192825   51265 2145-11-16 15:00:00   \n",
       "...           ...         ...      ...     ...                 ...   \n",
       "3466296  23565436       66745   192825   50986 2145-11-16 15:00:00   \n",
       "3466297  23565437       66745   192825   51006 2145-11-16 15:00:00   \n",
       "3466298  23565438       66745   192825   51214 2145-11-16 15:00:00   \n",
       "3466299  23565439       66745   192825   51221 2145-11-16 15:00:00   \n",
       "3466300  23565440       66745   192825   51222 2145-11-16 15:00:00   \n",
       "\n",
       "                 value  valuenum valueuom      flag  \n",
       "0                  1.0       1.0      nan       nan  \n",
       "1                 31.4      31.4       pg       nan  \n",
       "2                 35.5      35.5        %  abnormal  \n",
       "3                   88      88.0       fL       nan  \n",
       "4                   55      55.0     K/uL  abnormal  \n",
       "...                ...       ...      ...       ...  \n",
       "3466296  LESS THAN 2.0       NaN    ng/mL       nan  \n",
       "3466297             19      19.0    mg/dL       nan  \n",
       "3466298            302     302.0    mg/dL       nan  \n",
       "3466299           33.9      33.9        %  abnormal  \n",
       "3466300           12.0      12.0     g/dL  abnormal  \n",
       "\n",
       "[3466301 rows x 9 columns]"
      ]
     },
     "execution_count": 5,
     "metadata": {},
     "output_type": "execute_result"
    }
   ],
   "source": [
    "rawData"
   ]
  },
  {
   "cell_type": "code",
   "execution_count": 6,
   "metadata": {},
   "outputs": [
    {
     "data": {
      "text/plain": [
       "4134"
      ]
     },
     "execution_count": 6,
     "metadata": {},
     "output_type": "execute_result"
    }
   ],
   "source": [
    "len(rawData['hadm_id'].unique())"
   ]
  },
  {
   "cell_type": "code",
   "execution_count": 261,
   "metadata": {},
   "outputs": [],
   "source": [
    "# Lookup table to convert lab itemid's to a specific feature\n",
    "# Metavision data only - 2077 cases\n",
    "featureIds = [\n",
    "    51221, # Hematocrit\n",
    "    51301, # White Blood Cell Blood\n",
    "    51516, # WBC Urine\n",
    "    51222, #Hemoglobin\n",
    "    51250, #MCV\n",
    "    51249, #MCHC\n",
    "    51277, #RDW\n",
    "    51265, #Platelet Count\n",
    "    51248, #MCH\n",
    "    51279, #Red Blood Cell Blood\n",
    "    51493, # RBC Urine\n",
    "    50971, #Potassium\n",
    "    50983, #Sodium\n",
    "    50902, #Chloride\n",
    "    50882, #Bicarbonate\n",
    "    50868, #Anion Gap\n",
    "    51006, #Urea Nitrogen\n",
    "    50912, #Creatinine\n",
    "    50893, #Calcium, Total\n",
    "    51146, #Basophils\n",
    "    51256, #Neutrophils\n",
    "    51244, #Lymphocytes\n",
    "    51254, #Monocytes\n",
    "    51200, #Eosinophils\n",
    "    50970, #Phosphate\n",
    "    50931, #Glucose Blood\n",
    "    51478, #Glucose Urine\n",
    "    50960, #Magnesium\n",
    "    51237, #INR(PT)\n",
    "    51274, #PT\n",
    "    51275, #PTT\n",
    "    50885, #Bilirubin Blood\n",
    "    51464, #Bilirubin Urine\n",
    "    50813, #Lactate\n",
    "    50863, #Alkaline Phosphatase\n",
    "    50878, #Asparate Aminotransferase (AST)\n",
    "    50861, #Alanine Aminotransferase (ALT)\n",
    "    51491, #pH Urine\n",
    "    50820, #pH Blood\n",
    "    51498, #Specific Gravity\n",
    "    50821, #pO2\n",
    "    50804, #Calculated Total CO2\n",
    "    50802, #Base Excess\n",
    "    50818, #pC02\n",
    "    50862, #Albumin\n",
    "    51492, #Protein\n",
    "    51519, #Yeast\n",
    "    51476, #Epithelial Cells\n",
    "    51144, #Bands\n",
    "    50954, #Lactate Dehydrogenase (LD)\n",
    "    51514, #Urobilinogen\n",
    "    51484, #Ketone\n",
    "    50910, #Creatine Kinase (CK)\n",
    "    51506, #Urine Appearance\n",
    "    51486 #Leukocytes\n",
    "]\n",
    "\n",
    "\n",
    "\n",
    "def normalize_rbc_wbc_urine(val):\n",
    "    special_cases = '-><'\n",
    "    try:\n",
    "        if any(ch in val for ch in special_cases):\n",
    "            if '-' in val:\n",
    "                lower_bound = float(val.split('-')[0])\n",
    "                upper_bound = float(val.split('-')[1])\n",
    "                return (upper_bound + lower_bound) / 2\n",
    "            if '<' in val:\n",
    "                return float(val.split('<')[1]) - 1\n",
    "            if '>' in val:\n",
    "                return float(val.split('>')[1]) + 1\n",
    "    except:\n",
    "        return float(val)\n",
    "    \n",
    "def normalize_other_urine(val):\n",
    "    try:\n",
    "        if val is 'NEG' or val is 'TR':\n",
    "            return 0.0\n",
    "        else:\n",
    "            if '>' in val:\n",
    "                return float(val.split('>')) + 1\n",
    "            return float(val)\n",
    "    except:\n",
    "        return 0.0\n",
    "    \n",
    "def normalize_yeast(val):\n",
    "    if val is 'NONE':\n",
    "        return 0.0\n",
    "    if val is 'RARE':\n",
    "        return 1.0\n",
    "    if val is 'FEW':\n",
    "        return 2.0\n",
    "    if val is 'OCC' or val is 'MOD':\n",
    "        return 3.0\n",
    "    if val is 'MANY':\n",
    "        return 4.0\n",
    "    return 0.0\n",
    "\n",
    "def normalize_epithelial_cells(val):\n",
    "    try:\n",
    "        return normalize_rbc_wbc_urine(val)\n",
    "    except:\n",
    "        return 0.0\n",
    "\n",
    "def normalize_leukocytes(val):\n",
    "    if val is 'NEG':\n",
    "        return 0.0\n",
    "    if val is 'TR':\n",
    "        return 1.0\n",
    "    if val is 'SM':\n",
    "        return 2.0\n",
    "    if val is 'MOD':\n",
    "        return 3.0\n",
    "    if val is 'LG':\n",
    "        return 4.0\n",
    "    return 0.0\n",
    "\n",
    "def normalize_urine_appearance(val):\n",
    "    return [is_urine_clear(val), \n",
    "            is_urine_hazy(val),\n",
    "            is_urine_cloudy(val)]\n",
    "    \n",
    "def is_urine_clear(val):\n",
    "    desc = {'Clear', 'CLEAR', 'CL'}\n",
    "    if val in desc:\n",
    "        return 1.0\n",
    "    else:\n",
    "        return 0.0\n",
    "\n",
    "def is_urine_hazy(val):\n",
    "    desc = {'Hazy', 'SlHazy', 'HAZY', 'SLHAZY'}\n",
    "    if val in desc:\n",
    "        return 1.0\n",
    "    else:\n",
    "        return 0.0\n",
    "    \n",
    "def is_urine_cloudy(val):\n",
    "    desc = {'Cloudy', 'SlCldy', 'SlCloudy', 'Slcldy', 'CLOUDY', 'CLO'}\n",
    "    if val in desc:\n",
    "        return 1.0\n",
    "    else:\n",
    "        return 0.0\n",
    "\n",
    "customExtraction = {\n",
    "    51516: normalize_rbc_wbc_urine,\n",
    "    51493: normalize_rbc_wbc_urine,\n",
    "    51478: normalize_other_urine,\n",
    "    51492: normalize_other_urine,\n",
    "    51519: normalize_yeast,\n",
    "    51476: normalize_epithelial_cells,\n",
    "    51514: normalize_other_urine,\n",
    "    51484: normalize_other_urine,\n",
    "    51506: normalize_urine_appearance,\n",
    "    51486: normalize_leukocytes\n",
    "}\n",
    "\n",
    "def extractFeature(df):\n",
    "    x = []\n",
    "    df = df.set_index('itemid')\n",
    "    for i, feature in enumerate(featureIds):\n",
    "        val = -1.0\n",
    "        float_val = -1.0\n",
    "        \n",
    "        try:\n",
    "            val = df.at[feature, 'value']\n",
    "        except:\n",
    "            val = -1.0\n",
    "        \n",
    "        #qResult = df.loc[df['itemid'] == feature]\n",
    "        #if not qResult.empty:\n",
    "         #   val = qResult.iloc[0]['value']\n",
    "        try:\n",
    "            if feature in customExtraction.keys():\n",
    "                float_val = customExtraction[feature](val)\n",
    "                if feature == 51506:\n",
    "                    for one_hot in float_val:\n",
    "                        x.append(one_hot)\n",
    "                else:\n",
    "                    x.append(float_val)\n",
    "            else:\n",
    "                x.append(float(val))\n",
    "        except:\n",
    "            x.append(-1.0)\n",
    "    return np.asarray(x)"
   ]
  },
  {
   "cell_type": "code",
   "execution_count": 262,
   "metadata": {},
   "outputs": [
    {
     "data": {
      "text/plain": [
       "51498"
      ]
     },
     "execution_count": 262,
     "metadata": {},
     "output_type": "execute_result"
    }
   ],
   "source": [
    "featureIds[39]"
   ]
  },
  {
   "cell_type": "code",
   "execution_count": 263,
   "metadata": {},
   "outputs": [
    {
     "data": {
      "text/plain": [
       "51506"
      ]
     },
     "execution_count": 263,
     "metadata": {},
     "output_type": "execute_result"
    }
   ],
   "source": [
    "featureIds[53]"
   ]
  },
  {
   "cell_type": "code",
   "execution_count": null,
   "metadata": {},
   "outputs": [],
   "source": [
    "admissionTimes.at[]"
   ]
  },
  {
   "cell_type": "code",
   "execution_count": 94,
   "metadata": {},
   "outputs": [],
   "source": [
    "xTrain = {}\n",
    "for patient in rawData['hadm_id'].unique():\n",
    "    patientRows = rawData.loc[rawData['hadm_id'] == patient].sort_values(by=['charttime'])\n",
    "    startTime = admissionTimes.at[patient, 'admittime']\n",
    "    endTime = admissionTimes.at[patient, 'dischtime']\n",
    "    #startTime = patientRows.iloc[0]['charttime']\n",
    "    #endTime = patientRows.iloc[len(patientRows)-1]['charttime']\n",
    "    \n",
    "    # build 4 hour incremental feature vectors between start and end time\n",
    "    bucketedTimes = {}\n",
    "    currentTime = startTime;\n",
    "    index = 0\n",
    "    while(currentTime < endTime):\n",
    "        startInterval = currentTime;\n",
    "        endInterval = currentTime + np.timedelta64(4, 'h')\n",
    "        bucketInterval = patientRows.loc[patientRows['charttime'] >= startInterval].loc[patientRows['charttime'] < endInterval]\n",
    "        bucketedTimes[index] = extractFeature(bucketInterval)\n",
    "        currentTime += np.timedelta64(4, 'h')\n",
    "        index += 1\n",
    "    xTrain[patient] = bucketedTimes\n",
    "    \n",
    "# TODO normalize timesteps into t0, t1, t2, etc.\n",
    "# TODO fix data into floats numpy float array\n",
    "# TODO quantify the non-number data using either one hot or scale\n",
    "# Use a pickle file to store the training set\\\n",
    "# with open('fname', 'wb') as f:\n",
    "#    pickle.dump(xTrain, f)\n",
    "\n",
    "with open('training_lab_data.pkl', 'wb') as f:\n",
    "    pickle.dump(xTrain, f)\n"
   ]
  },
  {
   "cell_type": "code",
   "execution_count": 95,
   "metadata": {
    "scrolled": true
   },
   "outputs": [
    {
     "data": {
      "text/plain": [
       "{0: array([-1., -1., -1., -1., -1., -1., -1., -1., -1., -1., -1., -1., -1.,\n",
       "        -1., -1., -1., -1., -1., -1., -1., -1., -1., -1., -1., -1., -1.,\n",
       "         0., -1., -1., -1., -1., -1., -1., -1., -1., -1., -1., -1., -1.,\n",
       "        -1., -1., -1., -1., -1., -1.,  0.,  0., -1., -1., -1.,  0.,  0.,\n",
       "        -1.,  0.,  0.,  0.,  0.]),\n",
       " 1: array([-1., -1., -1., -1., -1., -1., -1., -1., -1., -1., -1., -1., -1.,\n",
       "        -1., -1., -1., -1., -1., -1., -1., -1., -1., -1., -1., -1., -1.,\n",
       "         0., -1., -1., -1., -1., -1., -1., -1., -1., -1., -1., -1., -1.,\n",
       "        -1., -1., -1., -1., -1., -1.,  0.,  0., -1., -1., -1.,  0.,  0.,\n",
       "        -1.,  0.,  0.,  0.,  0.]),\n",
       " 2: array([ 24.8 ,   8.4 ,  -1.  ,   8.3 ,  82.  ,  33.4 ,  16.  , 261.  ,\n",
       "         27.2 ,   3.04,  -1.  ,   2.6 , 142.  , 119.  ,  13.  ,  13.  ,\n",
       "         20.  ,   2.  ,   7.7 ,  -1.  ,  -1.  ,  -1.  ,  -1.  ,  -1.  ,\n",
       "          1.2 , 140.  ,   0.  ,   2.  ,   1.2 ,  14.4 ,  40.9 ,   0.4 ,\n",
       "         -1.  ,  -1.  ,  75.  ,  11.  ,   3.  ,  -1.  ,  -1.  ,  -1.  ,\n",
       "         -1.  ,  -1.  ,  -1.  ,  -1.  ,  -1.  ,   0.  ,   0.  ,  -1.  ,\n",
       "         -1.  ,  -1.  ,   0.  ,   0.  ,  -1.  ,   0.  ,   0.  ,   0.  ,\n",
       "          0.  ]),\n",
       " 3: array([-1., -1., -1., -1., -1., -1., -1., -1., -1., -1., -1., -1., -1.,\n",
       "        -1., -1., -1., -1., -1., -1., -1., -1., -1., -1., -1., -1., -1.,\n",
       "         0., -1., -1., -1., -1., -1., -1., -1., -1., -1., -1., -1., -1.,\n",
       "        -1., -1., -1., -1., -1., -1.,  0.,  0., -1., -1., -1.,  0.,  0.,\n",
       "        -1.,  0.,  0.,  0.,  0.]),\n",
       " 4: array([-1., -1., -1., -1., -1., -1., -1., -1., -1., -1., -1., -1., -1.,\n",
       "        -1., -1., -1., -1., -1., -1., -1., -1., -1., -1., -1., -1., -1.,\n",
       "         0., -1., -1., -1., -1., -1., -1., -1., -1., -1., -1., -1., -1.,\n",
       "        -1., -1., -1., -1., -1., -1.,  0.,  0., -1., -1., -1.,  0.,  0.,\n",
       "        -1.,  0.,  0.,  0.,  0.]),\n",
       " 5: array([-1., -1., -1., -1., -1., -1., -1., -1., -1., -1., -1., -1., -1.,\n",
       "        -1., -1., -1., -1., -1., -1., -1., -1., -1., -1., -1., -1., -1.,\n",
       "         0., -1., -1., -1., -1., -1., -1., -1., -1., -1., -1., -1., -1.,\n",
       "        -1., -1., -1., -1., -1., -1.,  0.,  0., -1., -1., -1.,  0.,  0.,\n",
       "        -1.,  0.,  0.,  0.,  0.]),\n",
       " 6: array([ -1. ,  -1. ,  -1. ,  -1. ,  -1. ,  -1. ,  -1. ,  -1. ,  -1. ,\n",
       "         -1. ,  -1. ,   3.2, 145. , 121. ,  14. ,  13. ,  19. ,   2. ,\n",
       "          7.8,  -1. ,  -1. ,  -1. ,  -1. ,  -1. ,   1.2, 145. ,   0. ,\n",
       "          2.1,  -1. ,  -1. ,  -1. ,  -1. ,  -1. ,  -1. ,  -1. ,  -1. ,\n",
       "         -1. ,  -1. ,  -1. ,  -1. ,  -1. ,  -1. ,  -1. ,  -1. ,  -1. ,\n",
       "          0. ,   0. ,  -1. ,  -1. ,  -1. ,   0. ,   0. ,  -1. ,   0. ,\n",
       "          0. ,   0. ,   0. ]),\n",
       " 7: array([-1., -1., -1., -1., -1., -1., -1., -1., -1., -1., -1., -1., -1.,\n",
       "        -1., -1., -1., -1., -1., -1., -1., -1., -1., -1., -1., -1., -1.,\n",
       "         0., -1., -1., -1., -1., -1., -1., -1., -1., -1., -1., -1., -1.,\n",
       "        -1., -1., -1., -1., -1., -1.,  0.,  0., -1., -1., -1.,  0.,  0.,\n",
       "        -1.,  0.,  0.,  0.,  0.]),\n",
       " 8: array([-1., -1., -1., -1., -1., -1., -1., -1., -1., -1., -1., -1., -1.,\n",
       "        -1., -1., -1., -1., -1., -1., -1., -1., -1., -1., -1., -1., -1.,\n",
       "         0., -1., -1., -1., -1., -1., -1., -1., -1., -1., -1., -1., -1.,\n",
       "        -1., -1., -1., -1., -1., -1.,  0.,  0., -1., -1., -1.,  0.,  0.,\n",
       "        -1.,  0.,  0.,  0.,  0.]),\n",
       " 9: array([ 27.8 ,  11.3 ,  -1.  ,   9.1 ,  83.  ,  32.8 ,  16.5 , 396.  ,\n",
       "         27.3 ,   3.35,  -1.  ,   3.  , 146.  , 120.  ,  14.  ,  15.  ,\n",
       "         17.  ,   2.1 ,   7.9 ,   0.  ,  83.  ,   5.  ,   8.  ,   0.  ,\n",
       "          1.6 , 133.  ,   0.  ,   2.2 ,  -1.  ,  -1.  ,  -1.  ,  -1.  ,\n",
       "         -1.  ,  -1.  ,  -1.  ,  13.  ,   7.  ,  -1.  ,  -1.  ,  -1.  ,\n",
       "         -1.  ,  -1.  ,  -1.  ,  -1.  ,  -1.  ,   0.  ,   0.  ,  -1.  ,\n",
       "          3.  ,  -1.  ,   0.  ,   0.  ,  -1.  ,   0.  ,   0.  ,   0.  ,\n",
       "          0.  ]),\n",
       " 10: array([-1., -1., -1., -1., -1., -1., -1., -1., -1., -1., -1., -1., -1.,\n",
       "        -1., -1., -1., -1., -1., -1., -1., -1., -1., -1., -1., -1., -1.,\n",
       "         0., -1., -1., -1., -1., -1., -1., -1., -1., -1., -1., -1., -1.,\n",
       "        -1., -1., -1., -1., -1., -1.,  0.,  0., -1., -1., -1.,  0.,  0.,\n",
       "        -1.,  0.,  0.,  0.,  0.]),\n",
       " 11: array([-1., -1., -1., -1., -1., -1., -1., -1., -1., -1., -1., -1., -1.,\n",
       "        -1., -1., -1., -1., -1., -1., -1., -1., -1., -1., -1., -1., -1.,\n",
       "         0., -1., -1., -1., -1., -1., -1., -1., -1., -1., -1., -1., -1.,\n",
       "        -1., -1., -1., -1., -1., -1.,  0.,  0., -1., -1., -1.,  0.,  0.,\n",
       "        -1.,  0.,  0.,  0.,  0.]),\n",
       " 12: array([-1., -1., -1., -1., -1., -1., -1., -1., -1., -1., -1., -1., -1.,\n",
       "        -1., -1., -1., -1., -1., -1., -1., -1., -1., -1., -1., -1., -1.,\n",
       "         0., -1., -1., -1., -1., -1., -1., -1., -1., -1., -1., -1., -1.,\n",
       "        -1., -1., -1., -1., -1., -1.,  0.,  0., -1., -1., -1.,  0.,  0.,\n",
       "        -1.,  0.,  0.,  0.,  0.]),\n",
       " 13: array([-1., -1., -1., -1., -1., -1., -1., -1., -1., -1., -1., -1., -1.,\n",
       "        -1., -1., -1., -1., -1., -1., -1., -1., -1., -1., -1., -1., -1.,\n",
       "         0., -1., -1., -1., -1., -1., -1., -1., -1., -1., -1., -1., -1.,\n",
       "        -1., -1., -1., -1., -1., -1.,  0.,  0., -1., -1., -1.,  0.,  0.,\n",
       "        -1.,  0.,  0.,  0.,  0.]),\n",
       " 14: array([-1., -1., -1., -1., -1., -1., -1., -1., -1., -1., -1., -1., -1.,\n",
       "        -1., -1., -1., -1., -1., -1., -1., -1., -1., -1., -1., -1., -1.,\n",
       "         0., -1., -1., -1., -1., -1., -1., -1., -1., -1., -1., -1., -1.,\n",
       "        -1., -1., -1., -1., -1., -1.,  0.,  0., -1., -1., -1.,  0.,  0.,\n",
       "        -1.,  0.,  0.,  0.,  0.]),\n",
       " 15: array([ 2.84e+01,  1.00e+01, -1.00e+00,  9.40e+00,  8.50e+01,  3.30e+01,\n",
       "         1.63e+01,  3.89e+02,  2.80e+01,  3.35e+00, -1.00e+00,  2.70e+00,\n",
       "         1.49e+02,  1.24e+02,  1.40e+01,  1.40e+01,  1.60e+01,  2.30e+00,\n",
       "         8.30e+00,  0.00e+00,  8.80e+01,  3.00e+00,  6.00e+00,  0.00e+00,\n",
       "         2.00e+00,  1.47e+02,  0.00e+00,  2.10e+00, -1.00e+00, -1.00e+00,\n",
       "        -1.00e+00,  3.00e-01, -1.00e+00, -1.00e+00,  1.24e+02,  1.50e+01,\n",
       "         7.00e+00, -1.00e+00, -1.00e+00, -1.00e+00, -1.00e+00, -1.00e+00,\n",
       "        -1.00e+00, -1.00e+00,  3.00e+00,  0.00e+00,  0.00e+00, -1.00e+00,\n",
       "         1.00e+00, -1.00e+00,  0.00e+00,  0.00e+00, -1.00e+00,  0.00e+00,\n",
       "         0.00e+00,  0.00e+00,  0.00e+00]),\n",
       " 16: array([-1., -1., -1., -1., -1., -1., -1., -1., -1., -1., -1., -1., -1.,\n",
       "        -1., -1., -1., -1., -1., -1., -1., -1., -1., -1., -1., -1., -1.,\n",
       "         0., -1., -1., -1., -1., -1., -1., -1., -1., -1., -1., -1., -1.,\n",
       "        -1., -1., -1., -1., -1., -1.,  0.,  0., -1., -1., -1.,  0.,  0.,\n",
       "        -1.,  0.,  0.,  0.,  0.]),\n",
       " 17: array([-1., -1., -1., -1., -1., -1., -1., -1., -1., -1., -1., -1., -1.,\n",
       "        -1., -1., -1., -1., -1., -1., -1., -1., -1., -1., -1., -1., -1.,\n",
       "         0., -1., -1., -1., -1., -1., -1., -1., -1., -1., -1., -1., -1.,\n",
       "        -1., -1., -1., -1., -1., -1.,  0.,  0., -1., -1., -1.,  0.,  0.,\n",
       "        -1.,  0.,  0.,  0.,  0.]),\n",
       " 18: array([-1., -1., -1., -1., -1., -1., -1., -1., -1., -1., -1., -1., -1.,\n",
       "        -1., -1., -1., -1., -1., -1., -1., -1., -1., -1., -1., -1., -1.,\n",
       "         0., -1., -1., -1., -1., -1., -1., -1., -1., -1., -1., -1., -1.,\n",
       "        -1., -1., -1., -1., -1., -1.,  0.,  0., -1., -1., -1.,  0.,  0.,\n",
       "        -1.,  0.,  0.,  0.,  0.]),\n",
       " 19: array([-1., -1., -1., -1., -1., -1., -1., -1., -1., -1., -1., -1., -1.,\n",
       "        -1., -1., -1., -1., -1., -1., -1., -1., -1., -1., -1., -1., -1.,\n",
       "         0., -1., -1., -1., -1., -1., -1., -1., -1., -1., -1., -1., -1.,\n",
       "        -1., -1., -1., -1., -1., -1.,  0.,  0., -1., -1., -1.,  0.,  0.,\n",
       "        -1.,  0.,  0.,  0.,  0.]),\n",
       " 20: array([-1., -1., -1., -1., -1., -1., -1., -1., -1., -1., -1., -1., -1.,\n",
       "        -1., -1., -1., -1., -1., -1., -1., -1., -1., -1., -1., -1., -1.,\n",
       "         0., -1., -1., -1., -1., -1., -1., -1., -1., -1., -1., -1., -1.,\n",
       "        -1., -1., -1., -1., -1., -1.,  0.,  0., -1., -1., -1.,  0.,  0.,\n",
       "        -1.,  0.,  0.,  0.,  0.]),\n",
       " 21: array([ 27.1 ,  10.6 ,  -1.  ,   8.8 ,  84.  ,  32.4 ,  17.  , 400.  ,\n",
       "         27.4 ,   3.21,  -1.  ,   3.2 , 154.  , 131.  ,  10.  ,  16.  ,\n",
       "         14.  ,   2.  ,   8.1 ,  -1.  ,  -1.  ,  -1.  ,  -1.  ,  -1.  ,\n",
       "          1.  , 148.  ,   0.  ,   1.9 ,  -1.  ,  -1.  ,  -1.  ,  -1.  ,\n",
       "         -1.  ,  -1.  ,  -1.  ,  -1.  ,  -1.  ,  -1.  ,  -1.  ,  -1.  ,\n",
       "         -1.  ,  -1.  ,  -1.  ,  -1.  ,  -1.  ,   0.  ,   0.  ,  -1.  ,\n",
       "         -1.  ,  -1.  ,   0.  ,   0.  ,  -1.  ,   0.  ,   0.  ,   0.  ,\n",
       "          0.  ]),\n",
       " 22: array([-1., -1., -1., -1., -1., -1., -1., -1., -1., -1., -1., -1., -1.,\n",
       "        -1., -1., -1., -1., -1., -1., -1., -1., -1., -1., -1., -1., -1.,\n",
       "         0., -1., -1., -1., -1., -1., -1., -1., -1., -1., -1., -1., -1.,\n",
       "        -1., -1., -1., -1., -1., -1.,  0.,  0., -1., -1., -1.,  0.,  0.,\n",
       "        -1.,  0.,  0.,  0.,  0.]),\n",
       " 23: array([ -1. ,  -1. ,  -1. ,  -1. ,  -1. ,  -1. ,  -1. ,  -1. ,  -1. ,\n",
       "         -1. ,  -1. ,   3.3, 152. , 129. ,  14. ,  12. ,  14. ,   2.1,\n",
       "          8.1,  -1. ,  -1. ,  -1. ,  -1. ,  -1. ,   1. , 147. ,   0. ,\n",
       "          1.8,  -1. ,  -1. ,  -1. ,  -1. ,  -1. ,  -1. ,  -1. ,  -1. ,\n",
       "         -1. ,  -1. ,  -1. ,  -1. ,  -1. ,  -1. ,  -1. ,  -1. ,  -1. ,\n",
       "          0. ,   0. ,  -1. ,  -1. ,  -1. ,   0. ,   0. ,  -1. ,   0. ,\n",
       "          0. ,   0. ,   0. ]),\n",
       " 24: array([ -1. ,  -1. ,  -1. ,  -1. ,  -1. ,  -1. ,  -1. ,  -1. ,  -1. ,\n",
       "         -1. ,  -1. ,   3.4, 150. , 127. ,  13. ,  13. ,  13. ,   2.1,\n",
       "          8.2,  -1. ,  -1. ,  -1. ,  -1. ,  -1. ,   1.9, 126. ,   0. ,\n",
       "          1.8,  -1. ,  -1. ,  -1. ,  -1. ,  -1. ,  -1. ,  -1. ,  -1. ,\n",
       "         -1. ,  -1. ,  -1. ,  -1. ,  -1. ,  -1. ,  -1. ,  -1. ,  -1. ,\n",
       "          0. ,   0. ,  -1. ,  -1. ,  -1. ,   0. ,   0. ,  -1. ,   0. ,\n",
       "          0. ,   0. ,   0. ]),\n",
       " 25: array([ -1.  ,  -1.  ,  -1.  ,  -1.  ,  -1.  ,  -1.  ,  -1.  ,  -1.  ,\n",
       "         -1.  ,  -1.  ,  -1.  ,  -1.  ,  -1.  ,  -1.  ,  -1.  ,  -1.  ,\n",
       "         -1.  ,  -1.  ,  -1.  ,  -1.  ,  -1.  ,  -1.  ,  -1.  ,  -1.  ,\n",
       "         -1.  ,  -1.  ,   0.  ,  -1.  ,   1.1 ,  13.3 ,  34.7 ,  -1.  ,\n",
       "         -1.  ,   1.7 ,  -1.  ,  -1.  ,  -1.  ,  -1.  ,   7.22,  -1.  ,\n",
       "        248.  ,  16.  , -12.  ,  36.  ,  -1.  ,   0.  ,   0.  ,  -1.  ,\n",
       "         -1.  ,  -1.  ,   0.  ,   0.  ,  -1.  ,   0.  ,   0.  ,   0.  ,\n",
       "          0.  ]),\n",
       " 26: array([ 2.59e+01,  5.80e+00, -1.00e+00,  8.30e+00,  8.50e+01,  3.19e+01,\n",
       "         1.67e+01,  3.41e+02,  2.70e+01,  3.07e+00, -1.00e+00,  4.00e+00,\n",
       "         1.50e+02,  1.28e+02,  1.40e+01,  1.20e+01,  1.10e+01,  1.80e+00,\n",
       "         7.20e+00, -1.00e+00, -1.00e+00, -1.00e+00, -1.00e+00, -1.00e+00,\n",
       "         2.60e+00,  1.08e+02,  0.00e+00,  1.20e+00, -1.00e+00, -1.00e+00,\n",
       "        -1.00e+00,  3.00e-01, -1.00e+00, -1.00e+00,  1.16e+02,  1.20e+01,\n",
       "         7.00e+00, -1.00e+00, -1.00e+00, -1.00e+00, -1.00e+00, -1.00e+00,\n",
       "        -1.00e+00, -1.00e+00,  2.00e+00,  0.00e+00,  0.00e+00, -1.00e+00,\n",
       "        -1.00e+00, -1.00e+00,  0.00e+00,  0.00e+00, -1.00e+00,  0.00e+00,\n",
       "         0.00e+00,  0.00e+00,  0.00e+00]),\n",
       " 27: array([ -1.  ,  20.5 ,  -1.  ,  11.1 ,  85.  ,  32.8 ,  15.8 , 347.  ,\n",
       "         27.8 ,   4.01,  -1.  ,  -1.  ,  -1.  ,  -1.  ,  -1.  ,  -1.  ,\n",
       "         -1.  ,  -1.  ,  -1.  ,   0.  ,  63.  ,   3.  ,   4.  ,   0.  ,\n",
       "         -1.  ,  -1.  ,   0.  ,  -1.  ,  -1.  ,  -1.  ,  42.9 ,  -1.  ,\n",
       "         -1.  ,   2.2 ,  -1.  ,  -1.  ,  -1.  ,  -1.  ,   7.37,  -1.  ,\n",
       "        107.  ,  16.  ,  -8.  ,  26.  ,  -1.  ,   0.  ,   0.  ,  -1.  ,\n",
       "         26.  , 213.  ,   0.  ,   0.  ,  40.  ,   0.  ,   0.  ,   0.  ,\n",
       "          0.  ]),\n",
       " 28: array([ -1.  ,  -1.  ,  -1.  ,  -1.  ,  -1.  ,  -1.  ,  -1.  ,  -1.  ,\n",
       "         -1.  ,  -1.  ,  -1.  ,   3.  , 154.  , 129.  ,  18.  ,  10.  ,\n",
       "         12.  ,   1.8 ,   7.6 ,  -1.  ,  -1.  ,  -1.  ,  -1.  ,  -1.  ,\n",
       "          1.2 , 115.  ,   0.  ,   2.7 ,  -1.  ,  -1.  ,  -1.  ,  -1.  ,\n",
       "         -1.  ,   1.6 ,  -1.  ,  -1.  ,  -1.  ,  -1.  ,   7.38,  -1.  ,\n",
       "        102.  ,  17.  ,  -6.  ,  28.  ,  -1.  ,   0.  ,   0.  ,  -1.  ,\n",
       "         -1.  ,  -1.  ,   0.  ,   0.  ,  -1.  ,   0.  ,   0.  ,   0.  ,\n",
       "          0.  ]),\n",
       " 29: array([ -1.  ,  -1.  ,  -1.  ,  -1.  ,  -1.  ,  -1.  ,  -1.  ,  -1.  ,\n",
       "         -1.  ,  -1.  ,  -1.  ,   3.4 , 155.  , 128.  ,  19.  ,  11.  ,\n",
       "         13.  ,   1.9 ,   8.4 ,  -1.  ,  -1.  ,  -1.  ,  -1.  ,  -1.  ,\n",
       "          3.1 , 158.  ,   0.  ,   2.5 ,  -1.  ,  -1.  ,  -1.  ,  -1.  ,\n",
       "         -1.  ,   1.8 ,  -1.  ,  -1.  ,  -1.  ,  -1.  ,   7.36,  -1.  ,\n",
       "        121.  ,  19.  ,  -6.  ,  32.  ,  -1.  ,   0.  ,   0.  ,  -1.  ,\n",
       "         -1.  ,  -1.  ,   0.  ,   0.  ,  -1.  ,   0.  ,   0.  ,   0.  ,\n",
       "          0.  ]),\n",
       " 30: array([ -1.  ,  -1.  ,  -1.  ,  -1.  ,  -1.  ,  -1.  ,  -1.  ,  -1.  ,\n",
       "         -1.  ,  -1.  ,  -1.  ,   3.6 , 148.  , 124.  ,  15.  ,  13.  ,\n",
       "         13.  ,   1.8 ,   7.2 ,  -1.  ,  -1.  ,  -1.  ,  -1.  ,  -1.  ,\n",
       "          3.3 , 236.  ,   0.  ,   2.3 ,  -1.  ,  -1.  ,  -1.  ,  -1.  ,\n",
       "         -1.  ,   1.9 ,  -1.  ,  -1.  ,  -1.  ,  -1.  ,   7.35,  -1.  ,\n",
       "         93.  ,  18.  ,  -6.  ,  32.  ,  -1.  ,   0.  ,   0.  ,  -1.  ,\n",
       "         -1.  ,  -1.  ,   0.  ,   0.  ,  -1.  ,  -1.  ,   0.  ]),\n",
       " 31: array([ 29.4 ,  17.8 ,  -1.  ,  10.1 ,  83.  ,  34.2 ,  16.4 , 293.  ,\n",
       "         28.3 ,   3.56,  -1.  ,   3.3 ,  -1.  , 122.  ,  17.  ,  13.  ,\n",
       "         13.  ,   1.8 ,   7.5 ,  -1.  ,  -1.  ,  -1.  ,  -1.  ,  -1.  ,\n",
       "          2.4 , 138.  ,   0.  ,   2.2 ,   1.2 ,  14.  ,  61.1 ,  -1.  ,\n",
       "         -1.  ,  -1.  ,  -1.  ,  -1.  ,  -1.  ,  -1.  ,  -1.  ,  -1.  ,\n",
       "         -1.  ,  -1.  ,  -1.  ,  -1.  ,  -1.  ,   0.  ,   0.  ,  -1.  ,\n",
       "         -1.  ,  -1.  ,   0.  ,   0.  ,  -1.  ,   0.  ,   0.  ,   0.  ,\n",
       "          0.  ]),\n",
       " 32: array([  -1.   ,   -1.   ,   -1.   ,   -1.   ,   -1.   ,   -1.   ,\n",
       "          -1.   ,   -1.   ,   -1.   ,   -1.   ,   -1.   ,    3.5  ,\n",
       "         148.   ,  122.   ,   16.   ,   14.   ,   13.   ,    1.8  ,\n",
       "           7.1  ,   -1.   ,   -1.   ,   -1.   ,   -1.   ,   -1.   ,\n",
       "           3.   ,  123.   , 1000.   ,    2.   ,   -1.   ,   -1.   ,\n",
       "          -1.   ,   -1.   ,   -1.   ,   -1.   ,   -1.   ,   -1.   ,\n",
       "          -1.   ,    6.5  ,    7.37 ,    1.008,   99.   ,   19.   ,\n",
       "          -5.   ,   31.   ,   -1.   ,   30.   ,    0.   ,   -1.   ,\n",
       "          -1.   ,   -1.   ,    0.   ,    0.   ,   -1.   ,    1.   ,\n",
       "           0.   ,    0.   ,    0.   ]),\n",
       " 33: array([  -1.  ,   -1.  ,   -1.  ,   -1.  ,   -1.  ,   -1.  ,   -1.  ,\n",
       "          -1.  ,   -1.  ,   -1.  ,   -1.  ,    3.4 ,  143.  ,  119.  ,\n",
       "          17.  ,   10.  ,   14.  ,    1.8 ,    6.9 ,   -1.  ,   -1.  ,\n",
       "          -1.  ,   -1.  ,   -1.  ,    3.4 ,  125.  , 1000.  ,    2.  ,\n",
       "          -1.  ,   -1.  ,   -1.  ,   -1.  ,   -1.  ,    1.  ,   -1.  ,\n",
       "          -1.  ,   -1.  ,    7.  ,    7.36,    1.01,  125.  ,   18.  ,\n",
       "          -6.  ,   30.  ,   -1.  ,   30.  ,    0.  ,   -1.  ,   -1.  ,\n",
       "          -1.  ,    0.  ,    0.  ,   -1.  ,    1.  ,    0.  ,    0.  ,\n",
       "           0.  ]),\n",
       " 34: array([-1., -1., -1., -1., -1., -1., -1., -1., -1., -1., -1., -1., -1.,\n",
       "        -1., -1., -1., -1., -1., -1., -1., -1., -1., -1., -1., -1., -1.,\n",
       "         0., -1., -1., -1., -1., -1., -1., -1., -1., -1., -1., -1., -1.,\n",
       "        -1., -1., -1., -1., -1., -1.,  0.,  0., -1., -1., -1.,  0.,  0.,\n",
       "        -1.,  0.,  0.,  0.,  0.]),\n",
       " 35: array([ -1. ,  -1. ,  -1. ,  -1. ,  -1. ,  -1. ,  -1. ,  -1. ,  -1. ,\n",
       "         -1. ,  -1. ,   3.2, 143. , 119. ,  17. ,  10. ,  13. ,   1.7,\n",
       "          7.5,  -1. ,  -1. ,  -1. ,  -1. ,  -1. ,   3.1,  82. ,   0. ,\n",
       "          1.9,  -1. ,  -1. ,  -1. ,  -1. ,  -1. ,  -1. ,  -1. ,  -1. ,\n",
       "         -1. ,  -1. ,  -1. ,  -1. ,  -1. ,  -1. ,  -1. ,  -1. ,  -1. ,\n",
       "          0. ,   0. ,  -1. ,  -1. ,  -1. ,   0. ,   0. ,  -1. ,   0. ,\n",
       "          0. ,   0. ,   0. ]),\n",
       " 36: array([ -1.  ,  -1.  ,  -1.  ,  -1.  ,  -1.  ,  -1.  ,  -1.  ,  -1.  ,\n",
       "         -1.  ,  -1.  ,  -1.  ,   3.3 , 141.  , 117.  ,  16.  ,  11.  ,\n",
       "         14.  ,   1.7 ,   7.2 ,  -1.  ,  -1.  ,  -1.  ,  -1.  ,  -1.  ,\n",
       "          3.3 ,  84.  ,   0.  ,   1.8 ,  -1.  ,  -1.  ,  -1.  ,  -1.  ,\n",
       "         -1.  ,  -1.  ,  -1.  ,  -1.  ,  -1.  ,  -1.  ,   7.37,  -1.  ,\n",
       "         -1.  ,  -1.  ,  -1.  ,  -1.  ,  -1.  ,   0.  ,   0.  ,  -1.  ,\n",
       "         -1.  ,  -1.  ,   0.  ,   0.  ,  -1.  ,   0.  ,   0.  ,   0.  ,\n",
       "          0.  ]),\n",
       " 37: array([-1., -1., -1., -1., -1., -1., -1., -1., -1., -1., -1., -1., -1.,\n",
       "        -1., -1., -1., -1., -1., -1., -1., -1., -1., -1., -1., -1., -1.,\n",
       "         0., -1., -1., -1., -1., -1., -1., -1., -1., -1., -1., -1., -1.,\n",
       "        -1., -1., -1., -1., -1., -1.,  0.,  0., -1., -1., -1.,  0.,  0.,\n",
       "        -1.,  0.,  0.,  0.,  0.]),\n",
       " 38: array([ 25.3  ,   9.9  ,  -1.   ,   8.4  ,  85.   ,  33.   ,  15.8  ,\n",
       "        153.   ,  28.   ,   2.99 ,  -1.   ,   3.4  , 141.   , 116.   ,\n",
       "         15.   ,  13.   ,  13.   ,   1.6  ,   7.1  ,  -1.   ,  -1.   ,\n",
       "         -1.   ,  -1.   ,  -1.   ,   3.9  ,  85.   , 150.   ,   1.7  ,\n",
       "         -1.   ,  -1.   ,  -1.   ,  -1.   ,  -1.   ,  -1.   ,  -1.   ,\n",
       "         -1.   ,  -1.   ,   5.5  ,  -1.   ,   1.007,  -1.   ,  -1.   ,\n",
       "         -1.   ,  -1.   ,  -1.   , 100.   ,   0.   ,  -1.   ,  -1.   ,\n",
       "         -1.   ,   0.   ,   0.   ,  -1.   ,   0.   ,   1.   ,   0.   ,\n",
       "          0.   ]),\n",
       " 39: array([-1., -1., -1., -1., -1., -1., -1., -1., -1., -1., -1., -1., -1.,\n",
       "        -1., -1., -1., -1., -1., -1., -1., -1., -1., -1., -1., -1., -1.,\n",
       "         0., -1., -1., -1., -1., -1., -1., -1., -1., -1., -1., -1., -1.,\n",
       "        -1., -1., -1., -1., -1., -1.,  0.,  0., -1., -1., -1.,  0.,  0.,\n",
       "        -1.,  0.,  0.,  0.,  0.]),\n",
       " 40: array([-1., -1., -1., -1., -1., -1., -1., -1., -1., -1., -1., -1., -1.,\n",
       "        -1., -1., -1., -1., -1., -1., -1., -1., -1., -1., -1., -1., -1.,\n",
       "         0., -1., -1., -1., -1., -1., -1., -1., -1., -1., -1., -1., -1.,\n",
       "        -1., -1., -1., -1., -1., -1.,  0.,  0., -1., -1., -1.,  0.,  0.,\n",
       "        -1.,  0.,  0.,  0.,  0.]),\n",
       " 41: array([-1., -1., -1., -1., -1., -1., -1., -1., -1., -1., -1., -1., -1.,\n",
       "        -1., -1., -1., -1., -1., -1., -1., -1., -1., -1., -1., -1., -1.,\n",
       "         0., -1., -1., -1., -1., -1., -1., -1., -1., -1., -1., -1., -1.,\n",
       "        -1., -1., -1., -1., -1., -1.,  0.,  0., -1., -1., -1.,  0.,  0.,\n",
       "        -1.,  0.,  0.,  0.,  0.]),\n",
       " 42: array([-1., -1., -1., -1., -1., -1., -1., -1., -1., -1., -1., -1., -1.,\n",
       "        -1., -1., -1., -1., -1., -1., -1., -1., -1., -1., -1., -1., -1.,\n",
       "         0., -1., -1., -1., -1., -1., -1., -1., -1., -1., -1., -1., -1.,\n",
       "        -1., -1., -1., -1., -1., -1.,  0.,  0., -1., -1., -1.,  0.,  0.,\n",
       "        -1.,  0.,  0.,  0.,  0.]),\n",
       " 43: array([-1., -1., -1., -1., -1., -1., -1., -1., -1., -1., -1., -1., -1.,\n",
       "        -1., -1., -1., -1., -1., -1., -1., -1., -1., -1., -1., -1., -1.,\n",
       "         0., -1., -1., -1., -1., -1., -1., -1., -1., -1., -1., -1., -1.,\n",
       "        -1., -1., -1., -1., -1., -1.,  0.,  0., -1., -1., -1.,  0.,  0.,\n",
       "        -1.,  0.,  0.,  0.,  0.]),\n",
       " 44: array([ 25. ,   6.7,  -1. ,   8.6,  83. ,  34.4,  16.1, 144. ,  28.6,\n",
       "          3. ,  -1. ,   3.6, 142. , 115. ,  16. ,  15. ,  15. ,   1.8,\n",
       "          7.1,  -1. ,  -1. ,  -1. ,  -1. ,  -1. ,   3.6,  74. ,   0. ,\n",
       "          2. ,  -1. ,  -1. ,  -1. ,   0.7,  -1. ,  -1. , 117. ,  13. ,\n",
       "          5. ,  -1. ,  -1. ,  -1. ,  -1. ,  -1. ,  -1. ,  -1. ,   2.4,\n",
       "          0. ,   0. ,  -1. ,  -1. ,  -1. ,   0. ,   0. ,  -1. ,   0. ,\n",
       "          0. ,   0. ,   0. ]),\n",
       " 45: array([-1., -1., -1., -1., -1., -1., -1., -1., -1., -1., -1., -1., -1.,\n",
       "        -1., -1., -1., -1., -1., -1., -1., -1., -1., -1., -1., -1., -1.,\n",
       "         0., -1., -1., -1., -1., -1., -1., -1., -1., -1., -1., -1., -1.,\n",
       "        -1., -1., -1., -1., -1., -1.,  0.,  0., -1., -1., -1.,  0.,  0.,\n",
       "        -1.,  0.,  0.,  0.,  0.]),\n",
       " 46: array([-1., -1., -1., -1., -1., -1., -1., -1., -1., -1., -1., -1., -1.,\n",
       "        -1., -1., -1., -1., -1., -1., -1., -1., -1., -1., -1., -1., -1.,\n",
       "         0., -1., -1., -1., -1., -1., -1., -1., -1., -1., -1., -1., -1.,\n",
       "        -1., -1., -1., -1., -1., -1.,  0.,  0., -1., -1., -1.,  0.,  0.,\n",
       "        -1.,  0.,  0.,  0.,  0.]),\n",
       " 47: array([-1., -1., -1., -1., -1., -1., -1., -1., -1., -1., -1., -1., -1.,\n",
       "        -1., -1., -1., -1., -1., -1., -1., -1., -1., -1., -1., -1., -1.,\n",
       "         0., -1., -1., -1., -1., -1., -1., -1., -1., -1., -1., -1., -1.,\n",
       "        -1., -1., -1., -1., -1., -1.,  0.,  0., -1., -1., -1.,  0.,  0.,\n",
       "        -1.,  0.,  0.,  0.,  0.]),\n",
       " 48: array([-1., -1., -1., -1., -1., -1., -1., -1., -1., -1., -1., -1., -1.,\n",
       "        -1., -1., -1., -1., -1., -1., -1., -1., -1., -1., -1., -1., -1.,\n",
       "         0., -1., -1., -1., -1., -1., -1., -1., -1., -1., -1., -1., -1.,\n",
       "        -1., -1., -1., -1., -1., -1.,  0.,  0., -1., -1., -1.,  0.,  0.,\n",
       "        -1.,  0.,  0.,  0.,  0.]),\n",
       " 49: array([-1., -1., -1., -1., -1., -1., -1., -1., -1., -1., -1., -1., -1.,\n",
       "        -1., -1., -1., -1., -1., -1., -1., -1., -1., -1., -1., -1., -1.,\n",
       "         0., -1., -1., -1., -1., -1., -1., -1., -1., -1., -1., -1., -1.,\n",
       "        -1., -1., -1., -1., -1., -1.,  0.,  0., -1., -1., -1.,  0.,  0.,\n",
       "        -1.,  0.,  0.,  0.,  0.]),\n",
       " 50: array([ 26.8,   5.5,  -1. ,   8.6,  87. ,  32.2,  15.4, 179. ,  27.9,\n",
       "          3.1,  -1. ,   3.5, 144. , 116. ,  16. ,  16. ,  16. ,   1.9,\n",
       "         -1. ,  -1. ,  -1. ,  -1. ,  -1. ,  -1. ,  -1. ,  96. ,   0. ,\n",
       "         -1. ,  -1. ,  -1. ,  -1. ,   0.4,  -1. ,  -1. , 149. ,  19. ,\n",
       "          8. ,  -1. ,  -1. ,  -1. ,  -1. ,  -1. ,  -1. ,  -1. ,  -1. ,\n",
       "          0. ,   0. ,  -1. ,  -1. ,  -1. ,   0. ,   0. ,  -1. ,   0. ,\n",
       "          0. ,   0. ,   0. ]),\n",
       " 51: array([-1., -1., -1., -1., -1., -1., -1., -1., -1., -1., -1., -1., -1.,\n",
       "        -1., -1., -1., -1., -1., -1., -1., -1., -1., -1., -1., -1., -1.,\n",
       "         0., -1., -1., -1., -1., -1., -1., -1., -1., -1., -1., -1., -1.,\n",
       "        -1., -1., -1., -1., -1., -1.,  0.,  0., -1., -1., -1.,  0.,  0.,\n",
       "        -1.,  0.,  0.,  0.,  0.]),\n",
       " 52: array([-1., -1., -1., -1., -1., -1., -1., -1., -1., -1., -1., -1., -1.,\n",
       "        -1., -1., -1., -1., -1., -1., -1., -1., -1., -1., -1., -1., -1.,\n",
       "         0., -1., -1., -1., -1., -1., -1., -1., -1., -1., -1., -1., -1.,\n",
       "        -1., -1., -1., -1., -1., -1.,  0.,  0., -1., -1., -1.,  0.,  0.,\n",
       "        -1.,  0.,  0.,  0.,  0.]),\n",
       " 53: array([-1., -1., -1., -1., -1., -1., -1., -1., -1., -1., -1., -1., -1.,\n",
       "        -1., -1., -1., -1., -1., -1., -1., -1., -1., -1., -1., -1., -1.,\n",
       "         0., -1., -1., -1., -1., -1., -1., -1., -1., -1., -1., -1., -1.,\n",
       "        -1., -1., -1., -1., -1., -1.,  0.,  0., -1., -1., -1.,  0.,  0.,\n",
       "        -1.,  0.,  0.,  0.,  0.]),\n",
       " 54: array([-1., -1., -1., -1., -1., -1., -1., -1., -1., -1., -1., -1., -1.,\n",
       "        -1., -1., -1., -1., -1., -1., -1., -1., -1., -1., -1., -1., -1.,\n",
       "         0., -1., -1., -1., -1., -1., -1., -1., -1., -1., -1., -1., -1.,\n",
       "        -1., -1., -1., -1., -1., -1.,  0.,  0., -1., -1., -1.,  0.,  0.,\n",
       "        -1.,  0.,  0.,  0.,  0.]),\n",
       " 55: array([-1., -1., -1., -1., -1., -1., -1., -1., -1., -1., -1., -1., -1.,\n",
       "        -1., -1., -1., -1., -1., -1., -1., -1., -1., -1., -1., -1., -1.,\n",
       "         0., -1., -1., -1., -1., -1., -1., -1., -1., -1., -1., -1., -1.,\n",
       "        -1., -1., -1., -1., -1., -1.,  0.,  0., -1., -1., -1.,  0.,  0.,\n",
       "        -1.,  0.,  0.,  0.,  0.]),\n",
       " 56: array([ 27.7 ,   5.1 ,  -1.  ,   8.9 ,  86.  ,  32.3 ,  15.2 , 201.  ,\n",
       "         27.7 ,   3.22,  -1.  ,   3.5 , 142.  , 115.  ,  17.  ,  14.  ,\n",
       "         15.  ,   1.9 ,   7.8 ,  -1.  ,  -1.  ,  -1.  ,  -1.  ,  -1.  ,\n",
       "          2.6 ,  94.  ,   0.  ,   1.6 ,   1.1 ,  12.6 ,  -1.  ,  -1.  ,\n",
       "         -1.  ,  -1.  ,  -1.  ,  -1.  ,  -1.  ,  -1.  ,  -1.  ,  -1.  ,\n",
       "         -1.  ,  -1.  ,  -1.  ,  -1.  ,  -1.  ,   0.  ,   0.  ,  -1.  ,\n",
       "         -1.  ,  -1.  ,   0.  ,   0.  ,  -1.  ,   0.  ,   0.  ,   0.  ,\n",
       "          0.  ]),\n",
       " 57: array([-1., -1., -1., -1., -1., -1., -1., -1., -1., -1., -1., -1., -1.,\n",
       "        -1., -1., -1., -1., -1., -1., -1., -1., -1., -1., -1., -1., -1.,\n",
       "         0., -1., -1., -1., -1., -1., -1., -1., -1., -1., -1., -1., -1.,\n",
       "        -1., -1., -1., -1., -1., -1.,  0.,  0., -1., -1., -1.,  0.,  0.,\n",
       "        -1.,  0.,  0.,  0.,  0.]),\n",
       " 58: array([-1., -1., -1., -1., -1., -1., -1., -1., -1., -1., -1., -1., -1.,\n",
       "        -1., -1., -1., -1., -1., -1., -1., -1., -1., -1., -1., -1., -1.,\n",
       "         0., -1., -1., -1., -1., -1., -1., -1., -1., -1., -1., -1., -1.,\n",
       "        -1., -1., -1., -1., -1., -1.,  0.,  0., -1., -1., -1.,  0.,  0.,\n",
       "        -1.,  0.,  0.,  0.,  0.]),\n",
       " 59: array([-1., -1., -1., -1., -1., -1., -1., -1., -1., -1., -1., -1., -1.,\n",
       "        -1., -1., -1., -1., -1., -1., -1., -1., -1., -1., -1., -1., -1.,\n",
       "         0., -1., -1., -1., -1., -1., -1., -1., -1., -1., -1., -1., -1.,\n",
       "        -1., -1., -1., -1., -1., -1.,  0.,  0., -1., -1., -1.,  0.,  0.,\n",
       "        -1.,  0.,  0.,  0.,  0.]),\n",
       " 60: array([-1., -1., -1., -1., -1., -1., -1., -1., -1., -1., -1., -1., -1.,\n",
       "        -1., -1., -1., -1., -1., -1., -1., -1., -1., -1., -1., -1., -1.,\n",
       "         0., -1., -1., -1., -1., -1., -1., -1., -1., -1., -1., -1., -1.,\n",
       "        -1., -1., -1., -1., -1., -1.,  0.,  0., -1., -1., -1.,  0.,  0.,\n",
       "        -1.,  0.,  0.,  0.,  0.]),\n",
       " 61: array([-1., -1., -1., -1., -1., -1., -1., -1., -1., -1., -1., -1., -1.,\n",
       "        -1., -1., -1., -1., -1., -1., -1., -1., -1., -1., -1., -1., -1.,\n",
       "         0., -1., -1., -1., -1., -1., -1., -1., -1., -1., -1., -1., -1.,\n",
       "        -1., -1., -1., -1., -1., -1.,  0.,  0., -1., -1., -1.,  0.,  0.,\n",
       "        -1.,  0.,  0.,  0.,  0.]),\n",
       " 62: array([ -1. ,  -1. ,  -1. ,  -1. ,  -1. ,  -1. ,  -1. ,  -1. ,  -1. ,\n",
       "         -1. ,  -1. ,   3.3, 141. , 114. ,  19. ,  11. ,  13. ,   1.8,\n",
       "          7.7,  -1. ,  -1. ,  -1. ,  -1. ,  -1. ,   2.3,  93. ,   0. ,\n",
       "          1.3,  -1. ,  -1. ,  -1. ,  -1. ,  -1. ,  -1. ,  -1. ,  -1. ,\n",
       "         -1. ,  -1. ,  -1. ,  -1. ,  -1. ,  -1. ,  -1. ,  -1. ,  -1. ,\n",
       "          0. ,   0. ,  -1. ,  -1. ,  -1. ,   0. ,   0. ,  -1. ,   0. ,\n",
       "          0. ,   0. ,   0. ]),\n",
       " 63: array([-1., -1., -1., -1., -1., -1., -1., -1., -1., -1., -1., -1., -1.,\n",
       "        -1., -1., -1., -1., -1., -1., -1., -1., -1., -1., -1., -1., -1.,\n",
       "         0., -1., -1., -1., -1., -1., -1., -1., -1., -1., -1., -1., -1.,\n",
       "        -1., -1., -1., -1., -1., -1.,  0.,  0., -1., -1., -1.,  0.,  0.,\n",
       "        -1.,  0.,  0.,  0.,  0.]),\n",
       " 64: array([-1., -1., -1., -1., -1., -1., -1., -1., -1., -1., -1., -1., -1.,\n",
       "        -1., -1., -1., -1., -1., -1., -1., -1., -1., -1., -1., -1., -1.,\n",
       "         0., -1., -1., -1., -1., -1., -1., -1., -1., -1., -1., -1., -1.,\n",
       "        -1., -1., -1., -1., -1., -1.,  0.,  0., -1., -1., -1.,  0.,  0.,\n",
       "        -1.,  0.,  0.,  0.,  0.]),\n",
       " 65: array([-1., -1., -1., -1., -1., -1., -1., -1., -1., -1., -1., -1., -1.,\n",
       "        -1., -1., -1., -1., -1., -1., -1., -1., -1., -1., -1., -1., -1.,\n",
       "         0., -1., -1., -1., -1., -1., -1., -1., -1., -1., -1., -1., -1.,\n",
       "        -1., -1., -1., -1., -1., -1.,  0.,  0., -1., -1., -1.,  0.,  0.,\n",
       "        -1.,  0.,  0.,  0.,  0.])}"
      ]
     },
     "execution_count": 95,
     "metadata": {},
     "output_type": "execute_result"
    }
   ],
   "source": [
    "xTrain[190893]"
   ]
  },
  {
   "cell_type": "code",
   "execution_count": 59,
   "metadata": {},
   "outputs": [
    {
     "data": {
      "text/html": [
       "<div>\n",
       "<style scoped>\n",
       "    .dataframe tbody tr th:only-of-type {\n",
       "        vertical-align: middle;\n",
       "    }\n",
       "\n",
       "    .dataframe tbody tr th {\n",
       "        vertical-align: top;\n",
       "    }\n",
       "\n",
       "    .dataframe thead th {\n",
       "        text-align: right;\n",
       "    }\n",
       "</style>\n",
       "<table border=\"1\" class=\"dataframe\">\n",
       "  <thead>\n",
       "    <tr style=\"text-align: right;\">\n",
       "      <th></th>\n",
       "      <th>row_id</th>\n",
       "      <th>subject_id</th>\n",
       "      <th>hadm_id</th>\n",
       "      <th>itemid</th>\n",
       "      <th>charttime</th>\n",
       "      <th>value</th>\n",
       "      <th>valuenum</th>\n",
       "      <th>valueuom</th>\n",
       "      <th>flag</th>\n",
       "    </tr>\n",
       "  </thead>\n",
       "  <tbody>\n",
       "    <tr>\n",
       "      <th>87231</th>\n",
       "      <td>23561502</td>\n",
       "      <td>66745</td>\n",
       "      <td>192825</td>\n",
       "      <td>50970</td>\n",
       "      <td>2145-09-01 21:35:00</td>\n",
       "      <td>4.1</td>\n",
       "      <td>4.1</td>\n",
       "      <td>mg/dL</td>\n",
       "      <td>delta</td>\n",
       "    </tr>\n",
       "    <tr>\n",
       "      <th>87217</th>\n",
       "      <td>23561488</td>\n",
       "      <td>66745</td>\n",
       "      <td>192825</td>\n",
       "      <td>50863</td>\n",
       "      <td>2145-09-01 21:35:00</td>\n",
       "      <td>64</td>\n",
       "      <td>64.0</td>\n",
       "      <td>IU/L</td>\n",
       "      <td>nan</td>\n",
       "    </tr>\n",
       "    <tr>\n",
       "      <th>87218</th>\n",
       "      <td>23561489</td>\n",
       "      <td>66745</td>\n",
       "      <td>192825</td>\n",
       "      <td>50868</td>\n",
       "      <td>2145-09-01 21:35:00</td>\n",
       "      <td>14</td>\n",
       "      <td>14.0</td>\n",
       "      <td>mEq/L</td>\n",
       "      <td>nan</td>\n",
       "    </tr>\n",
       "    <tr>\n",
       "      <th>87219</th>\n",
       "      <td>23561490</td>\n",
       "      <td>66745</td>\n",
       "      <td>192825</td>\n",
       "      <td>50878</td>\n",
       "      <td>2145-09-01 21:35:00</td>\n",
       "      <td>50</td>\n",
       "      <td>50.0</td>\n",
       "      <td>IU/L</td>\n",
       "      <td>abnormal</td>\n",
       "    </tr>\n",
       "    <tr>\n",
       "      <th>87220</th>\n",
       "      <td>23561491</td>\n",
       "      <td>66745</td>\n",
       "      <td>192825</td>\n",
       "      <td>50882</td>\n",
       "      <td>2145-09-01 21:35:00</td>\n",
       "      <td>19</td>\n",
       "      <td>19.0</td>\n",
       "      <td>mEq/L</td>\n",
       "      <td>abnormal</td>\n",
       "    </tr>\n",
       "    <tr>\n",
       "      <th>...</th>\n",
       "      <td>...</td>\n",
       "      <td>...</td>\n",
       "      <td>...</td>\n",
       "      <td>...</td>\n",
       "      <td>...</td>\n",
       "      <td>...</td>\n",
       "      <td>...</td>\n",
       "      <td>...</td>\n",
       "      <td>...</td>\n",
       "    </tr>\n",
       "    <tr>\n",
       "      <th>89801</th>\n",
       "      <td>23561547</td>\n",
       "      <td>66745</td>\n",
       "      <td>192825</td>\n",
       "      <td>50821</td>\n",
       "      <td>2145-09-01 22:09:00</td>\n",
       "      <td>97</td>\n",
       "      <td>97.0</td>\n",
       "      <td>mm Hg</td>\n",
       "      <td>nan</td>\n",
       "    </tr>\n",
       "    <tr>\n",
       "      <th>89795</th>\n",
       "      <td>23561541</td>\n",
       "      <td>66745</td>\n",
       "      <td>192825</td>\n",
       "      <td>50804</td>\n",
       "      <td>2145-09-01 22:09:00</td>\n",
       "      <td>22</td>\n",
       "      <td>22.0</td>\n",
       "      <td>mEq/L</td>\n",
       "      <td>nan</td>\n",
       "    </tr>\n",
       "    <tr>\n",
       "      <th>89802</th>\n",
       "      <td>23561548</td>\n",
       "      <td>66745</td>\n",
       "      <td>192825</td>\n",
       "      <td>51082</td>\n",
       "      <td>2145-09-02 01:30:00</td>\n",
       "      <td>115</td>\n",
       "      <td>115.0</td>\n",
       "      <td>mg/dL</td>\n",
       "      <td>nan</td>\n",
       "    </tr>\n",
       "    <tr>\n",
       "      <th>89803</th>\n",
       "      <td>23561549</td>\n",
       "      <td>66745</td>\n",
       "      <td>192825</td>\n",
       "      <td>51087</td>\n",
       "      <td>2145-09-02 01:30:00</td>\n",
       "      <td>RANDOM</td>\n",
       "      <td>NaN</td>\n",
       "      <td>nan</td>\n",
       "      <td>nan</td>\n",
       "    </tr>\n",
       "    <tr>\n",
       "      <th>89804</th>\n",
       "      <td>23561550</td>\n",
       "      <td>66745</td>\n",
       "      <td>192825</td>\n",
       "      <td>51474</td>\n",
       "      <td>2145-09-02 01:30:00</td>\n",
       "      <td>NEGATIVE NO EOS SEEN</td>\n",
       "      <td>NaN</td>\n",
       "      <td>nan</td>\n",
       "      <td>nan</td>\n",
       "    </tr>\n",
       "  </tbody>\n",
       "</table>\n",
       "<p>65 rows × 9 columns</p>\n",
       "</div>"
      ],
      "text/plain": [
       "         row_id  subject_id  hadm_id  itemid           charttime  \\\n",
       "87231  23561502       66745   192825   50970 2145-09-01 21:35:00   \n",
       "87217  23561488       66745   192825   50863 2145-09-01 21:35:00   \n",
       "87218  23561489       66745   192825   50868 2145-09-01 21:35:00   \n",
       "87219  23561490       66745   192825   50878 2145-09-01 21:35:00   \n",
       "87220  23561491       66745   192825   50882 2145-09-01 21:35:00   \n",
       "...         ...         ...      ...     ...                 ...   \n",
       "89801  23561547       66745   192825   50821 2145-09-01 22:09:00   \n",
       "89795  23561541       66745   192825   50804 2145-09-01 22:09:00   \n",
       "89802  23561548       66745   192825   51082 2145-09-02 01:30:00   \n",
       "89803  23561549       66745   192825   51087 2145-09-02 01:30:00   \n",
       "89804  23561550       66745   192825   51474 2145-09-02 01:30:00   \n",
       "\n",
       "                      value  valuenum valueuom      flag  \n",
       "87231                   4.1       4.1    mg/dL     delta  \n",
       "87217                    64      64.0     IU/L       nan  \n",
       "87218                    14      14.0    mEq/L       nan  \n",
       "87219                    50      50.0     IU/L  abnormal  \n",
       "87220                    19      19.0    mEq/L  abnormal  \n",
       "...                     ...       ...      ...       ...  \n",
       "89801                    97      97.0    mm Hg       nan  \n",
       "89795                    22      22.0    mEq/L       nan  \n",
       "89802                   115     115.0    mg/dL       nan  \n",
       "89803                RANDOM       NaN      nan       nan  \n",
       "89804  NEGATIVE NO EOS SEEN       NaN      nan       nan  \n",
       "\n",
       "[65 rows x 9 columns]"
      ]
     },
     "execution_count": 59,
     "metadata": {},
     "output_type": "execute_result"
    }
   ],
   "source": [
    "patientRows.loc[patientRows['charttime'] >= start].loc[patientRows['charttime'] < end]"
   ]
  },
  {
   "cell_type": "code",
   "execution_count": 11,
   "metadata": {},
   "outputs": [
    {
     "data": {
      "text/plain": [
       "50800    176\n",
       "50971    175\n",
       "51221    175\n",
       "50983    172\n",
       "50868    170\n",
       "        ... \n",
       "51216      1\n",
       "51208      1\n",
       "51076      1\n",
       "51000      1\n",
       "51438      1\n",
       "Name: itemid, Length: 182, dtype: int64"
      ]
     },
     "execution_count": 11,
     "metadata": {},
     "output_type": "execute_result"
    }
   ],
   "source": [
    "patientRows['itemid'].value_counts()"
   ]
  },
  {
   "cell_type": "code",
   "execution_count": 96,
   "metadata": {},
   "outputs": [
    {
     "name": "stderr",
     "output_type": "stream",
     "text": [
      "/home/linuxbrew/.linuxbrew/opt/python/lib/python3.7/site-packages/IPython/core/interactiveshell.py:3242: FutureWarning: arrays to stack must be passed as a \"sequence\" type such as list or tuple. Support for non-sequence iterables such as generators is deprecated as of NumPy 1.16 and will raise an error in the future.\n",
      "  if (await self.run_code(code, result,  async_=asy)):\n"
     ]
    },
    {
     "name": "stdout",
     "output_type": "stream",
     "text": [
      "190893 replaced 1 rows of 66\n",
      "136542 replaced 1 rows of 262\n",
      "146708 replaced 0 rows of 0\n",
      "111413 replaced 1 rows of 19\n",
      "120221 replaced 1 rows of 47\n",
      "125502 replaced 1 rows of 164\n",
      "105003 replaced 1 rows of 149\n",
      "142712 replaced 1 rows of 128\n",
      "194687 replaced 1 rows of 95\n",
      "191159 replaced 1 rows of 18\n",
      "108160 replaced 1 rows of 97\n",
      "165276 replaced 1 rows of 96\n",
      "196951 replaced 1 rows of 59\n",
      "140833 replaced 1 rows of 153\n",
      "198555 replaced 0 rows of 0\n",
      "102256 replaced 1 rows of 165\n",
      "109022 replaced 1 rows of 72\n",
      "110364 replaced 1 rows of 165\n",
      "176558 replaced 1 rows of 130\n",
      "104850 replaced 1 rows of 153\n",
      "181572 replaced 1 rows of 216\n",
      "195579 replaced 1 rows of 77\n",
      "162989 replaced 1 rows of 54\n",
      "140887 replaced 1 rows of 101\n",
      "181672 replaced 0 rows of 0\n",
      "125239 replaced 2 rows of 19\n",
      "144708 replaced 1 rows of 66\n",
      "159708 replaced 1 rows of 45\n",
      "168548 replaced 0 rows of 0\n",
      "113905 replaced 1 rows of 252\n",
      "130903 replaced 0 rows of 0\n",
      "116181 replaced 1 rows of 17\n",
      "123318 replaced 1 rows of 181\n",
      "114834 replaced 1 rows of 139\n",
      "105013 replaced 1 rows of 45\n",
      "106220 replaced 1 rows of 37\n",
      "113310 replaced 1 rows of 229\n",
      "142618 replaced 0 rows of 0\n",
      "122378 replaced 1 rows of 15\n",
      "126565 replaced 1 rows of 101\n",
      "169960 replaced 1 rows of 234\n",
      "116984 replaced 0 rows of 0\n",
      "110084 replaced 0 rows of 0\n",
      "137003 replaced 1 rows of 48\n",
      "121846 replaced 1 rows of 295\n",
      "138301 replaced 0 rows of 0\n"
     ]
    }
   ],
   "source": [
    "with open('training_lab_data.pkl', 'rb') as f:\n",
    "    xTrain = pickle.load(f)\n",
    "\n",
    "xTrain_array = {}\n",
    "i = 0\n",
    "for hadm_id in xTrain:\n",
    "    try:\n",
    "        xTrain_array[hadm_id] = np.stack(xTrain[hadm_id].values(), axis=0)\n",
    "    except:\n",
    "        s = {}\n",
    "        j = 0\n",
    "        for val, i in enumerate(xTrain[hadm_id].keys()):\n",
    "            if len(xTrain[hadm_id][i]) == 57:\n",
    "                s[i] = xTrain[hadm_id][i]\n",
    "            else:\n",
    "                # copy the next available valid data point\n",
    "                if i == 0:\n",
    "                    k = i + 1\n",
    "                    while k < len(xTrain[hadm_id]):\n",
    "                        if len(xTrain[hadm_id][k]) == 57:\n",
    "                            s[i] = xTrain[hadm_id][k]\n",
    "                            break;\n",
    "                        k = k + 1\n",
    "                else: # take the previous valid data point\n",
    "                    k = i - 1\n",
    "                    while k >= 0:\n",
    "                        if len(xTrain[hadm_id][k]) == 57:\n",
    "                            s[i] = xTrain[hadm_id][k]\n",
    "                            break;\n",
    "                        k = k - 1\n",
    "                j+=1\n",
    "        if len(s) != 0:\n",
    "            xTrain_array[hadm_id] = np.stack(s.values(), axis=0)\n",
    "        print(str(hadm_id) + \" replaced \" + str(j) + \" rows of \" + str(len(xTrain[hadm_id].keys())))\n",
    "\n",
    "with open('lab_event_training_set.pkl', 'wb') as f:\n",
    "    pickle.dump(xTrain_array, f)"
   ]
  },
  {
   "cell_type": "code",
   "execution_count": 97,
   "metadata": {},
   "outputs": [],
   "source": [
    "with open('lab_event_training_set.pkl', 'rb') as f:\n",
    "    lab_event_training_set = pickle.load(f)"
   ]
  },
  {
   "cell_type": "code",
   "execution_count": 98,
   "metadata": {},
   "outputs": [],
   "source": [
    "event_data = lab_event_training_set[192825]"
   ]
  },
  {
   "cell_type": "code",
   "execution_count": 99,
   "metadata": {},
   "outputs": [],
   "source": [
    "for hadm_id in lab_event_training_set:\n",
    "    most_recent = lab_event_training_set[hadm_id][0]\n",
    "    for row in lab_event_training_set[hadm_id]:\n",
    "        row[row == -1] = most_recent[row == -1]\n",
    "        most_recent = row\n",
    "    "
   ]
  },
  {
   "cell_type": "code",
   "execution_count": 100,
   "metadata": {},
   "outputs": [],
   "source": [
    "with open('lab_event_training_set_interpolated.pkl', 'wb') as f:\n",
    "    pickle.dump(lab_event_training_set, f)"
   ]
  },
  {
   "cell_type": "markdown",
   "metadata": {},
   "source": [
    "# Merging Training Sets:\n",
    "\n",
    "Loads all the training sets, combines them"
   ]
  },
  {
   "cell_type": "code",
   "execution_count": 2,
   "metadata": {},
   "outputs": [],
   "source": [
    "import numpy as np\n",
    "import pandas as pd\n",
    "import pickle"
   ]
  },
  {
   "cell_type": "code",
   "execution_count": 6,
   "metadata": {},
   "outputs": [],
   "source": [
    "with open('lab_event_training_set_interpolated.pkl', 'rb') as f:\n",
    "    train_lab_event = pickle.load(f)\n",
    "    \n",
    "with open('elixhauser_score.pkl', 'rb') as f:\n",
    "    train_elixhauser_score = pickle.load(f)\n",
    "    \n",
    "with open ('fluids_chunked.pkl', 'rb') as f:\n",
    "    train_fluids = pickle.load(f)\n",
    "\n",
    "with open ('vasopressin_chunked.pkl', 'rb') as f:\n",
    "    train_vasopressin = pickle.load(f)\n",
    "    \n",
    "with open ('vitals_chunked.pkl', 'rb') as f:\n",
    "    train_vitals = pickle.load(f)"
   ]
  },
  {
   "cell_type": "code",
   "execution_count": 214,
   "metadata": {},
   "outputs": [
    {
     "data": {
      "text/plain": [
       "array([ 3.430e+01,  4.650e+01, -1.000e+00,  9.800e+00,  9.100e+01,\n",
       "        2.860e+01,  1.500e+01,  5.010e+02,  2.590e+01,  3.790e+00,\n",
       "       -1.000e+00,  4.800e+00,  1.420e+02,  1.120e+02,  1.500e+01,\n",
       "        2.000e+01,  5.600e+01,  1.700e+00,  6.900e+00,  4.000e-01,\n",
       "        9.590e+01,  2.500e+00,  1.200e+00,  0.000e+00,  5.100e+00,\n",
       "        1.280e+02,  0.000e+00,  1.900e+00,  1.800e+00,  1.920e+01,\n",
       "        5.540e+01,  6.000e-01, -1.000e+00, -1.000e+00,  1.190e+02,\n",
       "        6.000e+02,  1.110e+02, -1.000e+00, -1.000e+00, -1.000e+00,\n",
       "       -1.000e+00, -1.000e+00, -1.000e+00, -1.000e+00,  1.800e+00,\n",
       "        0.000e+00,  0.000e+00, -1.000e+00, -1.000e+00,  1.689e+03,\n",
       "        0.000e+00,  0.000e+00, -1.000e+00,  0.000e+00,  0.000e+00,\n",
       "        0.000e+00,  0.000e+00])"
      ]
     },
     "execution_count": 214,
     "metadata": {},
     "output_type": "execute_result"
    }
   ],
   "source": [
    "train_lab_event[100223][1]"
   ]
  },
  {
   "cell_type": "code",
   "execution_count": 215,
   "metadata": {},
   "outputs": [
    {
     "data": {
      "text/plain": [
       "dict_keys([192825, 131118, 167944, 117412, 146594, 132488, 166808, 107820, 121572, 161512, 119137, 141903, 117259, 145445, 119210, 176130, 100416, 172789, 128331, 172309, 147901, 100347, 117918, 173568, 120770, 197531, 166019, 134830, 140233, 105518, 191203, 150489, 178527, 167582, 185555, 190470, 199528, 123859, 155768, 183205, 117107, 130438, 122154, 183670, 174373, 194117, 104521, 188553, 112698, 194713, 199605, 105417, 173812, 147914, 149548, 143269, 181366, 174760, 186176, 159850, 144912, 163626, 126778, 142011, 157255, 143872, 141292, 191607, 107832, 153520, 161586, 161407, 123252, 193576, 166782, 104910, 148062, 136843, 190279, 158549, 138977, 156856, 195536, 121962, 149819, 137938, 152934, 100619, 147281, 105883, 174478, 182954, 175845, 188352, 149123, 136946, 174441, 114838, 161507, 113467, 129878, 103986, 153556, 153514, 145699, 162746, 127116, 188451, 171324, 109505, 127868, 113652, 186658, 155851, 191071, 143628, 190893, 146330, 185071, 160505, 125393, 146107, 176259, 110362, 127453, 110787, 129633, 182878, 169944, 116768, 110137, 105803, 190440, 105141, 195318, 107225, 191726, 124262, 119848, 136542, 154679, 131471, 192984, 122790, 119093, 145166, 171893, 168692, 158288, 134331, 130923, 153910, 151984, 155212, 119486, 185264, 149051, 137462, 116413, 144754, 156655, 114044, 156500, 109337, 189952, 127050, 123482, 197870, 163828, 159427, 144522, 177136, 108509, 149947, 151505, 110202, 101776, 125185, 177953, 171135, 122645, 193371, 176083, 130914, 177845, 135268, 128850, 134286, 177317, 149988, 174752, 161609, 180499, 112246, 179438, 107543, 142903, 103980, 169014, 138943, 147974, 119706, 183461, 197370, 125154, 192449, 148937, 138652, 118042, 101864, 157802, 125810, 166721, 167693, 154253, 182133, 181655, 127430, 158815, 131162, 114398, 195900, 152690, 185604, 131184, 198989, 158892, 173121, 190006, 112268, 163192, 146277, 117308, 132255, 114831, 145657, 190836, 186436, 166143, 114783, 154237, 149460, 183183, 151061, 111391, 162197, 100442, 128948, 154193, 193799, 198070, 177956, 188354, 153428, 106711, 127559, 140505, 141441, 102966, 132433, 142997, 175576, 160591, 185490, 146452, 110298, 129024, 111413, 125763, 117835, 112575, 193119, 174073, 137906, 146279, 145211, 141494, 163685, 154172, 118358, 182083, 142980, 167316, 180663, 156947, 165107, 150871, 138118, 147342, 100325, 167523, 190561, 174522, 179154, 171230, 115882, 157688, 191834, 165503, 196033, 134826, 189049, 136056, 152030, 108174, 144809, 173651, 124644, 186146, 165405, 142534, 190770, 113099, 182458, 110867, 199052, 155561, 127545, 121263, 173755, 160572, 190596, 160553, 197999, 108832, 171246, 164620, 134366, 179568, 125008, 156253, 160386, 193819, 118884, 119280, 144564, 100104, 124621, 155525, 122498, 109540, 196446, 128220, 155832, 115152, 150128, 140719, 122870, 198316, 169702, 130619, 125148, 152792, 170057, 176119, 107251, 186640, 183521, 126573, 106883, 193634, 128376, 149337, 183906, 119437, 104632, 147304, 196147, 171434, 145358, 123768, 138429, 148625, 176395, 180024, 138363, 156399, 108756, 108835, 158564, 116027, 153781, 189378, 104708, 150708, 134846, 130878, 120756, 104680, 129551, 102068, 123572, 190904, 194622, 146669, 163813, 116460, 160969, 151329, 199434, 120301, 199628, 120073, 114480, 165830, 145946, 163354, 199880, 162509, 109196, 184191, 175319, 156625, 104979, 165533, 120193, 154651, 125465, 125594, 167005, 134421, 122354, 170348, 198959, 150068, 129098, 127147, 119420, 168633, 169761, 127622, 121701, 173860, 157213, 140140, 110818, 166642, 161819, 196803, 107049, 153859, 135664, 103226, 156758, 169930, 150348, 168830, 110600, 110130, 176527, 188268, 129907, 126999, 101662, 170258, 102613, 180512, 166799, 113817, 177671, 110178, 198528, 169349, 112221, 134244, 114281, 163088, 115339, 147681, 125969, 102916, 167366, 188155, 175171, 164649, 156820, 187801, 140165, 150956, 190058, 146101, 186136, 146684, 133986, 124278, 172089, 197991, 104127, 149407, 178404, 153473, 131484, 163271, 164961, 175050, 186316, 103018, 139427, 109056, 188119, 127991, 172508, 154710, 159996, 101136, 108821, 124117, 196074, 118641, 132068, 146846, 173439, 170561, 154339, 101295, 157227, 156739, 143130, 182054, 117609, 151712, 197984, 115169, 102019, 123399, 144426, 109613, 171493, 161109, 192726, 166548, 129244, 161754, 134980, 182117, 105386, 116489, 168979, 104932, 196079, 138737, 185410, 114465, 150487, 111158, 168687, 163252, 193230, 144258, 137812, 134419, 112349, 139157, 110039, 165369, 168100, 145820, 182947, 102625, 100215, 134774, 118720, 151129, 149759, 120953, 148350, 154504, 167226, 173591, 121516, 105245, 154857, 175234, 130023, 164055, 168598, 138165, 158625, 159241, 157044, 158151, 195458, 121316, 146474, 192553, 146736, 133854, 189382, 159603, 128210, 172088, 133456, 176354, 145729, 103237, 158276, 146223, 183701, 121574, 101921, 148764, 104430, 106899, 185262, 198132, 105017, 110086, 185518, 186211, 195890, 141825, 176449, 115450, 182849, 176998, 137690, 121027, 151801, 168904, 126879, 126268, 111274, 187339, 198607, 184760, 149949, 113344, 181085, 162429, 174359, 139070, 113457, 127637, 120221, 164038, 170911, 150806, 162963, 127517, 159839, 121994, 164630, 183809, 108562, 188227, 134250, 161845, 160041, 159212, 160934, 127164, 123543, 134143, 128388, 136659, 160164, 118854, 150516, 158470, 166088, 170375, 157422, 188358, 193431, 112679, 133482, 183011, 174348, 135644, 179636, 102541, 142427, 132393, 138219, 101299, 124277, 126935, 149638, 181409, 135549, 144902, 156324, 127263, 187268, 189587, 184880, 132442, 165474, 188820, 141758, 142645, 178126, 130957, 102535, 199046, 195748, 115915, 175736, 179114, 112508, 113695, 125502, 118770, 109635, 165809, 179324, 157942, 139284, 138017, 102873, 117940, 168161, 126090, 161362, 186684, 161687, 112686, 102715, 115841, 158759, 150092, 140166, 109818, 181458, 103446, 109242, 169251, 108851, 184690, 199742, 166418, 134467, 196043, 152883, 187296, 172485, 190015, 188304, 132584, 136473, 116972, 186242, 127963, 197071, 170628, 140122, 107431, 197310, 137919, 170640, 146137, 116884, 146682, 105003, 136424, 172278, 178787, 160002, 180732, 176047, 176814, 168421, 182186, 124878, 113626, 196453, 145495, 193818, 166034, 139318, 178708, 137725, 135263, 121528, 171904, 173136, 145159, 186894, 125486, 107349, 162633, 145476, 182238, 107499, 103219, 165246, 192055, 175028, 133566, 158809, 128116, 166145, 152852, 103708, 165472, 164455, 166889, 183148, 100561, 116358, 197144, 119047, 121383, 130094, 134439, 149165, 102204, 186629, 152212, 190570, 165266, 103440, 144548, 165555, 146371, 150711, 147128, 131246, 110353, 105983, 139926, 112287, 109722, 152925, 155419, 183333, 133042, 191005, 135524, 129917, 138523, 171828, 141900, 113607, 116543, 112325, 168788, 180103, 178705, 102396, 174347, 120292, 184200, 132953, 196758, 167160, 119398, 184997, 122116, 167336, 160189, 146292, 134885, 155715, 103704, 192081, 143409, 134394, 178459, 182206, 100943, 129975, 180050, 139580, 141483, 166995, 114337, 192304, 167591, 126134, 191665, 142486, 121289, 142856, 194397, 139199, 195384, 128156, 181736, 159033, 155290, 165644, 149498, 125385, 142712, 174921, 115396, 102298, 125979, 163620, 151111, 181236, 184424, 126586, 105248, 145434, 162285, 133967, 195774, 164906, 168288, 125785, 155605, 170495, 144556, 170494, 107381, 156179, 160476, 187447, 193892, 139858, 133383, 194370, 137857, 179017, 135672, 134497, 176551, 142925, 192009, 115297, 190498, 190129, 128364, 179559, 188971, 130710, 113651, 194870, 153969, 178985, 161427, 149408, 107047, 175201, 101117, 186754, 153703, 145585, 148017, 167274, 123804, 153384, 131328, 103844, 105916, 150731, 189380, 168505, 134977, 132418, 176670, 151118, 135001, 176834, 133253, 101018, 190431, 156433, 137236, 134466, 112769, 114712, 189346, 110990, 183493, 109134, 114109, 113616, 125448, 178949, 156779, 185895, 124860, 199264, 124771, 122472, 173784, 140368, 186645, 156288, 149807, 102063, 129846, 195871, 192435, 115122, 179056, 164631, 127852, 138440, 129034, 194204, 163165, 128262, 102589, 132172, 173596, 132152, 141667, 190010, 145621, 109917, 129142, 152951, 155940, 141860, 166460, 111970, 185910, 142807, 160481, 164853, 155897, 173177, 138376, 118936, 105694, 154943, 107880, 145674, 122609, 128219, 108295, 188256, 101148, 179315, 105452, 166305, 188399, 155972, 124271, 149648, 129886, 106296, 150352, 108911, 194340, 143334, 112976, 171178, 174925, 148312, 110233, 191682, 141626, 177171, 194246, 137370, 116367, 103472, 155327, 107882, 170452, 145576, 115545, 149601, 130411, 167213, 155563, 100262, 181075, 103870, 195211, 133648, 158767, 120522, 191344, 152051, 164142, 170261, 163526, 168503, 100863, 138064, 104271, 199286, 128609, 164691, 141600, 195962, 106767, 141320, 141560, 111612, 175734, 198028, 103873, 105525, 187675, 189402, 153413, 151872, 175586, 186547, 142815, 148771, 114467, 146215, 150628, 175858, 121909, 146882, 164191, 146011, 108250, 162098, 108723, 198612, 193058, 131236, 116346, 151791, 102458, 111936, 103678, 108540, 102809, 153477, 194687, 103405, 176606, 178183, 126981, 106218, 182355, 101444, 121550, 171217, 111365, 100160, 145005, 188082, 157632, 174523, 117058, 118815, 191159, 186230, 154711, 195382, 189051, 188017, 192753, 174479, 157104, 133155, 171620, 104311, 105158, 177047, 187312, 149844, 132428, 101232, 146557, 183478, 192401, 143574, 138877, 172739, 129945, 105566, 115520, 133914, 128059, 187111, 156954, 140032, 166923, 184822, 126841, 172326, 114726, 157872, 113744, 116284, 116659, 117307, 159872, 162070, 144187, 104215, 168888, 120511, 133778, 162768, 125807, 141808, 171254, 117027, 174129, 195555, 164846, 126904, 118662, 168835, 133303, 161878, 103303, 192317, 162623, 108240, 183108, 135772, 177589, 169533, 113611, 157999, 192349, 154442, 101544, 126989, 172573, 105118, 126138, 167980, 162979, 178063, 197512, 143281, 157537, 196785, 154438, 174753, 109202, 126258, 139229, 177901, 132516, 184421, 161207, 114303, 142787, 117676, 115221, 140811, 186951, 111651, 191469, 128254, 125247, 111268, 115820, 187861, 144463, 161583, 160514, 100498, 117694, 170781, 179428, 134370, 199943, 105931, 143327, 175009, 116522, 190465, 195935, 167115, 155011, 150309, 107365, 108160, 195800, 153264, 107139, 122846, 162329, 165276, 186086, 149388, 109908, 196951, 157650, 162324, 110745, 194188, 101886, 173681, 178876, 124162, 148864, 120524, 178797, 164560, 195517, 176306, 139020, 168864, 114436, 107462, 143957, 122999, 132170, 124383, 124837, 198464, 108279, 138550, 140833, 197496, 114944, 181712, 180216, 133203, 143152, 147237, 107312, 131669, 148677, 134759, 145599, 168229, 163816, 102108, 184459, 151195, 109309, 175566, 103317, 175793, 132228, 180054, 106140, 189024, 126358, 137280, 170984, 192196, 163428, 178351, 138336, 105361, 196156, 177791, 155880, 120294, 160097, 185601, 102557, 105742, 190809, 160080, 184648, 129279, 166784, 124063, 175757, 184074, 161885, 153334, 126427, 168834, 102256, 149582, 136509, 130259, 132178, 159335, 184557, 105354, 135251, 187879, 126635, 120116, 132750, 182589, 126726, 184259, 159032, 151003, 123912, 152622, 180830, 134731, 174406, 156002, 123172, 140838, 172522, 124458, 114264, 185890, 109022, 165271, 144190, 112190, 119670, 120118, 124601, 154344, 147702, 128158, 115247, 126990, 184896, 156868, 165293, 118137, 181082, 195197, 140431, 112566, 159874, 130750, 138179, 121196, 157250, 141603, 169078, 125343, 155601, 175154, 198630, 135273, 152712, 199622, 138045, 146444, 145949, 179765, 141327, 134480, 151490, 186807, 165508, 197887, 123359, 128612, 196904, 186638, 117599, 188519, 158847, 194910, 111063, 136739, 191117, 164963, 153396, 135367, 106277, 164070, 115932, 151874, 103908, 197250, 127224, 157465, 150084, 173921, 111312, 171681, 114825, 161311, 158346, 135934, 130989, 186417, 133339, 167296, 199384, 113708, 147891, 115026, 198323, 127206, 106689, 159041, 116482, 161395, 130366, 140244, 186589, 181669, 114939, 181631, 141426, 141958, 135482, 102507, 108422, 145875, 149439, 168039, 110348, 125138, 169579, 156448, 163871, 108368, 169635, 109291, 181105, 121505, 163221, 109236, 140204, 112631, 163591, 148143, 156844, 190361, 141804, 186838, 103889, 107414, 112040, 164562, 137490, 107524, 190934, 154448, 152771, 108232, 157559, 157282, 131024, 126403, 133883, 132192, 161710, 183628, 177739, 138049, 100419, 138842, 103210, 100654, 193068, 100062, 134761, 186729, 155244, 146036, 144768, 117170, 197006, 177408, 121782, 109066, 121041, 135421, 110364, 161140, 109208, 112425, 112214, 105665, 155554, 171977, 158868, 154108, 172180, 148664, 113595, 187178, 126054, 131719, 149196, 195303, 162930, 199855, 173988, 121492, 184568, 171473, 115114, 180735, 119064, 138444, 159952, 134010, 128421, 109633, 119180, 118904, 189637, 121539, 166898, 115218, 179914, 149758, 165422, 136806, 131539, 124700, 196983, 145134, 124382, 178164, 167813, 159990, 149415, 182455, 175798, 178900, 101216, 125303, 124721, 116807, 112082, 133275, 122900, 161389, 118470, 100834, 124320, 131652, 113421, 176558, 163733, 129231, 109483, 155928, 179891, 143056, 136302, 171847, 128165, 103794, 194197, 103366, 179498, 190727, 137127, 192703, 117923, 192031, 107515, 142641, 153370, 172077, 148102, 166107, 121938, 115180, 158403, 168881, 152254, 181556, 196568, 161153, 113798, 153637, 144636, 145212, 183486, 104850, 153113, 154423, 145688, 172439, 175505, 183664, 179756, 144854, 137976, 146944, 134853, 113806, 103660, 193938, 188386, 185392, 175278, 138961, 185185, 130051, 197031, 138859, 138629, 168130, 185758, 130589, 154215, 121698, 195693, 108746, 117076, 139884, 148744, 102438, 169428, 148675, 188605, 125327, 179408, 129486, 133080, 178189, 149447, 109243, 137638, 120994, 193677, 144023, 115867, 180858, 180901, 106278, 190600, 124709, 197482, 115671, 150501, 189994, 130680, 186995, 197897, 103248, 180241, 128541, 151652, 181563, 177891, 115263, 103297, 148529, 127409, 120149, 105411, 122449, 138665, 198515, 147133, 112439, 105679, 131399, 144498, 128111, 100375, 177759, 189483, 132349, 169938, 122098, 198741, 125206, 126949, 198503, 155005, 105405, 104229, 155412, 119529, 122928, 159243, 122936, 114574, 104641, 181572, 154723, 189982, 180751, 107930, 130029, 117247, 136682, 150512, 137645, 108154, 196034, 165614, 150081, 114160, 152457, 155234, 195579, 193924, 127455, 165133, 191743, 135188, 103905, 195552, 193631, 126051, 166761, 133766, 104315, 182552, 110407, 107828, 169557, 167331, 188755, 121203, 125314, 174626, 172194, 132881, 153042, 177060, 130290, 183010, 188355, 158676, 107500, 161092, 177421, 154543, 179565, 138159, 168601, 119533, 175567, 159805, 155854, 172130, 107232, 197390, 177406, 128647, 189174, 161335, 154361, 140342, 133568, 137047, 116480, 146051, 100814, 164955, 162989, 108797, 163654, 155894, 101721, 119849, 167847, 182425, 111095, 113137, 194784, 169487, 122594, 156425, 125391, 179176, 132046, 168019, 177694, 125222, 130429, 140887, 188783, 184977, 142348, 145044, 167826, 138702, 147720, 168094, 128595, 192133, 156336, 100488, 122879, 163956, 111783, 196078, 116974, 112123, 151558, 193130, 179635, 162933, 198151, 133248, 185755, 170583, 197861, 104457, 164427, 134094, 173048, 144557, 174274, 160746, 138314, 102196, 144409, 184613, 130557, 168294, 149299, 156574, 152375, 179805, 126233, 108829, 108599, 194773, 139484, 191184, 166554, 120303, 119696, 194883, 190681, 123820, 187452, 122270, 174424, 147822, 152651, 180744, 105537, 155250, 140526, 178299, 192859, 193397, 113044, 162524, 108817, 191049, 193073, 152865, 182580, 175810, 132957, 145722, 154259, 114340, 145571, 173773, 166371, 132432, 126774, 133652, 171856, 131308, 168201, 103287, 195743, 115833, 194217, 159488, 101380, 118672, 156344, 180623, 103503, 161639, 147721, 196168, 177767, 111686, 155137, 196700, 167381, 103141, 144198, 122982, 107476, 199597, 172946, 143768, 194776, 171718, 106422, 137241, 148450, 191830, 198707, 175512, 158238, 175063, 125819, 181699, 108841, 165729, 116867, 119643, 184269, 118237, 170060, 169279, 125235, 147119, 100797, 148651, 151471, 133166, 162844, 108977, 192384, 195214, 119621, 101794, 154300, 124663, 123524, 130212, 189655, 137772, 196692, 173613, 184058, 145852, 170498, 177724, 190685, 113326, 108299, 116597, 179363, 198476, 198511, 184142, 136529, 120636, 110603, 120946, 154927, 110857, 180475, 127462, 149996, 179285, 189117, 144516, 144079, 133713, 188037, 111159, 150433, 167222, 184732, 128603, 171645, 188411, 161990, 155044, 175912, 115433, 170248, 146480, 199394, 142063, 125818, 131862, 114997, 187523, 167820, 118258, 143031, 100237, 149684, 137607, 120094, 193181, 197410, 124288, 108181, 178047, 109007, 163640, 190392, 108198, 140018, 104642, 163721, 137454, 173446, 167606, 115362, 166169, 178618, 123267, 135312, 163658, 180878, 160403, 154608, 116816, 117398, 156377, 111581, 166178, 193559, 134590, 140783, 149302, 139464, 198418, 116990, 199788, 100117, 127495, 194727, 115276, 105534, 178732, 101381, 145485, 107708, 116858, 117635, 142861, 104752, 154566, 191832, 188371, 191173, 102628, 179377, 165426, 109927, 160882, 151892, 194741, 175251, 187698, 100229, 125239, 169619, 191355, 144708, 132237, 125778, 168396, 137332, 188907, 147982, 158400, 199716, 109580, 106583, 189034, 199681, 189150, 190054, 114709, 127677, 192621, 186637, 121169, 193914, 161015, 190454, 142163, 140996, 114904, 174778, 111687, 104643, 164202, 144559, 115662, 107629, 169319, 104214, 131088, 125925, 171145, 184674, 154089, 134562, 186999, 101020, 122435, 180799, 178010, 155705, 165720, 159708, 107681, 142184, 179811, 194564, 163787, 102790, 107604, 182811, 121459, 111874, 156292, 128195, 175525, 106862, 184381, 151539, 104187, 114533, 116149, 146342, 182731, 103245, 154720, 124497, 153746, 117106, 143293, 158183, 114862, 176434, 108407, 197910, 149029, 146162, 139553, 142504, 154582, 171395, 178564, 187183, 180905, 132507, 108445, 121843, 110720, 131104, 141257, 172021, 134471, 198829, 118878, 192793, 147327, 174703, 129123, 152262, 109285, 110436, 118982, 102399, 156400, 198426, 105557, 146738, 194560, 196887, 121614, 193644, 175933, 166956, 113549, 130391, 186751, 108982, 164772, 105131, 144766, 143930, 173101, 164974, 110255, 195476, 141243, 189309, 133974, 178109, 164234, 151114, 128643, 198383, 121197, 127102, 138411, 173311, 183206, 180135, 178195, 136026, 116746, 146109, 110135, 139336, 151926, 105093, 155341, 182902, 139288, 142226, 175476, 179589, 116431, 175081, 127310, 160321, 179687, 199256, 133190, 128140, 105261, 159570, 141570, 161984, 159694, 153774, 115952, 169824, 142533, 169434, 101598, 164530, 124045, 101291, 152937, 169217, 151927, 148295, 183330, 163048, 158039, 143986, 112078, 134654, 150506, 143569, 126237, 137730, 165494, 120197, 164287, 108635, 113885, 151231, 142153, 187907, 192134, 152853, 124212, 151110, 160382, 186521, 141869, 151622, 118959, 133358, 114624, 100804, 147371, 145710, 145717, 191595, 142170, 102487, 170613, 181716, 137018, 149094, 183093, 150809, 177917, 179019, 175847, 177498, 195697, 154107, 183147, 106487, 104006, 110999, 165752, 166658, 150976, 153898, 116879, 108693, 189545, 121774, 142013, 108031, 178725, 110546, 172111, 107755, 191763, 146627, 104196, 173656, 123291, 173283, 123329, 188895, 121726, 186303, 136635, 122159, 132470, 135961, 191968, 171888, 106839, 153723, 117258, 180572, 169724, 147256, 128359, 168434, 121214, 147927, 112840, 107593, 172298, 129654, 185644, 123204, 184534, 104361, 114198, 151701, 139562, 107045, 183887, 150051, 181295, 165333, 134456, 167935, 111558, 134879, 180900, 175360, 171106, 111434, 189365, 191637, 131421, 160411, 199336, 190595, 153858, 198978, 166475, 130613, 196688, 113905, 102622, 117600, 110730, 122811, 130570, 139341, 134188, 128532, 115155, 114824, 102532, 137891, 115762, 183777, 188512, 124336, 199584, 179519, 126075, 175529, 129984, 112075, 177271, 158539, 164511, 119172, 120216, 182981, 187176, 104715, 125347, 185882, 135505, 189697, 177086, 155584, 190981, 102352, 167309, 190619, 165977, 155547, 128694, 174727, 104503, 145500, 170846, 116240, 151980, 128512, 196628, 119502, 104397, 130655, 152446, 168214, 127431, 179384, 128823, 186599, 103828, 121770, 139037, 174056, 128817, 176501, 162875, 138131, 170645, 159602, 119884, 148445, 157548, 123200, 183250, 139263, 140506, 191554, 116181, 189932, 150175, 118901, 138161, 114092, 194363, 180620, 199919, 162083, 150497, 184993, 167667, 136953, 152825, 152516, 137960, 181562, 183921, 181737, 167394, 127160, 119608, 115278, 199617, 144664, 130938, 114911, 185350, 184899, 164583, 169387, 170135, 162302, 153843, 192795, 174445, 184905, 134794, 178293, 159459, 199900, 109697, 104041, 145855, 107938, 106349, 105450, 153559, 181101, 176284, 142080, 132006, 149974, 142591, 157621, 146046, 152983, 176676, 169250, 122413, 173894, 184694, 101904, 161799, 148790, 108890, 143123, 182479, 112909, 173985, 156494, 153760, 149207, 138385, 139778, 190230, 120312, 137561, 101991, 139974, 112963, 126305, 154868, 188912, 104329, 146721, 143545, 196162, 123318, 152100, 184246, 129493, 177351, 187366, 162416, 183801, 188535, 132070, 147234, 172927, 185941, 127683, 108568, 100253, 109253, 174975, 191356, 188632, 198847, 135336, 199807, 173271, 192029, 133076, 196194, 149010, 139583, 115583, 134852, 169594, 128014, 198633, 162680, 188392, 148052, 179247, 146288, 170431, 113522, 133242, 143278, 143817, 115711, 134823, 183577, 151245, 151851, 154671, 126384, 137658, 140605, 141776, 126944, 166812, 131728, 155456, 141506, 128785, 107893, 117806, 176919, 180239, 135260, 108343, 169980, 163446, 121097, 169378, 124628, 170106, 182536, 134984, 145644, 176734, 148392, 118187, 166419, 151949, 131647, 181523, 106806, 160416, 197209, 166483, 122507, 114834, 151038, 160461, 198453, 121295, 152735, 142161, 176257, 101896, 161597, 125010, 113186, 132316, 149107, 135810, 156788, 145202, 137329, 180416, 164539, 159757, 153169, 189820, 116987, 149313, 110750, 128290, 107819, 143826, 108085, 134315, 138666, 197151, 197244, 138598, 173153, 140363, 151976, 175357, 106115, 117305, 159597, 157471, 157301, 196562, 110513, 191086, 117539, 109340, 115642, 143170, 105013, 106220, 134747, 159524, 124911, 193439, 168082, 140747, 126115, 148365, 186897, 196654, 122100, 124166, 126391, 187571, 188722, 174943, 199582, 143025, 168967, 143183, 166466, 132004, 194574, 148638, 191645, 103253, 112027, 186963, 100641, 115787, 159774, 114138, 136124, 170171, 114179, 109204, 102205, 143444, 153892, 194424, 178757, 156143, 148990, 128381, 194645, 196634, 128473, 132107, 107281, 112671, 151376, 148765, 193521, 176779, 126722, 166673, 141938, 122701, 133417, 143179, 153489, 107286, 123036, 149801, 147012, 180782, 147137, 168972, 117030, 137662, 126083, 148267, 180490, 169196, 179902, 184721, 177523, 112446, 143757, 137482, 125102, 148979, 125681, 187624, 110355, 154784, 188623, 137423, 190207, 129061, 118247, 113662, 129783, 112344, 126042, 160907, 155944, 177746, 186198, 135175, 193704, 127757, 142512, 129463, 192996, 174199, 110664, 107553, 175355, 100859, 130893, 155093, 193527, 177036, 118078, 116199, 142915, 113452, 143884, 146053, 122074, 137187, 108784, 180846, 127201, 128822, 129538, 188188, 137926, 155131, 193099, 103667, 145075, 191492, 157971, 197833, 126101, 165684, 126534, 127663, 115054, 184375, 160045, 163407, 109863, 188176, 127135, 197957, 128078, 123040, 179148, 112754, 158552, 122404, 155091, 123997, 133123, 188216, 136496, 186902, 154476, 101820, 183106, 164610, 182296, 140642, 188816, 194453, 198736, 139787, 154353, 113012, 178873, 157185, 111806, 158027, 149764, 181461, 128828, 182434, 162600, 194307, 167838, 100074, 151964, 164825, 125169, 133572, 125755, 168398, 115381, 175488, 186324, 112913, 106327, 188853, 119793, 167012, 114540, 167408, 169114, 155826, 198205, 129373, 135406, 138279, 126362, 168975, 170070, 138952, 160354, 172968, 170962, 110499, 193753, 165983, 157443, 164712, 143753, 106466, 174835, 107163, 133035, 114529, 131050, 199655, 187423, 141072, 116089, 110793, 117860, 111353, 191794, 199557, 173351, 191698, 125308, 182764, 157648, 195616, 162594, 115371, 112865, 174736, 195934, 153158, 198390, 155509, 151888, 182644, 152022, 120394, 113310, 197898, 157222, 104566, 133225, 178494, 141174, 101813, 175448, 184811, 107136, 185631, 110646, 137253, 118310, 181529, 187047, 107467, 116081, 108259, 140816, 134413, 119913, 141318, 159299, 136365, 134768, 197098, 122378, 112476, 123110, 100174, 192032, 132598, 167673, 141387, 163622, 120273, 117699, 130999, 145129, 168016, 184071, 168657, 112074, 136095, 185790, 182691, 168829, 193876, 169880, 190484, 130177, 110583, 186253, 125926, 195738, 131931, 179848, 107831, 137939, 164816, 198739, 145333, 175616, 167343, 197728, 149969, 180561, 195013, 119972, 188217, 194861, 146844, 160630, 101090, 179667, 177613, 195415, 133202, 158163, 149065, 178464, 135650, 135454, 194493, 161213, 160997, 146716, 130855, 146362, 149230, 198656, 167618, 110492, 195794, 121857, 179136, 113249, 193866, 148860, 177506, 116756, 109449, 126013, 188434, 151116, 120626, 156290, 126565, 187065, 168762, 169960, 164384, 194590, 173576, 165406, 181376, 164566, 183617, 141976, 164424, 160035, 165367, 139832, 114768, 190940, 178308, 156864, 154335, 109151, 117065, 178947, 170826, 115071, 106058, 119581, 118311, 163375, 164167, 129650, 150194, 116016, 137284, 125067, 182126, 168380, 181443, 159582, 127652, 101160, 129317, 135705, 110124, 191328, 166083, 135227, 154213, 141362, 156803, 100995, 160349, 163573, 104043, 156515, 110347, 108409, 146605, 143342, 157345, 159383, 187735, 184910, 181720, 191060, 169327, 142598, 129474, 155901, 180313, 182610, 148141, 177175, 109430, 152652, 137521, 181250, 119575, 174649, 132527, 129020, 119081, 182822, 167548, 118513, 103192, 163068, 190604, 141115, 115391, 152227, 116772, 145259, 152287, 185056, 181745, 118804, 105336, 103306, 127847, 117534, 128443, 188161, 163500, 111544, 169632, 152982, 145114, 179090, 161564, 116532, 180321, 135392, 150345, 185407, 188706, 172409, 104948, 154148, 126060, 171455, 160574, 190624, 160550, 141623, 152775, 199547, 166246, 134857, 131435, 152773, 113891, 165580, 100328, 195592, 187637, 123414, 131510, 169649, 117448, 121871, 164686, 178941, 146546, 184564, 171043, 157252, 198526, 175694, 152118, 132490, 130980, 133894, 119494, 141249, 173666, 115686, 171317, 180780, 119561, 121645, 164766, 106900, 165822, 182530, 121786, 102051, 188649, 106358, 181115, 130724, 136911, 178931, 159198, 119591, 135397, 114524, 191746, 132669, 150850, 194090, 131762, 133975, 187708, 192116, 181651, 140765, 151234, 123051, 176815, 170971, 120334, 167515, 119226, 184324, 119429, 123675, 167392, 197541, 164795, 191230, 100282, 178662, 170021, 105529, 165079, 107589, 180067, 198497, 187159, 196137, 171233, 173392, 163351, 123601, 182652, 169831, 162156, 165282, 164022, 180652, 195623, 178607, 106662, 184018, 185368, 118793, 155151, 135968, 189094, 194740, 101033, 121264, 111453, 195982, 106026, 185476, 161503, 177889, 184950, 181524, 198085, 121710, 155184, 127042, 158665, 138125, 177493, 172087, 116091, 159681, 179426, 131700, 141161, 134738, 186882, 169535, 188849, 105833, 188499, 198414, 116133, 162283, 149145, 140205, 187564, 162592, 190313, 131426, 185865, 123012, 128863, 158766, 153432, 159693, 166271, 111440, 149103, 115491, 144915, 125312, 188587, 117655, 152105, 156527, 119862, 133999, 159606, 147991, 152311, 118491, 125380, 151338, 191100, 149115, 152133, 148697, 105874, 105207, 171138, 171790, 161808, 150117, 184331, 133220, 104202, 161214, 147092, 112353, 136581, 154445, 113115, 100326, 159164, 127412, 136977, 198333, 185638, 150568, 163974, 101264, 139212, 170840, 146380, 161625, 141691, 150895, 162017, 149133, 151069, 123303, 119256, 106860, 168138, 129817, 123147, 111585, 132026, 179948, 154851, 156689, 118666, 197167, 152337, 121318, 110739, 126015, 153669, 186239, 190862, 185874, 196589, 139712, 168271, 180051, 149530, 163205, 162969, 168079, 163305, 198480, 180396, 172044, 173826, 175379, 160208, 143475, 149365, 113032, 159047, 129002, 192462, 131151, 155524, 158053, 139796, 114677, 189288, 151424, 126313, 192466, 182072, 124482, 136915, 149625, 118249, 186098, 140910, 155235, 122493, 147257, 161204, 127108, 126246, 129119, 177474, 163362, 188769, 110042, 138604, 111043, 172586, 134301, 180922, 121878, 171542, 115262, 184168, 172232, 179631, 195184, 160695, 156834, 119385, 127506, 137430, 127815, 103487, 131346, 183834, 137386, 131621, 134537, 149732, 151336, 149008, 164098, 169409, 167951, 162512, 194788, 137869, 162023, 156099, 179696, 149549, 199250, 142432, 130076, 106152, 171629, 125414, 156837, 195466, 134715, 165719, 134994, 142961, 186358, 161382, 192467, 148470, 135332, 196151, 125325, 140183, 151135, 182532, 131525, 113437, 142684, 109485, 128184, 124485, 145307, 162514, 125449, 176016, 181361, 124066, 101361, 176123, 117105, 124083, 174038, 181378, 170865, 108873, 130681, 166058, 107683, 149465, 119519, 162174, 113129, 112326, 116960, 167098, 153826, 173269, 190524, 142636, 174758, 162525, 157330, 177143, 127008, 121758, 125013, 128326, 189505, 126844, 156024, 115693, 121292, 170297, 162397, 113295, 151798, 124522, 151838, 110230, 146668, 190666, 142241, 119445, 109965, 177704, 163820, 100877, 101779, 171583, 165017, 179764, 197786, 155297, 154308, 120698, 179418, 118091, 176653, 127414, 120663, 148784, 114325, 182705, 143264, 176920, 163366, 147123, 156517, 133249, 145257, 145392, 143416, 103674, 165212, 111196, 144244, 197558, 127104, 193848, 100659, 145305, 126474, 137090, 188308, 169737, 131262, 112991, 163009, 175409, 142185, 110512, 142065, 149237, 114016, 161669, 157618, 114737, 139333, 120045, 148720, 176832, 179771, 169324, 199534, 177240, 153225, 147569, 148290, 160676, 184214, 164163, 108045, 120290, 133570, 166166, 104595, 173885, 197321, 168567, 129810, 127115, 110159, 134345, 176336, 133614, 180414, 132582, 155531, 130611, 136210, 167356, 100263, 137302, 182035, 186781, 176069, 138864, 190327, 170501, 134344, 148483, 158604, 133088, 115519, 165594, 188571, 121305, 150129, 178455, 140377, 175115, 182342, 123360, 132274, 169804, 147727, 177768, 173112, 190677, 192382, 132553, 113312, 111846, 122513, 180997, 163189, 183659, 118704, 125479, 151996, 172104, 101062, 160054, 149611, 158278, 198252, 190796, 103379, 142887, 176093, 148749, 199779, 142646, 174245, 197638, 110002, 147673, 173864, 111053, 135139, 115393, 131738, 112220, 164156, 142986, 193944, 161002, 134115, 173980, 165894, 133219, 150789, 144207, 109381, 108729, 141047, 170515, 159140, 137003, 126712, 158550, 144435, 134182, 190393, 142899, 131708, 125824, 139755, 129372, 192003, 138145, 141317, 102047, 183275, 133209, 141689, 188950, 158326, 130491, 112342, 154386, 122348, 113533, 194844, 120323, 105285, 108652, 171674, 111955, 118139, 162739, 110559, 159857, 196067, 148473, 125021, 106517, 156728, 145431, 118057, 137143, 119807, 184772, 118701, 100234, 119492, 112313, 120182, 147997, 177563, 119174, 134778, 132034, 123426, 182359, 143320, 185976, 119832, 170249, 103146, 132509, 163168, 100227, 141813, 159957, 152264, 181656, 138532, 121581, 194859, 176776, 187921, 167609, 197799, 195467, 170469, 132862, 157663, 191115, 193364, 132621, 156152, 177409, 147884, 184970, 144092, 106446, 186209, 190481, 175524, 119836, 156046, 186286, 152010, 155308, 166123, 122123, 110630, 133083, 168262, 199418, 199393, 197562, 147724, 157735, 125701, 100223, 185715, 129934, 187850, 156670, 108647, 180158, 129058, 163903, 183246, 117512, 152028, 123826, 153794, 183942, 102529, 109829, 182202, 104252, 134064, 160291, 180865, 195302, 197326, 158471, 142565, 104616, 150503, 163900, 192580, 151224, 194006, 110520, 175583, 122926, 169129, 138866, 140497, 119060, 170225, 126688, 176342, 153036, 184951, 188356, 139969, 111504, 145740, 140593, 195060, 109695, 126815, 119016, 148572, 164885, 149557, 104005, 127691, 162204, 126244, 132104, 121846, 135280, 108774, 108400, 174164, 183153, 161449, 118008, 135223, 191305, 193216, 170748, 112375, 147438, 101553, 144510, 184409, 187411, 164065, 103584, 148383, 150533, 198460, 181976, 126716, 172568, 129914, 196023, 121915, 102821, 153059, 131203, 168867, 108833, 109495, 109909, 126011, 124181, 119029, 100357, 187913, 186864, 151707, 191708, 115661, 170461, 154022, 196834, 112203, 126477, 126773, 160781, 165056, 108149, 196850, 160285, 194151, 191217, 135522, 180551, 116770, 120924, 105519, 114246, 125506, 169374, 111057, 137406, 185208, 184917, 163361, 144067, 164256, 170191, 102064, 100350, 193011, 116966, 113664, 137245, 181779, 103947, 163960, 190062, 137556, 190039, 159695, 100118, 113594, 137876, 164843, 126111, 166307, 132336, 179240, 177937, 197483, 196206, 120167, 115300, 171931, 192936, 166336, 176143, 160813, 167116, 195682, 127469, 133224, 150152, 137133, 135938, 178140, 195612, 168951, 145733, 184751, 124231, 111369, 147134, 149372, 102247, 116287, 130431, 136408, 121340, 146220, 129536, 180117, 132371, 176324, 121242, 119198, 121579, 175676, 129916, 126378, 196649, 171971, 141855, 118379, 143885, 157029, 172462, 143886, 111144, 139660, 199699, 143996, 181414, 153185, 138258, 155513, 154500, 179616, 108052, 130975, 136013, 195483, 151829, 154294, 122883, 178636, 110458, 134025, 130701, 166032, 184654, 120319, 190579])"
      ]
     },
     "execution_count": 215,
     "metadata": {},
     "output_type": "execute_result"
    }
   ],
   "source": [
    "train_lab_event.keys()"
   ]
  },
  {
   "cell_type": "code",
   "execution_count": 216,
   "metadata": {},
   "outputs": [
    {
     "data": {
      "text/plain": [
       "546"
      ]
     },
     "execution_count": 216,
     "metadata": {},
     "output_type": "execute_result"
    }
   ],
   "source": [
    "len(train_vasopressin)"
   ]
  },
  {
   "cell_type": "code",
   "execution_count": 217,
   "metadata": {},
   "outputs": [
    {
     "data": {
      "text/plain": [
       "4125"
      ]
     },
     "execution_count": 217,
     "metadata": {},
     "output_type": "execute_result"
    }
   ],
   "source": [
    "len(train_lab_event)"
   ]
  },
  {
   "cell_type": "code",
   "execution_count": 218,
   "metadata": {},
   "outputs": [
    {
     "data": {
      "text/plain": [
       "2077"
      ]
     },
     "execution_count": 218,
     "metadata": {},
     "output_type": "execute_result"
    }
   ],
   "source": [
    "len(train_fluids)"
   ]
  },
  {
   "cell_type": "code",
   "execution_count": 219,
   "metadata": {},
   "outputs": [
    {
     "data": {
      "text/plain": [
       "4125"
      ]
     },
     "execution_count": 219,
     "metadata": {},
     "output_type": "execute_result"
    }
   ],
   "source": [
    "len(train_lab_event)"
   ]
  },
  {
   "cell_type": "code",
   "execution_count": 220,
   "metadata": {},
   "outputs": [
    {
     "data": {
      "text/plain": [
       "546"
      ]
     },
     "execution_count": 220,
     "metadata": {},
     "output_type": "execute_result"
    }
   ],
   "source": [
    "len(train_vasopressin)"
   ]
  },
  {
   "cell_type": "code",
   "execution_count": 221,
   "metadata": {},
   "outputs": [
    {
     "data": {
      "text/plain": [
       "2082"
      ]
     },
     "execution_count": 221,
     "metadata": {},
     "output_type": "execute_result"
    }
   ],
   "source": [
    "len(train_vitals)"
   ]
  },
  {
   "cell_type": "code",
   "execution_count": 222,
   "metadata": {},
   "outputs": [
    {
     "data": {
      "text/plain": [
       "120"
      ]
     },
     "execution_count": 222,
     "metadata": {},
     "output_type": "execute_result"
    }
   ],
   "source": [
    "len(train_lab_event[102019])"
   ]
  },
  {
   "cell_type": "code",
   "execution_count": 223,
   "metadata": {},
   "outputs": [
    {
     "name": "stdout",
     "output_type": "stream",
     "text": [
      "Difference for hadm_id 144435:\t1\n",
      "Difference for hadm_id 189288:\t1\n",
      "Difference for hadm_id 196043:\t1\n"
     ]
    }
   ],
   "source": [
    "for hadm_id in train_vasopressin.keys():\n",
    "    if hadm_id in train_lab_event.keys():\n",
    "        diff = len(train_vasopressin[hadm_id]) - len(train_lab_event[hadm_id])\n",
    "        if diff != 0:\n",
    "            print(\"Difference for hadm_id %d:\\t%d\" % (hadm_id, diff))"
   ]
  },
  {
   "cell_type": "code",
   "execution_count": 225,
   "metadata": {},
   "outputs": [
    {
     "name": "stdout",
     "output_type": "stream",
     "text": [
      "100326 has different length timesteps\n",
      "Length of Vitals: \t 27\n",
      "Length of Lab Event: \t 26\n",
      "108873 has different length timesteps\n",
      "Length of Vitals: \t 138\n",
      "Length of Lab Event: \t 137\n",
      "110084 is missing in the lab event data\n",
      "119060 has different length timesteps\n",
      "Length of Vitals: \t 11\n",
      "Length of Lab Event: \t 10\n",
      "125785 has different length timesteps\n",
      "Length of Vitals: \t 62\n",
      "Length of Lab Event: \t 61\n",
      "127122 is missing in the lab event data\n",
      "128262 has different length timesteps\n",
      "Length of Vitals: \t 60\n",
      "Length of Lab Event: \t 59\n",
      "132104 has different length timesteps\n",
      "Length of Vitals: \t 185\n",
      "Length of Lab Event: \t 184\n",
      "134497 has different length timesteps\n",
      "Length of Vitals: \t 56\n",
      "Length of Lab Event: \t 55\n",
      "138301 is missing in the lab event data\n",
      "138376 has different length timesteps\n",
      "Length of Vitals: \t 190\n",
      "Length of Lab Event: \t 189\n",
      "144435 has different length timesteps\n",
      "Length of Vitals: \t 518\n",
      "Length of Lab Event: \t 517\n",
      "146708 is missing in the lab event data\n",
      "147884 has different length timesteps\n",
      "Length of Vitals: \t 70\n",
      "Length of Lab Event: \t 69\n",
      "152550 is missing in the lab event data\n",
      "172088 has different length timesteps\n",
      "Length of Vitals: \t 13\n",
      "Length of Lab Event: \t 12\n",
      "173136 has different length timesteps\n",
      "Length of Vitals: \t 561\n",
      "Length of Lab Event: \t 560\n",
      "183388 is missing in the lab event data\n",
      "189288 has different length timesteps\n",
      "Length of Vitals: \t 140\n",
      "Length of Lab Event: \t 139\n",
      "196043 has different length timesteps\n",
      "Length of Vitals: \t 158\n",
      "Length of Lab Event: \t 157\n",
      "\n",
      "Total keys checked:\t2082\n",
      "Total discrepancies:\t20\n"
     ]
    }
   ],
   "source": [
    "errors = 0;\n",
    "for hadm_id in train_vitals.keys():\n",
    "    if hadm_id in train_lab_event.keys():\n",
    "        diff = len(train_lab_event[hadm_id]) - len(train_vitals[hadm_id]['bp_diastolic'])\n",
    "        if diff != 0:\n",
    "            print(\"%d has different length timesteps\" % hadm_id)\n",
    "            print(\"Length of Vitals: \\t %d\" % len(train_vitals[hadm_id]['bp_diastolic']))\n",
    "            print(\"Length of Lab Event: \\t %d\" % len(train_lab_event[hadm_id]))\n",
    "            errors = errors + 1\n",
    "    else:\n",
    "        print(\"%d is missing in the lab event data\" % hadm_id)\n",
    "        errors = errors + 1\n",
    "        \n",
    "print(\"\\nTotal keys checked:\\t%d\" % len(train_vitals.keys()))\n",
    "print(\"Total discrepancies:\\t%d\" % errors)"
   ]
  },
  {
   "cell_type": "code",
   "execution_count": 226,
   "metadata": {},
   "outputs": [],
   "source": [
    "vitals_ad = train_vitals.keys()\n",
    "fluids_ad = train_fluids.keys()\n",
    "lab_event_ad = train_lab_event.keys()\n",
    "\n",
    "valid_hadm_id = {''}\n",
    "for leKey in lab_event_ad:\n",
    "    if leKey in vitals_ad and leKey in fluids_ad:\n",
    "        valid_hadm_id.add(leKey)\n",
    "valid_hadm_id.remove('')"
   ]
  },
  {
   "cell_type": "code",
   "execution_count": 227,
   "metadata": {},
   "outputs": [
    {
     "data": {
      "text/plain": [
       "2070"
      ]
     },
     "execution_count": 227,
     "metadata": {},
     "output_type": "execute_result"
    }
   ],
   "source": [
    "len(valid_hadm_id)"
   ]
  },
  {
   "cell_type": "code",
   "execution_count": null,
   "metadata": {},
   "outputs": [],
   "source": [
    "# New feature vector per time step:\n",
    "# lab event feature : 57 floats\n",
    "# vital : 'bp_diastolic'\n",
    "# vital : 'bp_mean'\n",
    "# vital : 'bp_systolic'\n",
    "# vital : 'temperature'\n",
    "# vital : 'hr'\n",
    "\n"
   ]
  },
  {
   "cell_type": "code",
   "execution_count": 228,
   "metadata": {},
   "outputs": [],
   "source": [
    "unique_keys = {''}\n",
    "for hadm_id in train_vitals:\n",
    "    for vital in train_vitals[hadm_id]:\n",
    "        unique_keys.add(vital)\n",
    "unique_keys.remove('')"
   ]
  },
  {
   "cell_type": "code",
   "execution_count": 229,
   "metadata": {},
   "outputs": [
    {
     "data": {
      "text/plain": [
       "{'bp_diastolic', 'bp_mean', 'bp_systolic', 'hr', 'temperature'}"
      ]
     },
     "execution_count": 229,
     "metadata": {},
     "output_type": "execute_result"
    }
   ],
   "source": [
    "unique_keys"
   ]
  },
  {
   "cell_type": "markdown",
   "metadata": {},
   "source": [
    "## def combineFeatures(hadm_id):\n",
    "    vitals = {'bp_diastolic', 'bp_mean', 'bp_systolic', 'temperature' , 'hr'}\n",
    "    patient = train_lab_event[hadm_id]\n",
    "    vital_data = np.empty((5,))\n",
    "    for i in range(len(patient)):\n",
    "        vital_row = np.empty(5,)\n",
    "        for j, v in enumerate(vitals):\n",
    "            try:\n",
    "                vital_row[j] = train_vitals[hadm_id][v][i]\n",
    "            except:\n",
    "                vital_row[j] = np.nan\n",
    "        if i == 0:\n",
    "            vital_data = vital_row\n",
    "        else:\n",
    "            vital_data = np.vstack((vital_data, vital_row))\n",
    "    if vital_data.ndim != 1:\n",
    "        return np.hstack((train_lab_event[hadm_id], vital_data))\n",
    "    else:\n",
    "        return np.append(train_lab_event[hadm_id], vital_data)"
   ]
  },
  {
   "cell_type": "code",
   "execution_count": 207,
   "metadata": {},
   "outputs": [
    {
     "data": {
      "text/plain": [
       "57"
      ]
     },
     "execution_count": 207,
     "metadata": {},
     "output_type": "execute_result"
    }
   ],
   "source": [
    "len(train_lab_event[100223][0])"
   ]
  },
  {
   "cell_type": "code",
   "execution_count": 241,
   "metadata": {
    "scrolled": true
   },
   "outputs": [],
   "source": [
    "train_merged = {}\n",
    "for hadm_id in valid_hadm_id:\n",
    "    train_merged[hadm_id] = combineFeatures(hadm_id)"
   ]
  },
  {
   "cell_type": "code",
   "execution_count": 242,
   "metadata": {},
   "outputs": [],
   "source": [
    "for key in train_merged:\n",
    "    if train_merged[key].ndim != 1:\n",
    "        if train_merged[key].shape[1] != 62:\n",
    "            print(\"2D array wrong size: \" + str(train_merged[key].shape))\n",
    "    else:\n",
    "        if len(train_merged[key]) != 62:\n",
    "            print(\"1D array wrong size: %d\", len(train_merged[key]))"
   ]
  },
  {
   "cell_type": "code",
   "execution_count": 243,
   "metadata": {},
   "outputs": [],
   "source": [
    "with open('training_set.pkl', 'wb') as f:\n",
    "    pickle.dump(train_merged, f)"
   ]
  },
  {
   "cell_type": "markdown",
   "metadata": {},
   "source": [
    "# Label Fixing:\n",
    "Verifying that a label exists per data point, and in the case that they dont, zero's are added as vasopressin and fluids as missing cases means that nothing was administered"
   ]
  },
  {
   "cell_type": "code",
   "execution_count": 3,
   "metadata": {},
   "outputs": [],
   "source": [
    "with open('training_set.pkl', 'rb') as f:\n",
    "    train_set = pickle.load(f)"
   ]
  },
  {
   "cell_type": "code",
   "execution_count": 4,
   "metadata": {},
   "outputs": [
    {
     "ename": "NameError",
     "evalue": "name 'train_vasopressin' is not defined",
     "output_type": "error",
     "traceback": [
      "\u001b[0;31m---------------------------------------------------------------------------\u001b[0m",
      "\u001b[0;31mNameError\u001b[0m                                 Traceback (most recent call last)",
      "\u001b[0;32m<ipython-input-4-0b8a1b636f32>\u001b[0m in \u001b[0;36m<module>\u001b[0;34m\u001b[0m\n\u001b[0;32m----> 1\u001b[0;31m \u001b[0mlen\u001b[0m\u001b[0;34m(\u001b[0m\u001b[0mtrain_vasopressin\u001b[0m\u001b[0;34m)\u001b[0m\u001b[0;34m\u001b[0m\u001b[0;34m\u001b[0m\u001b[0m\n\u001b[0m",
      "\u001b[0;31mNameError\u001b[0m: name 'train_vasopressin' is not defined"
     ]
    }
   ],
   "source": [
    "len(train_vasopressin)"
   ]
  },
  {
   "cell_type": "code",
   "execution_count": 7,
   "metadata": {},
   "outputs": [
    {
     "data": {
      "text/plain": [
       "2077"
      ]
     },
     "execution_count": 7,
     "metadata": {},
     "output_type": "execute_result"
    }
   ],
   "source": [
    "len(train_fluids)"
   ]
  },
  {
   "cell_type": "code",
   "execution_count": 5,
   "metadata": {},
   "outputs": [
    {
     "data": {
      "text/plain": [
       "2070"
      ]
     },
     "execution_count": 5,
     "metadata": {},
     "output_type": "execute_result"
    }
   ],
   "source": [
    "len(train_set)"
   ]
  },
  {
   "cell_type": "code",
   "execution_count": 9,
   "metadata": {},
   "outputs": [
    {
     "data": {
      "text/plain": [
       "(128, 62)"
      ]
     },
     "execution_count": 9,
     "metadata": {},
     "output_type": "execute_result"
    }
   ],
   "source": [
    "train_set[100223].shape"
   ]
  },
  {
   "cell_type": "code",
   "execution_count": 10,
   "metadata": {},
   "outputs": [],
   "source": [
    "y_fluids = {}\n",
    "for hadm_id in train_set.keys():\n",
    "    if hadm_id not in train_fluids.keys():\n",
    "        print(\"Missing \" + str(hadm_id) + \" in train_fluids\")\n",
    "    else:\n",
    "        y_fluids[hadm_id] = train_fluids[hadm_id]"
   ]
  },
  {
   "cell_type": "code",
   "execution_count": 11,
   "metadata": {},
   "outputs": [],
   "source": [
    "y_vasopressin = {}\n",
    "for hadm_id in train_set.keys():\n",
    "    if hadm_id in train_vasopressin.keys():\n",
    "        y_vasopressin[hadm_id] = train_vasopressin[hadm_id]\n",
    "    else:\n",
    "        y_vasopressin[hadm_id] = np.zeros((train_set[hadm_id].shape[0],), dtype=np.float64)"
   ]
  },
  {
   "cell_type": "code",
   "execution_count": 12,
   "metadata": {},
   "outputs": [],
   "source": [
    "with open('y_fluids.pkl', 'wb') as f:\n",
    "    pickle.dump(y_fluids, f)\n",
    "\n",
    "with open('y_vasopressin.pkl', 'wb') as f:\n",
    "    pickle.dump(y_vasopressin, f)"
   ]
  },
  {
   "cell_type": "code",
   "execution_count": 13,
   "metadata": {},
   "outputs": [
    {
     "data": {
      "text/plain": [
       "2070"
      ]
     },
     "execution_count": 13,
     "metadata": {},
     "output_type": "execute_result"
    }
   ],
   "source": [
    "len(y_fluids)"
   ]
  },
  {
   "cell_type": "markdown",
   "metadata": {},
   "source": [
    "# Model Implementation\n",
    "\n",
    "Since our data is time-series, we will be using an RNN and LSTM to try and predict whether vasopressin was administered and how much fluid was drained."
   ]
  },
  {
   "cell_type": "code",
   "execution_count": 14,
   "metadata": {},
   "outputs": [],
   "source": [
    "# Getting maximum hospital stay over dataset\n",
    "max_time = 0\n",
    "for hadm_id in train_set.keys():\n",
    "    if len(train_set[hadm_id]) > max_time:\n",
    "        second_max = max_time\n",
    "        max_time = len(train_set[hadm_id])\n",
    "        "
   ]
  },
  {
   "cell_type": "code",
   "execution_count": 15,
   "metadata": {},
   "outputs": [],
   "source": [
    "import matplotlib.pyplot as plt\n",
    "from sklearn.linear_model import LogisticRegression\n",
    "\n"
   ]
  },
  {
   "cell_type": "code",
   "execution_count": 16,
   "metadata": {},
   "outputs": [],
   "source": [
    "col = [\"hadm_id\", \"sex\", \"age\"]\n",
    "demographic_data = pd.read_csv(\"demographics.csv\", names = col)\n",
    "\n",
    "with open(\"elixhauser_score.pkl\", \"rb\") as f:\n",
    "    train_elixhauser_score = pickle.load(f)"
   ]
  },
  {
   "cell_type": "code",
   "execution_count": 17,
   "metadata": {},
   "outputs": [],
   "source": [
    "demographic_data = demographic_data.set_index(\"hadm_id\")"
   ]
  },
  {
   "cell_type": "code",
   "execution_count": 18,
   "metadata": {},
   "outputs": [
    {
     "data": {
      "text/html": [
       "<div>\n",
       "<style scoped>\n",
       "    .dataframe tbody tr th:only-of-type {\n",
       "        vertical-align: middle;\n",
       "    }\n",
       "\n",
       "    .dataframe tbody tr th {\n",
       "        vertical-align: top;\n",
       "    }\n",
       "\n",
       "    .dataframe thead th {\n",
       "        text-align: right;\n",
       "    }\n",
       "</style>\n",
       "<table border=\"1\" class=\"dataframe\">\n",
       "  <thead>\n",
       "    <tr style=\"text-align: right;\">\n",
       "      <th></th>\n",
       "      <th>sex</th>\n",
       "      <th>age</th>\n",
       "    </tr>\n",
       "    <tr>\n",
       "      <th>hadm_id</th>\n",
       "      <th></th>\n",
       "      <th></th>\n",
       "    </tr>\n",
       "  </thead>\n",
       "  <tbody>\n",
       "    <tr>\n",
       "      <th>185910</th>\n",
       "      <td>M</td>\n",
       "      <td>76</td>\n",
       "    </tr>\n",
       "    <tr>\n",
       "      <th>145674</th>\n",
       "      <td>M</td>\n",
       "      <td>63</td>\n",
       "    </tr>\n",
       "    <tr>\n",
       "      <th>122609</th>\n",
       "      <td>M</td>\n",
       "      <td>64</td>\n",
       "    </tr>\n",
       "    <tr>\n",
       "      <th>142807</th>\n",
       "      <td>F</td>\n",
       "      <td>0</td>\n",
       "    </tr>\n",
       "    <tr>\n",
       "      <th>160481</th>\n",
       "      <td>F</td>\n",
       "      <td>0</td>\n",
       "    </tr>\n",
       "    <tr>\n",
       "      <th>...</th>\n",
       "      <td>...</td>\n",
       "      <td>...</td>\n",
       "    </tr>\n",
       "    <tr>\n",
       "      <th>134977</th>\n",
       "      <td>M</td>\n",
       "      <td>46</td>\n",
       "    </tr>\n",
       "    <tr>\n",
       "      <th>186754</th>\n",
       "      <td>F</td>\n",
       "      <td>84</td>\n",
       "    </tr>\n",
       "    <tr>\n",
       "      <th>168288</th>\n",
       "      <td>M</td>\n",
       "      <td>69</td>\n",
       "    </tr>\n",
       "    <tr>\n",
       "      <th>153703</th>\n",
       "      <td>M</td>\n",
       "      <td>70</td>\n",
       "    </tr>\n",
       "    <tr>\n",
       "      <th>141860</th>\n",
       "      <td>F</td>\n",
       "      <td>80</td>\n",
       "    </tr>\n",
       "  </tbody>\n",
       "</table>\n",
       "<p>4137 rows × 2 columns</p>\n",
       "</div>"
      ],
      "text/plain": [
       "        sex  age\n",
       "hadm_id         \n",
       "185910    M   76\n",
       "145674    M   63\n",
       "122609    M   64\n",
       "142807    F    0\n",
       "160481    F    0\n",
       "...      ..  ...\n",
       "134977    M   46\n",
       "186754    F   84\n",
       "168288    M   69\n",
       "153703    M   70\n",
       "141860    F   80\n",
       "\n",
       "[4137 rows x 2 columns]"
      ]
     },
     "execution_count": 18,
     "metadata": {},
     "output_type": "execute_result"
    }
   ],
   "source": [
    "demographic_data"
   ]
  },
  {
   "cell_type": "code",
   "execution_count": 19,
   "metadata": {},
   "outputs": [
    {
     "data": {
      "text/plain": [
       "4137"
      ]
     },
     "execution_count": 19,
     "metadata": {},
     "output_type": "execute_result"
    }
   ],
   "source": [
    "len(train_elixhauser_score)"
   ]
  },
  {
   "cell_type": "code",
   "execution_count": 20,
   "metadata": {},
   "outputs": [
    {
     "data": {
      "text/plain": [
       "dict_keys([122883, 172044, 188434, 139284, 122900, 106517, 114712, 188451, 114726, 196649, 131118, 122926, 114737, 139318, 172088, 172089, 163900, 155715, 139333, 172104, 172111, 131151, 131162, 114783, 180321, 131184, 147569, 155768, 163960, 131203, 188553, 114831, 114838, 196758, 188571, 139427, 188587, 180396, 131246, 155832, 131262, 180414, 180416, 196803, 164038, 172232, 155851, 188623, 106711, 164055, 147673, 114911, 147681, 164065, 196834, 123110, 155880, 188649, 131308, 196850, 172278, 155894, 155897, 114939, 131328, 164098, 147721, 172298, 123147, 147724, 147727, 131346, 180499, 172309, 180512, 188706, 155940, 139580, 164156, 139583, 123200, 164163, 123204, 180551, 188769, 106860, 106862, 115054, 123252, 156024, 115071, 106883, 139660, 156046, 131471, 106899, 188820, 106900, 172439, 131484, 164256, 180652, 147884, 172462, 188849, 115122, 131510, 180663, 147901, 139712, 156099, 172485, 131525, 147914, 197071, 115152, 172508, 123360, 115169, 139755, 188912, 156152, 180732, 147974, 123399, 139787, 156179, 139796, 123414, 188950, 197144, 172568, 147997, 123426, 131621, 107047, 107049, 172586, 188971, 115247, 197167, 148017, 115262, 139858, 148052, 123482, 148062, 115297, 115300, 164455, 189034, 131700, 189049, 180858, 131708, 156288, 180865, 115339, 139926, 131738, 156324, 189094, 148141, 131762, 123572, 115381, 180922, 164539, 197310, 115393, 139969, 172739, 115396, 197321, 197326, 107225, 164583, 156399, 107251, 172789, 197370, 115450, 180997, 156425, 164620, 156433, 164630, 164631, 123675, 164649, 115519, 148290, 156500, 107349, 115545, 140122, 181085, 156517, 189288, 197483, 140140, 156527, 107381, 123768, 181115, 148350, 140165, 140166, 107414, 197531, 123804, 164766, 148383, 189346, 107431, 172968, 123820, 123826, 197558, 132026, 197562, 189378, 132034, 189380, 189382, 107462, 140233, 115661, 156625, 123859, 132068, 115686, 107499, 164843, 115693, 164846, 156655, 181236, 148470, 148473, 156670, 148483, 197638, 132104, 156689, 164885, 107543, 164906, 140342, 132152, 173112, 156728, 173121, 189505, 156739, 140363, 132172, 173136, 140368, 156758, 140377, 148572, 164961, 156779, 181361, 181366, 115833, 181376, 115841, 140431, 148625, 189587, 156820, 165017, 197786, 132255, 181409, 156834, 124066, 107683, 156837, 181414, 197799, 115882, 132274, 124083, 156856, 148664, 156864, 165056, 181443, 115915, 140497, 181458, 124117, 173269, 189655, 140505, 197870, 148720, 132336, 165107, 148749, 156947, 181524, 124181, 132371, 181529, 148764, 148765, 132393, 107820, 148784, 140593, 124212, 107832, 116027, 132418, 124231, 132433, 132442, 165212, 197984, 140642, 157029, 124262, 197991, 197999, 157044, 124277, 124278, 116091, 165246, 173439, 124288, 132488, 165266, 181651, 181655, 165271, 181656, 132507, 132509, 107938, 116133, 140719, 198070, 198085, 148937, 132553, 181712, 140765, 132582, 132584, 198132, 132598, 165367, 165369, 173568, 189952, 157185, 108045, 132621, 116240, 149008, 181779, 108052, 173591, 173596, 165405, 157213, 157227, 173613, 190006, 190010, 149051, 190015, 116287, 124482, 157255, 173651, 190039, 165472, 165474, 190058, 124522, 198252, 140910, 190062, 108149, 116346, 149115, 165503, 149123, 116358, 149133, 108174, 116367, 157330, 165533, 157345, 198316, 149165, 190129, 165555, 173755, 116413, 165580, 124621, 173784, 181976, 165594, 116460, 157422, 173812, 149237, 108279, 141047, 132862, 173826, 100104, 116489, 165644, 182035, 100117, 100118, 157471, 173860, 182054, 173864, 116532, 149302, 108343, 182072, 198460, 173885, 116543, 198464, 182083, 190279, 198480, 165719, 149337, 132953, 173921, 124771, 182117, 108400, 182133, 149365, 100215, 190327, 149372, 198526, 100223, 198528, 100227, 100234, 173980, 149407, 149408, 173988, 100263, 182186, 165809, 133042, 157618, 190393, 182202, 124860, 182206, 165822, 165830, 124878, 198607, 149460, 133076, 174038, 149465, 133083, 108509, 182238, 190431, 133088, 157663, 100325, 198630, 100326, 141292, 157688, 174073, 149498, 100347, 100350, 141317, 190470, 165894, 100357, 190481, 108562, 116756, 149530, 116768, 190498, 116770, 116772, 157735, 149548, 149549, 141362, 149557, 190524, 100416, 182342, 116807, 141387, 125008, 133203, 174164, 125013, 182359, 133209, 100442, 125021, 190561, 149601, 133219, 108647, 133224, 133225, 157802, 190570, 149611, 108652, 190579, 149625, 141441, 133249, 166019, 190596, 133253, 149638, 190600, 125067, 190604, 166032, 166034, 116884, 190624, 174245, 166058, 141483, 149684, 141494, 108729, 182458, 166083, 166088, 190666, 100561, 108756, 190677, 125148, 116960, 125154, 149732, 108774, 116966, 166123, 116972, 157942, 166143, 149759, 125185, 166145, 133383, 100619, 174348, 174347, 108821, 166166, 174359, 108832, 108833, 108835, 174373, 149801, 198959, 149807, 157999, 190770, 108851, 100659, 149819, 198978, 117065, 108873, 190796, 198989, 133456, 174424, 108890, 141667, 158053, 174441, 133482, 117105, 117107, 190836, 141689, 141691, 199046, 199052, 125325, 174478, 190862, 182691, 166307, 190893, 182705, 190904, 174522, 149947, 149949, 141758, 133566, 166336, 133570, 125380, 158151, 125385, 125393, 149969, 190934, 190940, 149988, 125414, 133614, 141813, 109056, 141825, 125448, 125449, 117259, 100877, 166418, 125465, 191005, 158238, 141855, 150051, 141860, 182822, 125479, 125486, 150068, 117308, 166460, 125502, 182849, 125506, 158276, 158278, 166475, 150092, 141900, 109134, 141903, 158288, 100943, 199250, 182878, 191071, 199264, 109151, 150117, 150128, 150129, 158326, 191100, 150152, 191115, 109196, 191117, 174736, 166548, 109204, 109208, 141976, 125594, 101018, 150175, 174752, 182947, 117412, 174758, 174760, 199336, 182954, 101033, 109242, 142011, 158403, 101062, 117448, 133854, 199393, 191203, 183011, 109285, 142065, 166642, 191217, 199418, 101117, 109309, 191230, 125701, 158470, 158471, 117512, 199434, 101136, 109337, 166721, 183106, 125763, 109381, 174921, 191305, 150348, 174925, 133967, 158549, 133974, 133975, 158550, 125785, 117599, 101216, 133986, 158564, 199528, 117609, 142185, 183148, 199534, 183153, 125810, 166782, 174975, 125824, 134025, 158604, 183183, 166799, 101264, 166808, 158625, 142241, 183205, 109485, 101295, 134064, 101299, 175028, 199605, 109495, 109505, 199622, 175050, 199628, 183246, 150487, 150489, 134115, 109540, 199655, 150503, 166889, 175081, 183275, 101361, 166898, 150516, 134143, 150533, 166923, 142348, 175115, 125969, 199699, 125979, 183333, 134182, 158759, 134188, 109613, 117806, 158767, 126011, 199742, 126015, 109633, 175171, 109635, 117835, 166995, 158809, 142427, 167005, 158815, 142432, 175201, 199779, 134244, 117860, 134250, 191607, 109695, 175234, 134286, 175251, 142486, 109722, 191645, 117918, 134301, 126111, 117923, 183461, 158892, 191665, 101553, 150708, 117940, 126134, 150711, 167098, 134331, 183493, 142534, 199880, 134345, 134344, 150731, 167116, 175319, 191708, 134366, 183521, 134370, 142565, 191726, 167160, 118008, 109818, 134394, 150789, 109829, 134413, 134419, 175379, 134421, 150806, 183577, 118042, 101662, 126244, 126246, 134439, 118057, 142636, 175409, 142645, 142646, 159033, 167226, 126268, 134466, 134467, 134471, 159047, 118091, 109909, 150871, 191832, 175448, 191834, 109917, 134497, 126313, 167274, 183659, 183670, 142712, 118139, 175488, 134537, 167309, 109965, 101776, 175505, 101779, 167316, 183701, 159140, 175524, 167336, 126378, 150956, 110002, 159164, 167356, 167366, 110039, 175576, 110042, 175583, 101864, 118249, 159212, 167408, 134654, 151038, 183809, 192003, 110086, 142856, 159241, 192009, 126474, 126477, 151061, 183834, 151069, 192031, 101921, 142887, 110130, 142899, 142903, 192055, 110137, 134715, 175676, 126534, 151111, 142925, 151118, 183887, 110159, 192081, 118358, 151129, 134747, 167515, 183906, 167523, 110178, 134761, 118379, 126573, 134768, 142961, 134774, 175734, 175736, 110202, 126586, 134778, 102019, 142980, 183942, 142986, 142997, 110230, 159383, 167582, 102047, 167591, 134823, 134826, 134830, 102063, 102064, 102068, 151224, 167609, 134846, 159427, 118470, 134857, 184018, 110298, 126688, 175845, 134885, 118513, 175858, 126712, 126716, 184071, 110348, 167693, 110353, 110362, 143130, 151329, 151336, 192304, 102196, 126773, 126778, 102204, 175933, 134977, 134980, 134984, 134994, 135001, 126815, 102247, 184168, 159597, 118641, 159603, 110458, 126844, 192382, 184191, 192384, 151424, 184200, 118666, 176016, 184214, 102298, 126879, 143264, 143269, 118701, 176047, 110512, 118704, 192435, 110520, 118720, 192449, 159681, 176069, 192462, 159695, 151505, 192466, 176083, 192467, 126935, 143320, 176093, 110559, 135139, 143342, 118770, 176119, 176123, 102396, 176130, 167944, 110600, 118793, 184331, 167951, 176143, 126999, 127008, 110630, 192553, 143409, 143416, 192580, 118854, 127050, 184409, 159839, 135263, 135268, 118884, 168039, 184424, 159850, 135280, 159857, 143475, 118901, 127104, 102529, 159874, 176259, 127108, 102535, 127115, 127116, 110739, 151707, 127135, 151712, 168100, 135332, 135336, 127147, 127164, 102589, 110787, 176324, 168138, 176336, 102613, 192726, 159957, 176342, 102625, 110818, 176354, 168161, 119016, 135406, 184564, 119029, 151798, 151801, 159996, 160002, 119047, 176395, 143628, 110867, 119060, 151829, 135454, 127263, 151838, 160041, 119093, 160054, 192825, 102715, 176449, 168262, 127310, 168271, 151888, 184654, 168288, 119137, 135522, 135524, 184690, 151927, 135549, 119174, 143753, 110990, 176527, 110999, 151964, 119198, 160164, 102821, 176551, 192936, 119210, 184751, 151984, 127414, 184760, 119226, 168380, 160189, 151996, 111043, 184772, 127430, 127431, 152010, 111053, 160208, 111057, 111063, 192984, 102873, 119256, 135644, 127453, 152030, 152028, 135650, 168421, 127469, 119280, 135664, 193011, 135672, 143872, 102916, 127495, 176653, 143885, 143886, 127506, 135705, 127517, 176670, 160285, 160291, 111144, 184880, 102966, 111158, 152118, 127545, 168505, 143930, 152133, 127559, 184917, 119385, 111196, 193119, 160354, 119398, 168567, 184951, 119420, 143996, 160386, 127622, 176776, 184970, 119437, 152212, 127637, 168598, 119445, 184997, 111274, 176814, 168633, 127677, 119486, 152254, 176832, 193216, 176834, 144067, 119492, 152264, 127691, 193230, 111312, 160476, 144092, 119519, 119529, 103146, 185071, 168687, 168692, 152311, 160505, 135938, 119561, 111369, 152337, 119575, 176920, 119581, 111391, 135968, 119591, 160553, 103219, 111413, 103226, 144187, 160572, 103237, 127815, 136013, 160591, 144207, 168788, 193364, 193371, 176998, 127852, 144244, 136056, 185208, 127868, 168830, 144258, 111504, 193431, 177047, 119706, 168867, 160676, 185264, 177086, 152516, 168904, 103379, 127963, 177136, 127991, 177143, 168951, 119807, 185350, 168972, 160781, 103440, 136210, 168979, 103446, 177175, 119832, 119836, 193576, 119848, 144426, 119849, 160813, 144435, 169014, 185410, 152651, 177240, 193634, 119913, 152690, 128116, 144510, 144522, 185490, 128156, 128158, 103584, 144548, 177317, 160934, 119972, 169129, 144556, 185518, 144564, 152771, 152773, 160969, 128210, 185555, 152792, 136408, 128220, 111846, 136424, 161002, 120045, 152825, 103674, 177409, 111874, 185604, 128262, 193799, 120073, 152852, 103704, 136473, 193819, 103708, 169251, 185638, 185644, 136496, 152883, 193848, 177474, 128326, 128331, 111955, 161109, 152925, 136542, 193892, 152934, 169319, 120167, 128364, 169324, 144754, 185715, 161140, 120182, 152951, 128376, 193914, 144766, 120193, 128388, 169349, 193944, 177563, 120221, 169374, 103844, 144809, 169387, 161204, 169409, 153036, 177613, 120273, 136659, 194006, 120290, 153059, 120292, 120301, 120319, 120323, 144902, 177671, 103947, 120334, 144912, 177694, 185895, 177704, 103980, 103986, 194117, 104006, 104005, 112203, 161362, 112220, 112221, 153185, 161382, 194151, 177768, 169579, 112246, 185976, 161407, 128643, 128647, 153225, 136843, 112268, 161427, 194204, 112287, 194217, 161449, 153264, 169649, 177845, 128694, 112313, 104127, 112325, 112326, 136915, 112342, 112349, 161503, 161507, 169702, 186086, 136946, 186098, 112375, 136953, 145159, 169737, 145166, 128785, 136977, 177937, 186136, 153370, 161564, 177953, 186146, 169761, 177956, 194340, 153384, 137003, 161586, 128822, 145211, 104252, 161597, 186176, 194370, 161609, 169804, 128850, 153428, 120663, 161625, 194397, 186209, 186211, 169831, 145257, 120698, 112508, 186239, 153473, 186242, 137090, 161669, 194453, 161687, 169880, 145305, 145307, 153514, 137133, 186286, 153520, 128948, 120756, 137143, 194493, 112575, 120770, 169930, 186316, 145358, 178126, 153556, 169944, 161754, 178140, 129002, 104430, 145392, 178164, 186358, 169980, 129024, 161799, 104457, 129034, 194574, 137236, 145431, 145434, 161819, 137245, 194590, 129058, 145445, 153637, 112679, 170021, 112686, 161845, 112698, 194622, 186436, 145476, 137284, 153669, 104521, 170057, 129098, 145485, 170070, 145495, 137302, 120924, 129119, 153703, 129142, 120953, 112769, 104595, 194713, 120994, 104616, 145585, 153781, 104632, 137406, 153794, 121027, 170191, 145621, 137430, 129244, 162017, 178404, 194788, 186599, 104680, 162023, 145644, 170225, 137462, 145657, 129279, 153859, 104708, 186629, 170249, 170258, 186645, 178455, 145688, 178459, 194844, 186658, 145699, 129317, 194859, 162098, 153910, 194870, 170297, 145722, 186684, 145729, 145733, 145740, 137556, 129372, 178527, 112991, 170348, 153969, 162174, 186754, 170375, 113032, 162197, 121242, 145820, 186781, 162204, 137638, 154022, 121263, 178607, 121264, 137658, 137662, 121289, 113099, 121292, 178636, 104910, 145875, 121305, 137690, 170461, 104932, 121316, 178662, 121318, 170469, 113129, 162285, 186864, 195060, 121340, 137725, 170494, 170495, 129536, 170501, 186894, 129551, 178705, 104979, 178708, 170515, 186902, 145946, 154148, 121383, 105003, 105017, 154172, 170561, 154193, 186963, 137812, 162397, 129633, 178787, 162416, 195184, 154237, 162429, 195197, 146046, 137857, 170628, 154253, 137869, 113295, 170640, 137876, 170645, 113312, 121516, 113326, 137906, 105141, 146101, 154294, 121528, 146107, 137919, 113344, 154308, 162509, 162512, 162514, 146137, 162525, 154335, 154339, 121572, 121574, 195302, 121579, 121581, 195318, 170748, 178949, 129810, 154386, 113437, 105248, 138017, 162594, 178985, 146220, 146223, 113457, 129846, 195382, 195384, 113467, 162623, 105285, 162633, 179017, 170826, 129878, 170840, 146277, 121701, 146279, 154476, 179056, 129907, 146292, 162680, 129914, 129916, 129917, 113533, 195458, 187268, 154500, 138118, 154504, 195466, 195467, 129934, 195476, 146330, 195483, 121758, 170911, 187296, 138145, 105386, 179114, 138159, 138161, 162739, 138165, 129975, 162746, 113595, 146362, 121786, 113594, 179136, 146371, 113607, 105417, 187339, 146380, 195536, 113616, 179154, 162768, 113626, 195552, 130023, 105450, 138219, 113651, 113652, 121843, 121846, 113664, 195592, 138258, 187411, 146452, 121878, 154651, 130076, 195612, 113695, 171043, 179240, 146474, 105518, 130094, 105519, 154679, 187447, 105529, 121915, 187452, 105534, 121938, 154710, 105566, 195682, 121962, 162930, 138363, 179324, 146557, 171135, 138376, 171145, 121994, 162963, 113817, 162969, 195743, 146594, 195748, 146605, 187571, 138429, 195774, 163009, 146627, 138440, 122074, 179418, 171230, 113891, 154851, 163048, 154857, 146668, 146669, 179438, 171246, 187637, 146682, 146684, 122116, 122123, 163088, 138523, 195871, 122154, 146736, 195890, 138550, 171324, 195900, 187708, 105803, 187735, 163165, 195934, 114016, 163168, 138598, 138604, 179568, 163189, 163192, 195962, 114044, 130431, 163205, 130438, 187801, 105883, 138652, 146846, 179616, 171434, 179631, 163252, 179636, 196023, 130491, 105916, 114109, 196033, 196034, 163271, 187850, 196043, 179667, 196067, 171493, 163305, 196074, 122348, 196079, 179696, 138737, 122354, 155131, 105983, 187913, 155151, 187921, 171542, 163354, 163361, 163362, 163366, 196147, 179764, 130611, 196151, 130619, 179771, 171583, 114246, 155212, 163407, 138842, 155235, 122472, 114281, 171629, 196206, 138864, 138866, 130681, 138877, 171645, 122493, 122498, 122507, 130701, 122513, 114325, 130710, 155290, 171674, 114337, 155297, 106152, 155308, 147123, 147128, 147134, 138943, 147137, 188119, 114398, 138977, 179948, 163573, 188155, 188161, 188176, 122645, 155419, 114465, 163620, 147237, 163622, 130855, 163626, 114480, 171828, 180024, 130878, 139070, 188227, 163654, 163658, 147281, 180050, 180051, 114524, 196446, 130914, 163685, 196453, 147304, 130923, 188268, 106349, 171893, 106358, 155513, 171904, 155524, 155525, 180103, 155531, 130957, 147342, 188304, 188308, 139157, 163733, 180117, 155547, 171931, 130975, 130980, 122790, 180135, 155561, 180158, 139199, 188352, 188354, 171971, 188356, 106446, 155605, 188386, 163813, 131050, 163820, 147438, 163828, 114677, 122870, 180216, 122879])"
      ]
     },
     "execution_count": 20,
     "metadata": {},
     "output_type": "execute_result"
    }
   ],
   "source": [
    "train_set.keys()"
   ]
  },
  {
   "cell_type": "code",
   "execution_count": 21,
   "metadata": {},
   "outputs": [],
   "source": [
    "binary_train_set = {}\n",
    "\n",
    "def splitFeature(hadm_id):\n",
    "    score = float(train_elixhauser_score[hadm_id])\n",
    "    age = max(90.0,  float(demographic_data.at[hadm_id, 'age']))\n",
    "    sex = 1.0 if demographic_data.at[hadm_id, 'sex'] is 'M' else 0.0\n",
    "    arr = np.array([score, age, sex], dtype=np.float64)\n",
    "    if train_set[hadm_id].ndim != 1:\n",
    "        additionalFeat = np.tile(arr, (len(train_set[hadm_id]), 1))\n",
    "    else:\n",
    "        additionalFeat = arr.reshape(1,3)\n",
    "    prevVasopressin = np.array([0.0], dtype=np.float64)\n",
    "    for i, val in enumerate(y_vasopressin[hadm_id][:len(y_vasopressin[hadm_id]) - 1]):\n",
    "        prevVasopressin = np.append(prevVasopressin, val)\n",
    "    prevVasopressin = prevVasopressin.reshape(len(prevVasopressin), 1)\n",
    "    trueVasopressin = y_vasopressin[hadm_id].reshape(len(prevVasopressin), 1)\n",
    "    prevVasopressin = np.hstack((prevVasopressin, trueVasopressin))\n",
    "    if additionalFeat.shape[0] != prevVasopressin.shape[0]:\n",
    "        minLen = min(additionalFeat.shape[0], prevVasopressin.shape[0])\n",
    "        featVec = np.hstack((additionalFeat[:minLen], prevVasopressin[:minLen]))\n",
    "    else:\n",
    "        featVec = np.hstack((additionalFeat, prevVasopressin.reshape(len(prevVasopressin), 2)))\n",
    "    if train_set[hadm_id].ndim == 1:\n",
    "        return np.hstack((train_set[hadm_id].reshape(1,62), featVec))\n",
    "    else:\n",
    "        return np.hstack((train_set[hadm_id], featVec))"
   ]
  },
  {
   "cell_type": "code",
   "execution_count": 441,
   "metadata": {},
   "outputs": [],
   "source": [
    "binaryTraining = np.empty((66,1))\n",
    "for i, hadm_id in enumerate(train_set.keys()):\n",
    "    if i == 0:\n",
    "        binaryTraining = splitFeature(hadm_id)\n",
    "    else:\n",
    "        nextFeature = splitFeature(hadm_id)\n",
    "        try:\n",
    "            if nextFeature.ndim == 1:\n",
    "                binaryTraining = np.vstack((binaryTraining, nextFeature.reshape(1, 66)))\n",
    "            else:\n",
    "                binaryTraining = np.vstack((binaryTraining, nextFeature))\n",
    "        except:\n",
    "            print(\"error on id: \" + str(hadm_id))"
   ]
  },
  {
   "cell_type": "code",
   "execution_count": 458,
   "metadata": {},
   "outputs": [],
   "source": [
    "binaryTraining.shape\n",
    "\n",
    "xTrain = binaryTraining[:, :66]\n",
    "yTrain = binaryTraining[:, 66]\n",
    "\n",
    "with open('binaryClassifierFlattenedData.pkl', 'wb') as f:\n",
    "    pickle.dump(binaryTraining, f)"
   ]
  },
  {
   "cell_type": "markdown",
   "metadata": {},
   "source": [
    "# Binary Classification\n",
    "Using the flattened dataset to run binary classification with Logistic regression"
   ]
  },
  {
   "cell_type": "code",
   "execution_count": 7,
   "metadata": {},
   "outputs": [],
   "source": [
    "with open('binaryClassifierFlattenedData.pkl', 'rb') as f:\n",
    "    data = pickle.load(f)"
   ]
  },
  {
   "cell_type": "code",
   "execution_count": 8,
   "metadata": {},
   "outputs": [],
   "source": [
    "import random\n",
    "\n",
    "#shuffle dataset\n",
    "random.Random(4).shuffle(data)"
   ]
  },
  {
   "cell_type": "code",
   "execution_count": 9,
   "metadata": {},
   "outputs": [],
   "source": [
    "data = data.astype(np.float64)"
   ]
  },
  {
   "cell_type": "code",
   "execution_count": 10,
   "metadata": {},
   "outputs": [
    {
     "data": {
      "text/plain": [
       "array([[ 4.320e+01,  1.100e+01, -1.000e+00, ...,  1.000e+00,  0.000e+00,\n",
       "         0.000e+00],\n",
       "       [ 4.320e+01,  1.100e+01, -1.000e+00, ...,  1.000e+00,  0.000e+00,\n",
       "         0.000e+00],\n",
       "       [ 3.070e+01,  6.700e+00, -1.000e+00, ...,  1.000e+00,  0.000e+00,\n",
       "         0.000e+00],\n",
       "       ...,\n",
       "       [ 2.750e+01,  6.300e+00, -1.000e+00, ...,  0.000e+00,  0.000e+00,\n",
       "         0.000e+00],\n",
       "       [ 2.520e+01,  1.160e+01,  1.001e+03, ...,  1.000e+00,  0.000e+00,\n",
       "         0.000e+00],\n",
       "       [ 2.360e+01,  4.000e-01, -1.000e+00, ...,  1.000e+00,  0.000e+00,\n",
       "         0.000e+00]])"
      ]
     },
     "execution_count": 10,
     "metadata": {},
     "output_type": "execute_result"
    }
   ],
   "source": [
    "data"
   ]
  },
  {
   "cell_type": "code",
   "execution_count": 11,
   "metadata": {},
   "outputs": [],
   "source": [
    "cleanData = data[~np.isnan(data).any(axis=1)]"
   ]
  },
  {
   "cell_type": "code",
   "execution_count": 13,
   "metadata": {},
   "outputs": [
    {
     "data": {
      "text/plain": [
       "(70110, 67)"
      ]
     },
     "execution_count": 13,
     "metadata": {},
     "output_type": "execute_result"
    }
   ],
   "source": [
    "cleanData.shape"
   ]
  },
  {
   "cell_type": "code",
   "execution_count": 187,
   "metadata": {},
   "outputs": [],
   "source": [
    "positives = cleanData[cleanData[:, 66] == 1.0]\n",
    "negatives = cleanData[cleanData[:, 66] == 0.0]\n",
    "negatives_test = negatives[:400]\n",
    "negatives_valid = negatives[400:1200]\n",
    "negatives_train = negatives[1200:]\n",
    "\n",
    "positives_test = positives[:6800]\n",
    "positives_valid = positives[6800:20400]\n",
    "positives_train = positives[20400:]"
   ]
  },
  {
   "cell_type": "code",
   "execution_count": 188,
   "metadata": {},
   "outputs": [],
   "source": [
    "# 66314 negatives\n",
    "# 3796 positives"
   ]
  },
  {
   "cell_type": "code",
   "execution_count": 189,
   "metadata": {},
   "outputs": [
    {
     "name": "stdout",
     "output_type": "stream",
     "text": [
      "(64532, 67)\n",
      "(130846, 67)\n"
     ]
    }
   ],
   "source": [
    "balanced_train = negatives_train\n",
    "balanced_valid = negatives_valid\n",
    "balanced_test = negatives_test\n",
    "balanced_data = negatives\n",
    "for i in range(17):\n",
    "    balanced_data = np.vstack([balanced_data, positives])\n",
    "    balanced_train = np.vstack([balanced_train, positives_train])\n",
    "    balanced_valid = np.vstack([balanced_valid, positives_valid])\n",
    "    balanced_test = np.vstack([balanced_test, positives_test])\n",
    "    \n",
    "print(balanced_data[balanced_data[:, 66] == 1].shape)\n",
    "print(balanced_data.shape)\n"
   ]
  },
  {
   "cell_type": "code",
   "execution_count": 205,
   "metadata": {},
   "outputs": [],
   "source": [
    "np.random.seed(4)\n",
    "np.random.shuffle(balanced_train)\n",
    "np.random.shuffle(balanced_valid)\n",
    "np.random.shuffle(balanced_test)\n",
    "np.random.shuffle(balanced_data)"
   ]
  },
  {
   "cell_type": "code",
   "execution_count": 206,
   "metadata": {},
   "outputs": [],
   "source": [
    "#split features and labels\n",
    "\n",
    "x = balanced_data[:, :65]\n",
    "y = balanced_data[:, 66]\n",
    "\n",
    "#set labels to {0,1}\n",
    "for i in range(len(y)):\n",
    "    if y[i] > 0:\n",
    "        y[i] = 1.0\n",
    "    else:\n",
    "        y[i] = 0\n",
    "        \n",
    "# 182296 points\n",
    "# training: 50000\n",
    "# validation: 15000\n",
    "# test: remaining 5110\n",
    "\n",
    "train_cutoff = 95000\n",
    "valid_cutoff = train_cutoff + 25000\n",
    "\n",
    "xTrain = x[:train_cutoff, :]\n",
    "yTrain = y[:train_cutoff]\n",
    "xValid = x[train_cutoff:valid_cutoff, :]\n",
    "yValid = y[train_cutoff:valid_cutoff]\n",
    "xTest = x[valid_cutoff:, :]\n",
    "yTest = y[valid_cutoff:]\n"
   ]
  },
  {
   "cell_type": "code",
   "execution_count": 207,
   "metadata": {},
   "outputs": [
    {
     "data": {
      "text/plain": [
       "(64532,)"
      ]
     },
     "execution_count": 207,
     "metadata": {},
     "output_type": "execute_result"
    }
   ],
   "source": [
    "y[y == 1.0].shape"
   ]
  },
  {
   "cell_type": "code",
   "execution_count": 208,
   "metadata": {},
   "outputs": [
    {
     "data": {
      "text/plain": [
       "(95000,)"
      ]
     },
     "execution_count": 208,
     "metadata": {},
     "output_type": "execute_result"
    }
   ],
   "source": [
    "yTrain.shape"
   ]
  },
  {
   "cell_type": "code",
   "execution_count": 209,
   "metadata": {},
   "outputs": [
    {
     "data": {
      "text/plain": [
       "(95000, 65)"
      ]
     },
     "execution_count": 209,
     "metadata": {},
     "output_type": "execute_result"
    }
   ],
   "source": [
    "xTrain.shape"
   ]
  },
  {
   "cell_type": "code",
   "execution_count": 210,
   "metadata": {},
   "outputs": [],
   "source": [
    "import matplotlib.pyplot as plt\n",
    "from sklearn.linear_model import LogisticRegression\n",
    "from sklearn.linear_model import LinearRegression\n",
    "from sklearn.decomposition import PCA\n",
    "from sklearn.discriminant_analysis import LinearDiscriminantAnalysis as LDA"
   ]
  },
  {
   "cell_type": "code",
   "execution_count": 211,
   "metadata": {},
   "outputs": [],
   "source": [
    "pca = PCA(n_components=10)\n",
    "pca.fit(xTrain)\n",
    "xPCA_train = pca.transform(xTrain)\n",
    "xPCA_valid = pca.transform(xValid)"
   ]
  },
  {
   "cell_type": "code",
   "execution_count": 212,
   "metadata": {},
   "outputs": [
    {
     "data": {
      "text/plain": [
       "(48071,)"
      ]
     },
     "execution_count": 212,
     "metadata": {},
     "output_type": "execute_result"
    }
   ],
   "source": [
    "yTrain[yTrain[:] == 0.0].shape"
   ]
  },
  {
   "cell_type": "code",
   "execution_count": 213,
   "metadata": {},
   "outputs": [
    {
     "name": "stderr",
     "output_type": "stream",
     "text": [
      "/home/linuxbrew/.linuxbrew/opt/python/lib/python3.7/site-packages/sklearn/linear_model/_logistic.py:940: ConvergenceWarning: lbfgs failed to converge (status=1):\n",
      "STOP: TOTAL NO. of ITERATIONS REACHED LIMIT.\n",
      "\n",
      "Increase the number of iterations (max_iter) or scale the data as shown in:\n",
      "    https://scikit-learn.org/stable/modules/preprocessing.html\n",
      "Please also refer to the documentation for alternative solver options:\n",
      "    https://scikit-learn.org/stable/modules/linear_model.html#logistic-regression\n",
      "  extra_warning_msg=_LOGISTIC_SOLVER_CONVERGENCE_MSG)\n",
      "/home/linuxbrew/.linuxbrew/opt/python/lib/python3.7/site-packages/sklearn/linear_model/_logistic.py:940: ConvergenceWarning: lbfgs failed to converge (status=1):\n",
      "STOP: TOTAL NO. of ITERATIONS REACHED LIMIT.\n",
      "\n",
      "Increase the number of iterations (max_iter) or scale the data as shown in:\n",
      "    https://scikit-learn.org/stable/modules/preprocessing.html\n",
      "Please also refer to the documentation for alternative solver options:\n",
      "    https://scikit-learn.org/stable/modules/linear_model.html#logistic-regression\n",
      "  extra_warning_msg=_LOGISTIC_SOLVER_CONVERGENCE_MSG)\n"
     ]
    }
   ],
   "source": [
    "clf_pca = LogisticRegression(penalty = 'l2').fit(xPCA_train, yTrain)\n",
    "clf = LogisticRegression(penalty = 'l2').fit(xTrain, yTrain)\n",
    "clf_lda = LDA()\n",
    "clf_lda.fit(xTrain,yTrain)\n",
    "clf_pca_lda = LDA()\n",
    "clf_pca_lda.fit(xPCA_train, yTrain)\n",
    "clf_linear = LinearRegression(fit_intercept = True, normalize=True).fit(xTrain,yTrain)\n",
    "clf_linear_pca = LinearRegression(fit_intercept = True, normalize = True).fit(xPCA_train, yTrain)"
   ]
  },
  {
   "cell_type": "code",
   "execution_count": 214,
   "metadata": {},
   "outputs": [],
   "source": [
    "logistic_predictions_pca = clf_pca.predict(xPCA_valid)\n",
    "logistic_predictions = clf.predict(xValid)\n",
    "lda_predictions = clf_lda.predict(xValid)\n",
    "linear_predictions = clf_linear.predict(xValid)\n",
    "linear_predictions_pca = clf_linear_pca.predict(xPCA_valid)\n",
    "pca_lda_predictions = clf_pca_lda.predict(xPCA_valid)"
   ]
  },
  {
   "cell_type": "code",
   "execution_count": 215,
   "metadata": {},
   "outputs": [
    {
     "data": {
      "text/plain": [
       "(25000,)"
      ]
     },
     "execution_count": 215,
     "metadata": {},
     "output_type": "execute_result"
    }
   ],
   "source": [
    "yValid.shape"
   ]
  },
  {
   "cell_type": "code",
   "execution_count": 216,
   "metadata": {},
   "outputs": [],
   "source": [
    "def calculateAccuracy(predictions, truth):\n",
    "    correct = 0\n",
    "    wrong = 0\n",
    "    total = 0\n",
    "    for i, p in enumerate(predictions):\n",
    "        if predictions[i] == truth[i]:\n",
    "            correct = correct + 1\n",
    "        else:\n",
    "            wrong = wrong + 1\n",
    "        total = total + 1\n",
    "    print(str(correct) + \" of \" + str(total) + \" predicted correctly\")\n",
    "    print(\"Accuracy: \" + str(correct/total))\n",
    "    \n",
    "def calculateLinear(predictions, truth):\n",
    "    correct = 0\n",
    "    wrong = 0\n",
    "    total = 0\n",
    "    for i, p in enumerate(predictions):\n",
    "        pred = predictions[i] > 0\n",
    "        tru = truth[i] == 1\n",
    "        if pred == tru:\n",
    "            correct = correct + 1\n",
    "        else:\n",
    "            wrong = wrong + 1\n",
    "        total = total + 1\n",
    "    print(str(correct) + \" of \" + str(total) + \" predicted correctly\")\n",
    "    print(\"Accuracy: \" + str(correct/total))"
   ]
  },
  {
   "cell_type": "code",
   "execution_count": 217,
   "metadata": {},
   "outputs": [
    {
     "name": "stdout",
     "output_type": "stream",
     "text": [
      "LDA\n",
      "20823 of 25000 predicted correctly\n",
      "Accuracy: 0.83292\n",
      "\n",
      "Logistic PCA\n",
      "18351 of 25000 predicted correctly\n",
      "Accuracy: 0.73404\n",
      "\n",
      "Logistic\n",
      "20315 of 25000 predicted correctly\n",
      "Accuracy: 0.8126\n",
      "\n",
      "Linear\n",
      "14168 of 25000 predicted correctly\n",
      "Accuracy: 0.56672\n",
      "\n",
      "Linear PCA\n",
      "12785 of 25000 predicted correctly\n",
      "Accuracy: 0.5114\n",
      "\n",
      "Linear PCA+LDA\n",
      "17761 of 25000 predicted correctly\n",
      "Accuracy: 0.71044\n"
     ]
    }
   ],
   "source": [
    "print(\"LDA\")\n",
    "calculateAccuracy(lda_predictions, yValid)\n",
    "\n",
    "print(\"\\nLogistic PCA\")\n",
    "calculateAccuracy(logistic_predictions_pca, yValid)\n",
    "\n",
    "print(\"\\nLogistic\")\n",
    "calculateAccuracy(logistic_predictions, yValid)\n",
    "\n",
    "print(\"\\nLinear\")\n",
    "calculateLinear(linear_predictions, yValid)\n",
    "\n",
    "print(\"\\nLinear PCA\")\n",
    "calculateLinear(linear_predictions_pca, yValid)\n",
    "\n",
    "print(\"\\nLinear PCA+LDA\")\n",
    "calculateAccuracy(pca_lda_predictions, yValid)"
   ]
  },
  {
   "cell_type": "code",
   "execution_count": 218,
   "metadata": {},
   "outputs": [],
   "source": [
    "T = clf_lda.coef_\n",
    "T2 = clf_pca_lda.coef_"
   ]
  },
  {
   "cell_type": "code",
   "execution_count": 243,
   "metadata": {},
   "outputs": [
    {
     "data": {
      "image/png": "[encoded data removed]",
      "text/plain": [
       "<Figure size 432x288 with 1 Axes>"
      ]
     },
     "metadata": {
      "needs_background": "light"
     },
     "output_type": "display_data"
    }
   ],
   "source": [
    "import matplotlib.pyplot as plt\n",
    "plt.imshow(clf_lda.coef_, cmap='coolwarm', interpolation='nearest')\n",
    "plt.show()"
   ]
  },
  {
   "cell_type": "code",
   "execution_count": 258,
   "metadata": {},
   "outputs": [],
   "source": [
    "mini = 0\n",
    "maxi = 0\n",
    "for i, e in enumerate(T[0]):\n",
    "    if e == np.amin(T[0]):\n",
    "        mini = i\n",
    "    if e == np.amax(T[0]):\n",
    "        maxi = i"
   ]
  },
  {
   "cell_type": "code",
   "execution_count": 264,
   "metadata": {},
   "outputs": [
    {
     "data": {
      "text/plain": [
       "53"
      ]
     },
     "execution_count": 264,
     "metadata": {},
     "output_type": "execute_result"
    }
   ],
   "source": [
    "mini"
   ]
  },
  {
   "cell_type": "code",
   "execution_count": 257,
   "metadata": {},
   "outputs": [
    {
     "data": {
      "text/plain": [
       "0.6821495516533453"
      ]
     },
     "execution_count": 257,
     "metadata": {},
     "output_type": "execute_result"
    }
   ],
   "source": [
    "np.amax(T[0])"
   ]
  },
  {
   "cell_type": "code",
   "execution_count": 221,
   "metadata": {},
   "outputs": [
    {
     "name": "stdout",
     "output_type": "stream",
     "text": [
      "20875 of 25000 predicted correctly\n",
      "Accuracy: 0.835\n"
     ]
    }
   ],
   "source": [
    "xTrainLDA = np.sum(xTrain*T, axis=1).reshape(95000,1)\n",
    "xValidLDA = np.sum(xValid*T, axis=1).reshape(25000,1)\n",
    "clf_logistic_lda = LogisticRegression(penalty = 'l2').fit(xTrainLDA, yTrain)\n",
    "#clf = LogisticRegression(penalty = 'l2').fit(xTrain, yTrain)\n",
    "predictions_logistic_lda = clf_logistic_lda.predict(xValidLDA)\n",
    "calculateAccuracy(predictions_logistic_lda, yValid)"
   ]
  },
  {
   "cell_type": "code",
   "execution_count": 222,
   "metadata": {},
   "outputs": [
    {
     "name": "stdout",
     "output_type": "stream",
     "text": [
      "17714 of 25000 predicted correctly\n",
      "Accuracy: 0.70856\n"
     ]
    }
   ],
   "source": [
    "xTrainPCA_LDA = np.sum(xPCA_train*T2, axis=1).reshape(95000,1)\n",
    "xValidPCA_LDA = np.sum(xPCA_valid*T2, axis=1).reshape(25000,1)\n",
    "clf_logistic_pca_lda = LogisticRegression(penalty='l2').fit(xTrainPCA_LDA, yTrain)\n",
    "predictions_log_pca_lda = clf_logistic_pca_lda.predict(xValidPCA_LDA)\n",
    "calculateAccuracy(predictions_log_pca_lda, yValid)"
   ]
  },
  {
   "cell_type": "code",
   "execution_count": 223,
   "metadata": {},
   "outputs": [
    {
     "data": {
      "text/plain": [
       "array([[ 3.58896652e-06,  2.53332096e-05, -9.46553488e-05,\n",
       "         8.58527788e-06, -2.75113820e-05, -8.16342545e-06,\n",
       "        -9.20629636e-05, -3.33138689e-03,  1.09537181e-06,\n",
       "        -2.34653398e-07, -8.88851863e-05, -7.89698540e-07,\n",
       "        -6.15597392e-05, -1.17339179e-04, -1.53095737e-04,\n",
       "         2.03754915e-04, -1.46724913e-04,  1.61095975e-05,\n",
       "        -5.38493810e-05, -4.84230851e-06, -3.00434148e-04,\n",
       "         4.57091413e-05, -2.76776202e-05, -3.07440209e-05,\n",
       "         2.70356254e-05,  1.24466403e-03, -2.29663073e-06,\n",
       "        -3.97028737e-07,  2.29363597e-05,  2.12777177e-04,\n",
       "         5.60030294e-04, -8.24381791e-05, -0.00000000e+00,\n",
       "         9.69381709e-05, -1.81919759e-03,  4.73152640e-02,\n",
       "         1.23276992e-02, -3.94532785e-05,  1.03702438e-05,\n",
       "        -1.26533687e-05,  7.08350731e-04, -7.15479866e-05,\n",
       "        -1.84112502e-04,  4.14442485e-05, -1.94932081e-05,\n",
       "        -4.84820947e-06, -0.00000000e+00, -2.24460825e-05,\n",
       "         1.33991536e-04,  3.92606438e-02, -4.67261800e-08,\n",
       "         2.85954902e-08,  9.98023294e-01, -8.77344500e-08,\n",
       "        -1.50738589e-07,  2.40399049e-07, -0.00000000e+00,\n",
       "         6.76210476e-06, -3.90526488e-05,  3.27944415e-04,\n",
       "        -6.98374705e-05, -8.50209721e-05, -1.47163816e-04,\n",
       "        -3.65290886e-04,  5.26084969e-06],\n",
       "       [ 1.98525387e-04,  7.55018679e-04, -4.60551562e-05,\n",
       "         6.09291073e-05,  7.11273858e-04,  1.25015219e-04,\n",
       "         3.41463159e-04, -1.50084515e-02,  1.89279097e-04,\n",
       "         1.99810656e-05,  4.35529906e-04,  1.29484553e-04,\n",
       "         1.75348471e-04, -1.82367817e-06, -7.04470970e-04,\n",
       "         9.80245672e-04,  1.39825556e-03,  5.78672045e-05,\n",
       "         4.15733586e-05,  1.72573649e-05,  2.17905283e-03,\n",
       "        -1.02593092e-04,  1.56411964e-05, -3.07954051e-05,\n",
       "         3.12556396e-04,  2.89201927e-03, -1.16839965e-05,\n",
       "         1.83482810e-05,  1.57131327e-04,  1.32653467e-03,\n",
       "         2.17418489e-03,  5.47594708e-04, -0.00000000e+00,\n",
       "         5.14108893e-04,  3.42613473e-02,  4.96171666e-01,\n",
       "         1.45257054e-01, -4.06228738e-05,  1.02064002e-04,\n",
       "        -7.76806266e-06, -8.16746141e-04, -4.27180472e-05,\n",
       "        -6.69970282e-04,  1.09216249e-03,  8.62125060e-05,\n",
       "        -4.93595254e-05, -0.00000000e+00,  1.94803202e-05,\n",
       "         2.44681880e-04,  8.53110681e-01,  8.74494324e-07,\n",
       "        -2.75372950e-06, -5.88704969e-02, -7.85094139e-07,\n",
       "        -4.33132350e-07,  5.64805820e-07, -0.00000000e+00,\n",
       "         3.00111747e-06, -1.04596534e-03,  1.83059090e-03,\n",
       "        -1.56280945e-03, -3.79102894e-03,  6.81665133e-04,\n",
       "        -1.42969168e-03, -1.26138740e-05],\n",
       "       [-6.96624148e-04, -4.54083127e-05,  5.28165546e-05,\n",
       "        -2.43782559e-04, -2.43721505e-04, -3.60449454e-05,\n",
       "         2.46215039e-04,  5.69806485e-03, -1.16311009e-04,\n",
       "        -7.18892010e-05, -1.40018463e-03, -2.60857753e-05,\n",
       "         5.56501587e-05,  1.04252634e-03,  9.31368203e-04,\n",
       "        -1.95996834e-03, -1.89750348e-03, -1.73234631e-04,\n",
       "        -1.84761163e-05,  5.27299736e-05,  3.90648011e-03,\n",
       "         8.30085882e-04,  3.42087582e-04,  1.89907053e-04,\n",
       "        -2.83476896e-04, -4.56476979e-03, -2.10505967e-05,\n",
       "        -1.69134866e-06, -3.11690558e-04, -2.70735344e-03,\n",
       "        -3.24751560e-03, -1.57732199e-03,  0.00000000e+00,\n",
       "        -6.97193385e-04,  1.93258409e-02, -7.69999489e-01,\n",
       "        -3.78129430e-01,  1.96594052e-05,  1.19428747e-04,\n",
       "         5.80113933e-06, -3.21273853e-03,  1.41236071e-03,\n",
       "         9.56643227e-04,  2.11697930e-03, -4.22033098e-05,\n",
       "        -4.30315265e-06,  0.00000000e+00, -2.54800211e-04,\n",
       "        -6.84227353e-04,  5.13006922e-01, -6.71474026e-06,\n",
       "         1.60067971e-06,  2.10610000e-02,  9.38967332e-07,\n",
       "         1.18571053e-07, -2.52647390e-06,  0.00000000e+00,\n",
       "         1.07557855e-04, -5.91666479e-04, -1.22684282e-04,\n",
       "        -8.31155119e-04, -1.91179376e-03,  1.33034849e-04,\n",
       "         4.83968215e-04, -9.01936523e-05],\n",
       "       [ 1.36675742e-03,  5.74748273e-03,  2.12313666e-03,\n",
       "         2.35372398e-04,  6.55337647e-03,  1.75348086e-03,\n",
       "         2.93206146e-03,  2.74217281e-01,  1.09296558e-03,\n",
       "         3.01309548e-04,  2.78011926e-03,  4.44974034e-04,\n",
       "         1.02882804e-02,  6.20660624e-03,  3.05655036e-03,\n",
       "         1.45390025e-03,  2.09422613e-02,  2.61974597e-04,\n",
       "         1.06813645e-03,  6.10704291e-04,  3.29434551e-02,\n",
       "         2.23873423e-03,  1.89412732e-03,  2.53955461e-03,\n",
       "         1.08863285e-03,  1.34469332e-02, -9.89204614e-05,\n",
       "         2.82834476e-04,  1.83751251e-04,  8.87548376e-04,\n",
       "         4.92403574e-05,  2.73724145e-03,  0.00000000e+00,\n",
       "        -3.00998036e-04,  9.57203512e-01, -2.71237891e-02,\n",
       "         6.86982073e-02,  3.30456699e-03,  8.94330551e-04,\n",
       "         9.52855481e-04,  7.41621684e-03,  4.96446386e-03,\n",
       "         2.96739407e-03,  4.44951770e-03,  1.53502301e-03,\n",
       "        -5.74942814e-05,  0.00000000e+00,  3.18842575e-03,\n",
       "        -2.23260872e-03, -2.93847684e-02,  8.57802943e-06,\n",
       "        -2.49136905e-05,  4.25179024e-03, -2.37098337e-06,\n",
       "         4.69524206e-06,  4.91625053e-07,  0.00000000e+00,\n",
       "        -1.77694655e-04, -2.49007248e-04, -7.56063576e-04,\n",
       "         9.90080473e-04,  4.64675899e-03, -9.77132943e-04,\n",
       "         8.77182776e-03,  3.25169344e-05],\n",
       "       [ 5.14070660e-03,  4.44813469e-03, -1.09666132e-04,\n",
       "         1.32946073e-03,  2.86506282e-03,  1.77480886e-03,\n",
       "        -4.55462730e-03,  9.57383775e-01, -1.32189784e-03,\n",
       "         1.04697999e-03, -1.67511050e-05,  2.52987896e-04,\n",
       "         1.54531615e-02,  9.92467691e-03,  1.04748531e-02,\n",
       "        -4.07362216e-03, -4.56044325e-02, -1.85361485e-03,\n",
       "         7.35223522e-04, -4.93895110e-05, -4.45988406e-03,\n",
       "        -2.40832639e-03, -2.48064563e-03,  1.09544576e-03,\n",
       "        -1.40652751e-04, -1.76160940e-02,  1.39524386e-04,\n",
       "        -4.15015155e-05, -1.06625891e-03, -9.66781161e-03,\n",
       "        -2.92553708e-02, -1.66792689e-02, -0.00000000e+00,\n",
       "        -2.43215014e-03, -2.67136265e-01,  4.08624344e-02,\n",
       "        -6.15654219e-02,  1.23775759e-03, -9.26178079e-04,\n",
       "         3.26818985e-04, -1.17731135e-02,  3.94606384e-03,\n",
       "         8.08859778e-03, -1.98563726e-03, -1.04672299e-03,\n",
       "        -2.61680118e-03, -0.00000000e+00, -5.48938413e-04,\n",
       "        -2.11392450e-03,  1.47861016e-02,  4.08855153e-06,\n",
       "         2.02969035e-05,  9.94531992e-04,  9.42594564e-06,\n",
       "        -1.15100064e-05,  4.07777615e-06, -0.00000000e+00,\n",
       "         6.82445468e-04,  1.96893748e-02,  1.18955569e-03,\n",
       "         1.58687274e-02,  2.71390142e-02, -2.25800311e-02,\n",
       "        -6.32162092e-03, -1.58879595e-04],\n",
       "       [ 4.42264527e-03,  3.64239105e-04,  2.14772117e-05,\n",
       "         1.62804383e-03,  1.77938770e-03,  1.38810013e-03,\n",
       "        -7.44709683e-04,  4.93818137e-02,  8.95452968e-04,\n",
       "         5.58141807e-04, -2.13140047e-03,  4.55161978e-05,\n",
       "         4.95987095e-03,  3.91636652e-03,  1.87192265e-03,\n",
       "        -6.57786389e-04,  8.61966218e-03,  6.64345734e-04,\n",
       "         4.36299637e-05,  3.16915138e-04,  2.36156126e-02,\n",
       "         3.78178355e-04,  7.71398791e-04,  3.55717902e-05,\n",
       "         9.58793619e-05,  1.73613681e-02, -9.87032566e-05,\n",
       "         1.37068327e-04,  2.01838555e-04,  1.38123995e-03,\n",
       "         2.60672434e-03,  2.89819201e-04, -0.00000000e+00,\n",
       "        -1.68465458e-03, -8.95600830e-02, -3.95017395e-01,\n",
       "         9.08817673e-01,  4.94596829e-04,  3.59100045e-04,\n",
       "         1.74416669e-04,  1.97479066e-03,  2.42958631e-03,\n",
       "         1.46443042e-03,  2.70294992e-03,  8.56526671e-04,\n",
       "        -9.17629683e-04, -0.00000000e+00,  1.96742829e-04,\n",
       "         1.00908632e-03,  7.96686615e-02,  2.06513282e-06,\n",
       "        -7.78116352e-06,  4.35474258e-03,  5.08309852e-07,\n",
       "        -3.11928591e-06, -3.94022714e-06, -0.00000000e+00,\n",
       "         4.69716789e-05,  7.93774089e-03, -1.46061218e-04,\n",
       "         7.08874687e-03,  4.83342996e-03, -1.55690528e-03,\n",
       "        -8.67408511e-04,  1.74357705e-04],\n",
       "       [ 9.75676630e-04, -1.91598954e-03, -3.75736059e-04,\n",
       "         4.16946086e-04, -3.57327957e-03,  2.46618911e-04,\n",
       "        -7.22684234e-04, -2.08088205e-02, -8.23643991e-04,\n",
       "         1.90420941e-04,  3.09316241e-03, -5.23638711e-05,\n",
       "         8.51927244e-04,  1.19444336e-03,  5.82927774e-04,\n",
       "        -9.79473102e-04,  1.79068002e-03, -2.31672025e-04,\n",
       "        -2.17720548e-04, -1.73508569e-05, -1.03078656e-03,\n",
       "        -6.27994380e-04, -6.71900364e-04, -3.82694246e-05,\n",
       "        -1.30564655e-04, -1.21422979e-02, -9.12528929e-05,\n",
       "        -5.54237192e-05, -1.62752483e-04, -1.39011841e-03,\n",
       "        -4.04340992e-03, -1.52381493e-03, -0.00000000e+00,\n",
       "        -3.64120092e-04,  6.68532978e-03,  2.45306028e-03,\n",
       "        -6.17570952e-03,  1.05232805e-03,  1.61346862e-04,\n",
       "         2.71718476e-04,  2.18589014e-02,  2.76417504e-04,\n",
       "         9.92036213e-04, -3.31587444e-03, -6.12453061e-06,\n",
       "         6.28706553e-05, -0.00000000e+00,  2.78298031e-04,\n",
       "         2.36945868e-03,  4.62009591e-04,  5.72293434e-07,\n",
       "         3.47201315e-06, -7.38294649e-05,  1.34134831e-06,\n",
       "         1.35805982e-06, -1.01749379e-06, -0.00000000e+00,\n",
       "         2.49766837e-04,  9.98059592e-01,  6.54971843e-03,\n",
       "         4.30772031e-02,  2.61525550e-02, -1.62408899e-03,\n",
       "        -8.21717414e-03,  1.08017062e-04],\n",
       "       [ 1.31191972e-02,  2.00632582e-02,  1.57822346e-02,\n",
       "         5.54249091e-03,  5.78754181e-02,  2.14535511e-02,\n",
       "         1.57637857e-02,  1.97389634e-02,  2.04638336e-02,\n",
       "         2.04011321e-03,  2.95089684e-02,  3.71376041e-03,\n",
       "         7.27380487e-02,  5.36679186e-02,  7.96646181e-04,\n",
       "         2.48245809e-02,  1.34615592e-01,  5.29602443e-03,\n",
       "         4.88501755e-03,  7.29339160e-04,  7.57679675e-02,\n",
       "        -8.90074288e-04,  2.61082453e-03, -1.13760263e-03,\n",
       "         6.40895285e-03,  6.83514698e-01,  4.36541118e-03,\n",
       "         2.30301868e-03,  3.09610339e-03,  2.40254594e-02,\n",
       "         7.74263554e-02,  1.78354846e-02,  0.00000000e+00,\n",
       "         6.38197725e-03, -2.68536579e-02,  3.28942208e-03,\n",
       "        -2.16767002e-02,  1.13323794e-02,  1.98778976e-02,\n",
       "         3.38385447e-03,  6.85978716e-01,  5.65549811e-02,\n",
       "        -9.26453714e-03,  8.98859390e-02,  3.11797115e-03,\n",
       "        -2.60040329e-03,  0.00000000e+00,  9.27326325e-03,\n",
       "         5.97323184e-03,  4.62418069e-04, -2.87232015e-06,\n",
       "         7.44324471e-05, -1.23705831e-03, -6.65117468e-06,\n",
       "         1.49536411e-05,  9.49891775e-06,  0.00000000e+00,\n",
       "         2.71234407e-04, -6.82403782e-03,  4.20940268e-03,\n",
       "         1.45980498e-02,  4.11789627e-03,  1.82548086e-02,\n",
       "        -4.52236597e-02,  5.01508361e-04],\n",
       "       [ 1.26810243e-02,  4.75552328e-03, -1.59255617e-02,\n",
       "         3.94860315e-03,  3.32627057e-02,  4.42321628e-03,\n",
       "         1.53779199e-03,  2.19406431e-03,  9.46794047e-03,\n",
       "         1.09213526e-03, -3.38505784e-02,  1.46291724e-03,\n",
       "         3.85650417e-02,  2.78308071e-02,  7.38724379e-03,\n",
       "         7.13981021e-03, -3.71221760e-03,  1.33691625e-03,\n",
       "         1.68794712e-03,  4.63282584e-04,  3.58530097e-02,\n",
       "         2.46169712e-03,  1.61792382e-03, -4.56032200e-04,\n",
       "         4.46032821e-04,  7.00764477e-01,  6.04229155e-03,\n",
       "         5.94329276e-04,  5.59841555e-04,  4.81616315e-03,\n",
       "         4.45528582e-02, -1.17099477e-03,  0.00000000e+00,\n",
       "        -1.78251163e-03, -5.72713034e-03,  2.88507252e-03,\n",
       "        -1.23794603e-02, -8.74568489e-03, -1.38346876e-02,\n",
       "        -2.40795873e-03, -7.02385776e-01, -4.62735533e-02,\n",
       "        -5.12539902e-03, -5.07694597e-02, -1.03908834e-03,\n",
       "        -3.93880398e-04,  0.00000000e+00, -2.77151423e-03,\n",
       "        -4.20065324e-03, -2.54600322e-03,  4.94415471e-07,\n",
       "        -4.30111930e-06, -2.72879643e-04,  7.13138471e-06,\n",
       "         8.33999410e-06,  1.27413118e-05,  0.00000000e+00,\n",
       "        -9.98202789e-04,  2.54058428e-02,  6.25076914e-03,\n",
       "        -2.21576727e-02, -4.80128575e-03, -2.98578746e-03,\n",
       "         2.39494619e-02, -2.96460511e-04],\n",
       "       [-2.57117672e-03, -1.23830679e-02, -1.72880775e-02,\n",
       "        -1.90696801e-03, -3.73547269e-02, -1.37118977e-02,\n",
       "        -1.39067846e-02,  7.66535772e-03, -1.49745239e-02,\n",
       "        -4.60288988e-04, -8.96774133e-03, -3.29737357e-04,\n",
       "        -1.35469795e-02, -8.61567891e-03, -6.54045842e-03,\n",
       "         1.01785161e-03,  6.99223817e-02, -7.10774432e-04,\n",
       "        -5.49799675e-03, -4.03792617e-03, -2.71346126e-01,\n",
       "        -2.92417743e-02, -2.02954899e-02, -7.00140413e-03,\n",
       "        -2.08002542e-04,  4.12417799e-02,  2.50248630e-04,\n",
       "        -3.50092631e-04, -1.52582464e-03, -9.69115490e-03,\n",
       "        -4.20198487e-02, -2.06821213e-02, -0.00000000e+00,\n",
       "        -1.27021104e-03, -3.34143199e-03, -1.89407341e-03,\n",
       "         5.08666816e-03, -1.06270919e-02, -3.78004232e-03,\n",
       "        -3.20468179e-03,  5.80314333e-02, -1.75622631e-02,\n",
       "        -8.42400325e-04, -3.46208187e-02, -5.26909998e-03,\n",
       "        -3.20240209e-03, -0.00000000e+00, -1.05647055e-03,\n",
       "        -1.39152975e-02,  2.95706897e-03, -5.14585268e-06,\n",
       "        -2.91379214e-05,  1.46424420e-04, -1.02508888e-05,\n",
       "        -1.06448251e-05, -8.61749254e-06, -0.00000000e+00,\n",
       "         1.36260059e-03,  6.91639966e-03, -4.19897334e-02,\n",
       "        -9.72561855e-03,  8.24457058e-03, -1.77451253e-03,\n",
       "         9.51813300e-01, -3.47226109e-05]])"
      ]
     },
     "execution_count": 223,
     "metadata": {},
     "output_type": "execute_result"
    }
   ],
   "source": [
    "pca.components_"
   ]
  },
  {
   "cell_type": "code",
   "execution_count": 224,
   "metadata": {},
   "outputs": [
    {
     "data": {
      "image/png": "[encoded data removed]",
      "text/plain": [
       "<Figure size 432x288 with 1 Axes>"
      ]
     },
     "metadata": {
      "needs_background": "light"
     },
     "output_type": "display_data"
    }
   ],
   "source": [
    "plt.hist(xTrainLDA[yTrain == 1], bins=20, color='g', alpha=0.8, label='1')\n",
    "plt.hist(xTrainLDA[yTrain == 0], bins=20, color='r', alpha=0.5, label='0')\n",
    "plt.legend(loc='upper right')\n",
    "plt.title(\"Distribution of LDA Vasopressin Data\")\n",
    "plt.show()"
   ]
  },
  {
   "cell_type": "code",
   "execution_count": 225,
   "metadata": {},
   "outputs": [
    {
     "data": {
      "text/plain": [
       "46929"
      ]
     },
     "execution_count": 225,
     "metadata": {},
     "output_type": "execute_result"
    }
   ],
   "source": [
    "len(xTrainLDA[yTrain==1])"
   ]
  },
  {
   "cell_type": "code",
   "execution_count": 226,
   "metadata": {},
   "outputs": [
    {
     "data": {
      "text/plain": [
       "<matplotlib.image.AxesImage at 0x7f004ba8ce10>"
      ]
     },
     "execution_count": 226,
     "metadata": {},
     "output_type": "execute_result"
    },
    {
     "data": {
      "image/png": "[encoded data removed]",
      "text/plain": [
       "<Figure size 432x288 with 1 Axes>"
      ]
     },
     "metadata": {
      "needs_background": "light"
     },
     "output_type": "display_data"
    }
   ],
   "source": [
    "plt.imshow(pca.components_, cmap='coolwarm', interpolation='nearest')"
   ]
  },
  {
   "cell_type": "code",
   "execution_count": 227,
   "metadata": {},
   "outputs": [
    {
     "ename": "NameError",
     "evalue": "name 'correct' is not defined",
     "output_type": "error",
     "traceback": [
      "\u001b[0;31m---------------------------------------------------------------------------\u001b[0m",
      "\u001b[0;31mNameError\u001b[0m                                 Traceback (most recent call last)",
      "\u001b[0;32m<ipython-input-227-c2e2cf8c585a>\u001b[0m in \u001b[0;36m<module>\u001b[0;34m\u001b[0m\n\u001b[0;32m----> 1\u001b[0;31m \u001b[0mcorrect\u001b[0m\u001b[0;34m/\u001b[0m\u001b[0mtotal\u001b[0m\u001b[0;34m\u001b[0m\u001b[0;34m\u001b[0m\u001b[0m\n\u001b[0m",
      "\u001b[0;31mNameError\u001b[0m: name 'correct' is not defined"
     ]
    }
   ],
   "source": [
    "correct/total"
   ]
  },
  {
   "cell_type": "code",
   "execution_count": 228,
   "metadata": {},
   "outputs": [
    {
     "data": {
      "text/plain": [
       "<matplotlib.image.AxesImage at 0x7f003f0f8c90>"
      ]
     },
     "execution_count": 228,
     "metadata": {},
     "output_type": "execute_result"
    },
    {
     "data": {
      "image/png": "[encoded data removed]",
      "text/plain": [
       "<Figure size 432x288 with 1 Axes>"
      ]
     },
     "metadata": {
      "needs_background": "light"
     },
     "output_type": "display_data"
    }
   ],
   "source": [
    "plt.imshow(clf_pca_lda.coef_, cmap='coolwarm', interpolation='nearest')"
   ]
  },
  {
   "cell_type": "code",
   "execution_count": 229,
   "metadata": {},
   "outputs": [],
   "source": [
    "from sklearn.ensemble import RandomForestClassifier"
   ]
  },
  {
   "cell_type": "code",
   "execution_count": 230,
   "metadata": {},
   "outputs": [],
   "source": [
    "#xTrainLDA, xValidLDA\n",
    "clf = RandomForestClassifier(oob_score=True)"
   ]
  },
  {
   "cell_type": "code",
   "execution_count": 231,
   "metadata": {},
   "outputs": [
    {
     "data": {
      "text/plain": [
       "RandomForestClassifier(bootstrap=True, ccp_alpha=0.0, class_weight=None,\n",
       "                       criterion='gini', max_depth=None, max_features='auto',\n",
       "                       max_leaf_nodes=None, max_samples=None,\n",
       "                       min_impurity_decrease=0.0, min_impurity_split=None,\n",
       "                       min_samples_leaf=1, min_samples_split=2,\n",
       "                       min_weight_fraction_leaf=0.0, n_estimators=100,\n",
       "                       n_jobs=None, oob_score=True, random_state=None,\n",
       "                       verbose=0, warm_start=False)"
      ]
     },
     "execution_count": 231,
     "metadata": {},
     "output_type": "execute_result"
    }
   ],
   "source": [
    "clf.fit(xTrainLDA, yTrain)"
   ]
  },
  {
   "cell_type": "code",
   "execution_count": 232,
   "metadata": {},
   "outputs": [],
   "source": [
    "forestPred = clf.predict(xValidLDA)"
   ]
  },
  {
   "cell_type": "code",
   "execution_count": 233,
   "metadata": {},
   "outputs": [
    {
     "name": "stdout",
     "output_type": "stream",
     "text": [
      "24798 of 25000 predicted correctly\n",
      "Accuracy: 0.99192\n"
     ]
    }
   ],
   "source": [
    "calculateAccuracy(forestPred, yValid)"
   ]
  },
  {
   "cell_type": "code",
   "execution_count": 234,
   "metadata": {},
   "outputs": [
    {
     "data": {
      "text/plain": [
       "array([1.])"
      ]
     },
     "execution_count": 234,
     "metadata": {},
     "output_type": "execute_result"
    }
   ],
   "source": [
    "clf.feature_importances_"
   ]
  },
  {
   "cell_type": "code",
   "execution_count": 235,
   "metadata": {},
   "outputs": [
    {
     "data": {
      "text/plain": [
       "AdaBoostClassifier(algorithm='SAMME.R', base_estimator=None, learning_rate=1.0,\n",
       "                   n_estimators=50, random_state=None)"
      ]
     },
     "execution_count": 235,
     "metadata": {},
     "output_type": "execute_result"
    }
   ],
   "source": [
    "from sklearn.ensemble import AdaBoostClassifier\n",
    "clf_boost = AdaBoostClassifier()\n",
    "clf_boost.fit(xTrainLDA, yTrain)"
   ]
  },
  {
   "cell_type": "code",
   "execution_count": 236,
   "metadata": {},
   "outputs": [],
   "source": [
    "boostPred = clf_boost.predict(xValidLDA)"
   ]
  },
  {
   "cell_type": "code",
   "execution_count": 237,
   "metadata": {},
   "outputs": [
    {
     "name": "stdout",
     "output_type": "stream",
     "text": [
      "20928 of 25000 predicted correctly\n",
      "Accuracy: 0.83712\n"
     ]
    }
   ],
   "source": [
    "calculateAccuracy(boostPred, yValid)"
   ]
  },
  {
   "cell_type": "code",
   "execution_count": 239,
   "metadata": {},
   "outputs": [
    {
     "data": {
      "text/plain": [
       "SVC(C=1.0, break_ties=False, cache_size=200, class_weight=None, coef0=0.0,\n",
       "    decision_function_shape='ovr', degree=3, gamma='scale', kernel='rbf',\n",
       "    max_iter=-1, probability=False, random_state=None, shrinking=True,\n",
       "    tol=0.001, verbose=False)"
      ]
     },
     "execution_count": 239,
     "metadata": {},
     "output_type": "execute_result"
    }
   ],
   "source": [
    "from sklearn import svm\n",
    "clf = svm.SVC()\n",
    "clf.fit(xTrainLDA, yTrain)"
   ]
  },
  {
   "cell_type": "code",
   "execution_count": 240,
   "metadata": {},
   "outputs": [],
   "source": [
    "svmPred = clf.predict(xValidLDA)"
   ]
  },
  {
   "cell_type": "code",
   "execution_count": 242,
   "metadata": {},
   "outputs": [
    {
     "name": "stdout",
     "output_type": "stream",
     "text": [
      "20804 of 25000 predicted correctly\n",
      "Accuracy: 0.83216\n"
     ]
    }
   ],
   "source": [
    "calculateAccuracy(svmPred, yValid)"
   ]
  },
  {
   "cell_type": "markdown",
   "metadata": {},
   "source": [
    "#### "
   ]
  }
 ],
 "metadata": {
  "kernelspec": {
   "display_name": "Python 3",
   "language": "python",
   "name": "python3"
  },
  "language_info": {
   "codemirror_mode": {
    "name": "ipython",
    "version": 3
   },
   "file_extension": ".py",
   "mimetype": "text/x-python",
   "name": "python",
   "nbconvert_exporter": "python",
   "pygments_lexer": "ipython3",
   "version": "3.7.6"
  }
 },
 "nbformat": 4,
 "nbformat_minor": 2
}
