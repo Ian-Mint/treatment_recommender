{
 "cells": [
  {
   "cell_type": "code",
   "execution_count": 24,
   "metadata": {
    "collapsed": true,
    "pycharm": {
     "is_executing": false
    }
   },
   "outputs": [],
   "source": [
    "import pandas as pd\n",
    "import numpy as np\n",
    "from datetime import datetime\n",
    "from pre_processing.db_tools import *"
   ]
  },
  {
   "cell_type": "code",
   "execution_count": 32,
   "outputs": [],
   "source": [
    "timestamp_format = \"%Y-%m-%d %H:%M:%S\"\n",
    "PERIOD_SECONDS = 4 * 3600"
   ],
   "metadata": {
    "collapsed": false,
    "pycharm": {
     "name": "#%%\n",
     "is_executing": false
    }
   }
  },
  {
   "cell_type": "code",
   "execution_count": 8,
   "outputs": [
    {
     "data": {
      "text/plain": "               admittime  hadm_id\n0    2166-08-10 00:28:00   185910\n1    2198-08-02 04:49:00   145674\n2    2198-11-01 22:36:00   122609\n3    2122-12-13 19:30:00   142807\n4    2128-03-17 17:11:00   160481\n...                  ...      ...\n4132 2188-10-18 02:00:00   134977\n4133 2143-08-22 16:01:00   186754\n4134 2127-06-10 19:22:00   168288\n4135 2127-10-21 12:43:00   153703\n4136 2125-02-22 22:18:00   141860\n\n[4137 rows x 2 columns]",
      "text/html": "<div>\n<style scoped>\n    .dataframe tbody tr th:only-of-type {\n        vertical-align: middle;\n    }\n\n    .dataframe tbody tr th {\n        vertical-align: top;\n    }\n\n    .dataframe thead th {\n        text-align: right;\n    }\n</style>\n<table border=\"1\" class=\"dataframe\">\n  <thead>\n    <tr style=\"text-align: right;\">\n      <th></th>\n      <th>admittime</th>\n      <th>hadm_id</th>\n    </tr>\n  </thead>\n  <tbody>\n    <tr>\n      <th>0</th>\n      <td>2166-08-10 00:28:00</td>\n      <td>185910</td>\n    </tr>\n    <tr>\n      <th>1</th>\n      <td>2198-08-02 04:49:00</td>\n      <td>145674</td>\n    </tr>\n    <tr>\n      <th>2</th>\n      <td>2198-11-01 22:36:00</td>\n      <td>122609</td>\n    </tr>\n    <tr>\n      <th>3</th>\n      <td>2122-12-13 19:30:00</td>\n      <td>142807</td>\n    </tr>\n    <tr>\n      <th>4</th>\n      <td>2128-03-17 17:11:00</td>\n      <td>160481</td>\n    </tr>\n    <tr>\n      <th>...</th>\n      <td>...</td>\n      <td>...</td>\n    </tr>\n    <tr>\n      <th>4132</th>\n      <td>2188-10-18 02:00:00</td>\n      <td>134977</td>\n    </tr>\n    <tr>\n      <th>4133</th>\n      <td>2143-08-22 16:01:00</td>\n      <td>186754</td>\n    </tr>\n    <tr>\n      <th>4134</th>\n      <td>2127-06-10 19:22:00</td>\n      <td>168288</td>\n    </tr>\n    <tr>\n      <th>4135</th>\n      <td>2127-10-21 12:43:00</td>\n      <td>153703</td>\n    </tr>\n    <tr>\n      <th>4136</th>\n      <td>2125-02-22 22:18:00</td>\n      <td>141860</td>\n    </tr>\n  </tbody>\n</table>\n<p>4137 rows × 2 columns</p>\n</div>"
     },
     "metadata": {},
     "output_type": "execute_result",
     "execution_count": 8
    }
   ],
   "source": [
    "sepsis_admissions = pd.read_sql(\"select * from sepsis_admissions_data\", connection)\n",
    "sepsis_admissions"
   ],
   "metadata": {
    "collapsed": false,
    "pycharm": {
     "name": "#%%\n",
     "is_executing": false
    }
   }
  },
  {
   "cell_type": "code",
   "execution_count": 4,
   "outputs": [
    {
     "data": {
      "text/plain": "        hadm_id           starttime             endtime  itemid      amount  \\\n0        166019 2178-04-23 16:47:00 2178-04-24 01:01:00  225942    2.479999   \n1        166019 2178-04-23 16:47:00 2178-04-24 01:01:00  225943   49.600001   \n2        166019 2178-04-20 15:25:00 2178-04-20 20:50:00  225942    2.499999   \n3        166019 2178-04-20 15:25:00 2178-04-20 20:50:00  225943   50.000002   \n4        178140 2152-05-02 08:08:00 2152-05-02 08:09:00  220949  200.000000   \n...         ...                 ...                 ...     ...         ...   \n700905   166019 2178-04-20 04:36:00 2178-04-20 09:58:00  225943   49.999999   \n700906   166019 2178-04-16 20:32:00 2178-04-16 20:33:00  225855    1.000000   \n700907   166019 2178-04-16 20:32:00 2178-04-16 20:33:00  220949   50.000000   \n700908   166019 2178-04-16 18:34:00 2178-04-16 21:03:00  222168  862.500089   \n700909   166019 2178-04-16 18:34:00 2178-04-16 21:03:00  225943   86.250013   \n\n       amountuom        rate     rateuom  orderid  linkorderid  \n0             mg  301.214412    mcg/hour  7686797      7686797  \n1             ml    6.024292     mL/hour  7686797      7686797  \n2             mg  461.538366    mcg/hour  7687717      7687717  \n3             ml    9.230770     mL/hour  7687717      7687717  \n4             ml         NaN        None   788410       788410  \n...          ...         ...         ...      ...          ...  \n700905        ml    9.316770     mL/hour  7539016      7539016  \n700906      dose         NaN        None  7570233      7570233  \n700907        ml         NaN        None  7570233      7570233  \n700908        mg   65.186838  mcg/kg/min  7652382       669855  \n700909        ml   34.731549     mL/hour  7652382       669855  \n\n[700910 rows x 10 columns]",
      "text/html": "<div>\n<style scoped>\n    .dataframe tbody tr th:only-of-type {\n        vertical-align: middle;\n    }\n\n    .dataframe tbody tr th {\n        vertical-align: top;\n    }\n\n    .dataframe thead th {\n        text-align: right;\n    }\n</style>\n<table border=\"1\" class=\"dataframe\">\n  <thead>\n    <tr style=\"text-align: right;\">\n      <th></th>\n      <th>hadm_id</th>\n      <th>starttime</th>\n      <th>endtime</th>\n      <th>itemid</th>\n      <th>amount</th>\n      <th>amountuom</th>\n      <th>rate</th>\n      <th>rateuom</th>\n      <th>orderid</th>\n      <th>linkorderid</th>\n    </tr>\n  </thead>\n  <tbody>\n    <tr>\n      <th>0</th>\n      <td>166019</td>\n      <td>2178-04-23 16:47:00</td>\n      <td>2178-04-24 01:01:00</td>\n      <td>225942</td>\n      <td>2.479999</td>\n      <td>mg</td>\n      <td>301.214412</td>\n      <td>mcg/hour</td>\n      <td>7686797</td>\n      <td>7686797</td>\n    </tr>\n    <tr>\n      <th>1</th>\n      <td>166019</td>\n      <td>2178-04-23 16:47:00</td>\n      <td>2178-04-24 01:01:00</td>\n      <td>225943</td>\n      <td>49.600001</td>\n      <td>ml</td>\n      <td>6.024292</td>\n      <td>mL/hour</td>\n      <td>7686797</td>\n      <td>7686797</td>\n    </tr>\n    <tr>\n      <th>2</th>\n      <td>166019</td>\n      <td>2178-04-20 15:25:00</td>\n      <td>2178-04-20 20:50:00</td>\n      <td>225942</td>\n      <td>2.499999</td>\n      <td>mg</td>\n      <td>461.538366</td>\n      <td>mcg/hour</td>\n      <td>7687717</td>\n      <td>7687717</td>\n    </tr>\n    <tr>\n      <th>3</th>\n      <td>166019</td>\n      <td>2178-04-20 15:25:00</td>\n      <td>2178-04-20 20:50:00</td>\n      <td>225943</td>\n      <td>50.000002</td>\n      <td>ml</td>\n      <td>9.230770</td>\n      <td>mL/hour</td>\n      <td>7687717</td>\n      <td>7687717</td>\n    </tr>\n    <tr>\n      <th>4</th>\n      <td>178140</td>\n      <td>2152-05-02 08:08:00</td>\n      <td>2152-05-02 08:09:00</td>\n      <td>220949</td>\n      <td>200.000000</td>\n      <td>ml</td>\n      <td>NaN</td>\n      <td>None</td>\n      <td>788410</td>\n      <td>788410</td>\n    </tr>\n    <tr>\n      <th>...</th>\n      <td>...</td>\n      <td>...</td>\n      <td>...</td>\n      <td>...</td>\n      <td>...</td>\n      <td>...</td>\n      <td>...</td>\n      <td>...</td>\n      <td>...</td>\n      <td>...</td>\n    </tr>\n    <tr>\n      <th>700905</th>\n      <td>166019</td>\n      <td>2178-04-20 04:36:00</td>\n      <td>2178-04-20 09:58:00</td>\n      <td>225943</td>\n      <td>49.999999</td>\n      <td>ml</td>\n      <td>9.316770</td>\n      <td>mL/hour</td>\n      <td>7539016</td>\n      <td>7539016</td>\n    </tr>\n    <tr>\n      <th>700906</th>\n      <td>166019</td>\n      <td>2178-04-16 20:32:00</td>\n      <td>2178-04-16 20:33:00</td>\n      <td>225855</td>\n      <td>1.000000</td>\n      <td>dose</td>\n      <td>NaN</td>\n      <td>None</td>\n      <td>7570233</td>\n      <td>7570233</td>\n    </tr>\n    <tr>\n      <th>700907</th>\n      <td>166019</td>\n      <td>2178-04-16 20:32:00</td>\n      <td>2178-04-16 20:33:00</td>\n      <td>220949</td>\n      <td>50.000000</td>\n      <td>ml</td>\n      <td>NaN</td>\n      <td>None</td>\n      <td>7570233</td>\n      <td>7570233</td>\n    </tr>\n    <tr>\n      <th>700908</th>\n      <td>166019</td>\n      <td>2178-04-16 18:34:00</td>\n      <td>2178-04-16 21:03:00</td>\n      <td>222168</td>\n      <td>862.500089</td>\n      <td>mg</td>\n      <td>65.186838</td>\n      <td>mcg/kg/min</td>\n      <td>7652382</td>\n      <td>669855</td>\n    </tr>\n    <tr>\n      <th>700909</th>\n      <td>166019</td>\n      <td>2178-04-16 18:34:00</td>\n      <td>2178-04-16 21:03:00</td>\n      <td>225943</td>\n      <td>86.250013</td>\n      <td>ml</td>\n      <td>34.731549</td>\n      <td>mL/hour</td>\n      <td>7652382</td>\n      <td>669855</td>\n    </tr>\n  </tbody>\n</table>\n<p>700910 rows × 10 columns</p>\n</div>"
     },
     "metadata": {},
     "output_type": "execute_result",
     "execution_count": 4
    }
   ],
   "source": [
    "sepsis_inputevents_mv = pd.read_sql(\"select * from sepsis_inputevents_mv\", connection)\n",
    "sepsis_inputevents_mv"
   ],
   "metadata": {
    "collapsed": false,
    "pycharm": {
     "name": "#%%\n",
     "is_executing": false
    }
   }
  },
  {
   "cell_type": "code",
   "execution_count": 12,
   "outputs": [
    {
     "data": {
      "text/plain": "       itemid                                        label\n0         497  Patient controlled analgesia (PCA) [Inject]\n1         498                            PCA Lockout (Min)\n2         499                               PCA Medication\n3         500                               PCA Total Dose\n4         501                           PCV Exh Vt (Obser)\n...       ...                                          ...\n12482  226757                        GCSMotorApacheIIValue\n12483  226758                       GCSVerbalApacheIIValue\n12484  226759                            HCO3ApacheIIValue\n12485  226760                                    HCO3Score\n12486  226761                      HematocritApacheIIScore\n\n[12487 rows x 2 columns]",
      "text/html": "<div>\n<style scoped>\n    .dataframe tbody tr th:only-of-type {\n        vertical-align: middle;\n    }\n\n    .dataframe tbody tr th {\n        vertical-align: top;\n    }\n\n    .dataframe thead th {\n        text-align: right;\n    }\n</style>\n<table border=\"1\" class=\"dataframe\">\n  <thead>\n    <tr style=\"text-align: right;\">\n      <th></th>\n      <th>itemid</th>\n      <th>label</th>\n    </tr>\n  </thead>\n  <tbody>\n    <tr>\n      <th>0</th>\n      <td>497</td>\n      <td>Patient controlled analgesia (PCA) [Inject]</td>\n    </tr>\n    <tr>\n      <th>1</th>\n      <td>498</td>\n      <td>PCA Lockout (Min)</td>\n    </tr>\n    <tr>\n      <th>2</th>\n      <td>499</td>\n      <td>PCA Medication</td>\n    </tr>\n    <tr>\n      <th>3</th>\n      <td>500</td>\n      <td>PCA Total Dose</td>\n    </tr>\n    <tr>\n      <th>4</th>\n      <td>501</td>\n      <td>PCV Exh Vt (Obser)</td>\n    </tr>\n    <tr>\n      <th>...</th>\n      <td>...</td>\n      <td>...</td>\n    </tr>\n    <tr>\n      <th>12482</th>\n      <td>226757</td>\n      <td>GCSMotorApacheIIValue</td>\n    </tr>\n    <tr>\n      <th>12483</th>\n      <td>226758</td>\n      <td>GCSVerbalApacheIIValue</td>\n    </tr>\n    <tr>\n      <th>12484</th>\n      <td>226759</td>\n      <td>HCO3ApacheIIValue</td>\n    </tr>\n    <tr>\n      <th>12485</th>\n      <td>226760</td>\n      <td>HCO3Score</td>\n    </tr>\n    <tr>\n      <th>12486</th>\n      <td>226761</td>\n      <td>HematocritApacheIIScore</td>\n    </tr>\n  </tbody>\n</table>\n<p>12487 rows × 2 columns</p>\n</div>"
     },
     "metadata": {},
     "output_type": "execute_result",
     "execution_count": 12
    }
   ],
   "source": [
    "item_ids = pd.read_sql(\"select itemid, label from d_items\", connection)\n",
    "item_ids"
   ],
   "metadata": {
    "collapsed": false,
    "pycharm": {
     "name": "#%%\n",
     "is_executing": false
    }
   }
  },
  {
   "cell_type": "markdown",
   "source": [
    "## Clean data\n"
   ],
   "metadata": {
    "collapsed": false,
    "pycharm": {
     "name": "#%% md\n",
     "is_executing": false
    }
   }
  },
  {
   "cell_type": "markdown",
   "source": [
    "## Vasopressin\n",
    "\n",
    "Get Vasopressin intake in four-hour chunks"
   ],
   "metadata": {
    "collapsed": false,
    "pycharm": {
     "name": "#%% md\n"
    }
   }
  },
  {
   "cell_type": "code",
   "execution_count": 98,
   "outputs": [
    {
     "data": {
      "text/plain": "        hadm_id           starttime             endtime  itemid     amount  \\\n99       170225 2105-04-30 07:43:00 2105-04-30 20:30:00  222315  30.686589   \n239      138598 2175-05-05 10:24:00 2175-05-05 19:42:00  222315  22.319999   \n502      132488 2150-07-10 10:43:00 2150-07-12 04:03:00  222315  99.999996   \n690      176834 2187-08-22 06:36:00 2187-08-23 07:15:00  222315  88.720113   \n736      176834 2187-08-25 18:09:00 2187-08-26 06:50:00  222315  30.439999   \n...         ...                 ...                 ...     ...        ...   \n698807   127431 2195-07-17 04:21:00 2195-07-18 22:00:00  222315  99.959998   \n699872   166088 2149-07-03 23:15:00 2149-07-04 17:06:00  222315  42.839999   \n700044   167226 2170-06-17 10:45:00 2170-06-17 22:23:00  222315  13.960000   \n700253   143269 2122-05-31 00:00:00 2122-05-31 03:30:00  222315   8.400000   \n700312   146668 2200-08-04 15:30:00 2200-08-05 04:04:00  222315  30.159999   \n\n       amountuom      rate     rateuom  orderid  linkorderid  \n99         units  2.400515  units/hour  5677917      4342388  \n239        units  2.400000  units/hour  3151116      3151116  \n502        units  2.419355  units/hour  8139223      8139223  \n690        units  3.599193  units/hour  2227782      2227782  \n736        units  2.400000  units/hour  4815294      4815294  \n...          ...       ...         ...      ...          ...  \n698807     units  2.400000  units/hour  9227493      9227493  \n699872     units  2.400000  units/hour  4772268      4772268  \n700044     units  1.200000  units/hour   230104       230104  \n700253     units  2.400000  units/hour  2567771      2567771  \n700312     units  2.400000  units/hour  4460131      4460131  \n\n[3095 rows x 10 columns]",
      "text/html": "<div>\n<style scoped>\n    .dataframe tbody tr th:only-of-type {\n        vertical-align: middle;\n    }\n\n    .dataframe tbody tr th {\n        vertical-align: top;\n    }\n\n    .dataframe thead th {\n        text-align: right;\n    }\n</style>\n<table border=\"1\" class=\"dataframe\">\n  <thead>\n    <tr style=\"text-align: right;\">\n      <th></th>\n      <th>hadm_id</th>\n      <th>starttime</th>\n      <th>endtime</th>\n      <th>itemid</th>\n      <th>amount</th>\n      <th>amountuom</th>\n      <th>rate</th>\n      <th>rateuom</th>\n      <th>orderid</th>\n      <th>linkorderid</th>\n    </tr>\n  </thead>\n  <tbody>\n    <tr>\n      <th>99</th>\n      <td>170225</td>\n      <td>2105-04-30 07:43:00</td>\n      <td>2105-04-30 20:30:00</td>\n      <td>222315</td>\n      <td>30.686589</td>\n      <td>units</td>\n      <td>2.400515</td>\n      <td>units/hour</td>\n      <td>5677917</td>\n      <td>4342388</td>\n    </tr>\n    <tr>\n      <th>239</th>\n      <td>138598</td>\n      <td>2175-05-05 10:24:00</td>\n      <td>2175-05-05 19:42:00</td>\n      <td>222315</td>\n      <td>22.319999</td>\n      <td>units</td>\n      <td>2.400000</td>\n      <td>units/hour</td>\n      <td>3151116</td>\n      <td>3151116</td>\n    </tr>\n    <tr>\n      <th>502</th>\n      <td>132488</td>\n      <td>2150-07-10 10:43:00</td>\n      <td>2150-07-12 04:03:00</td>\n      <td>222315</td>\n      <td>99.999996</td>\n      <td>units</td>\n      <td>2.419355</td>\n      <td>units/hour</td>\n      <td>8139223</td>\n      <td>8139223</td>\n    </tr>\n    <tr>\n      <th>690</th>\n      <td>176834</td>\n      <td>2187-08-22 06:36:00</td>\n      <td>2187-08-23 07:15:00</td>\n      <td>222315</td>\n      <td>88.720113</td>\n      <td>units</td>\n      <td>3.599193</td>\n      <td>units/hour</td>\n      <td>2227782</td>\n      <td>2227782</td>\n    </tr>\n    <tr>\n      <th>736</th>\n      <td>176834</td>\n      <td>2187-08-25 18:09:00</td>\n      <td>2187-08-26 06:50:00</td>\n      <td>222315</td>\n      <td>30.439999</td>\n      <td>units</td>\n      <td>2.400000</td>\n      <td>units/hour</td>\n      <td>4815294</td>\n      <td>4815294</td>\n    </tr>\n    <tr>\n      <th>...</th>\n      <td>...</td>\n      <td>...</td>\n      <td>...</td>\n      <td>...</td>\n      <td>...</td>\n      <td>...</td>\n      <td>...</td>\n      <td>...</td>\n      <td>...</td>\n      <td>...</td>\n    </tr>\n    <tr>\n      <th>698807</th>\n      <td>127431</td>\n      <td>2195-07-17 04:21:00</td>\n      <td>2195-07-18 22:00:00</td>\n      <td>222315</td>\n      <td>99.959998</td>\n      <td>units</td>\n      <td>2.400000</td>\n      <td>units/hour</td>\n      <td>9227493</td>\n      <td>9227493</td>\n    </tr>\n    <tr>\n      <th>699872</th>\n      <td>166088</td>\n      <td>2149-07-03 23:15:00</td>\n      <td>2149-07-04 17:06:00</td>\n      <td>222315</td>\n      <td>42.839999</td>\n      <td>units</td>\n      <td>2.400000</td>\n      <td>units/hour</td>\n      <td>4772268</td>\n      <td>4772268</td>\n    </tr>\n    <tr>\n      <th>700044</th>\n      <td>167226</td>\n      <td>2170-06-17 10:45:00</td>\n      <td>2170-06-17 22:23:00</td>\n      <td>222315</td>\n      <td>13.960000</td>\n      <td>units</td>\n      <td>1.200000</td>\n      <td>units/hour</td>\n      <td>230104</td>\n      <td>230104</td>\n    </tr>\n    <tr>\n      <th>700253</th>\n      <td>143269</td>\n      <td>2122-05-31 00:00:00</td>\n      <td>2122-05-31 03:30:00</td>\n      <td>222315</td>\n      <td>8.400000</td>\n      <td>units</td>\n      <td>2.400000</td>\n      <td>units/hour</td>\n      <td>2567771</td>\n      <td>2567771</td>\n    </tr>\n    <tr>\n      <th>700312</th>\n      <td>146668</td>\n      <td>2200-08-04 15:30:00</td>\n      <td>2200-08-05 04:04:00</td>\n      <td>222315</td>\n      <td>30.159999</td>\n      <td>units</td>\n      <td>2.400000</td>\n      <td>units/hour</td>\n      <td>4460131</td>\n      <td>4460131</td>\n    </tr>\n  </tbody>\n</table>\n<p>3095 rows × 10 columns</p>\n</div>"
     },
     "metadata": {},
     "output_type": "execute_result",
     "execution_count": 98
    }
   ],
   "source": [
    "vasopressin_ids = np.array([1136, 2445, 30051, 222315])\n",
    "vasopressin_events = sepsis_inputevents_mv.loc[sepsis_inputevents_mv['itemid'].isin(vasopressin_ids)]\n",
    "vasopressin_events"
   ],
   "metadata": {
    "collapsed": false,
    "pycharm": {
     "name": "#%%\n",
     "is_executing": false
    }
   }
  },
  {
   "cell_type": "code",
   "execution_count": 99,
   "outputs": [
    {
     "name": "stderr",
     "text": [
      "/home/ian/miniconda3/envs/treatment_recommender/lib/python3.7/site-packages/pandas/core/indexing.py:965: SettingWithCopyWarning: \n",
      "A value is trying to be set on a copy of a slice from a DataFrame.\n",
      "Try using .loc[row_indexer,col_indexer] = value instead\n",
      "\n",
      "See the caveats in the documentation: https://pandas.pydata.org/pandas-docs/stable/user_guide/indexing.html#returning-a-view-versus-a-copy\n",
      "  self.obj[item] = s\n"
     ],
     "output_type": "stream"
    },
    {
     "traceback": [
      "\u001b[0;31m---------------------------------------------------------------------------\u001b[0m",
      "\u001b[0;31mTypeError\u001b[0m                                 Traceback (most recent call last)",
      "\u001b[0;32m<ipython-input-99-6528a8bba533>\u001b[0m in \u001b[0;36m<module>\u001b[0;34m\u001b[0m\n\u001b[1;32m      3\u001b[0m     \u001b[0;32massert\u001b[0m \u001b[0mlen\u001b[0m\u001b[0;34m(\u001b[0m\u001b[0mstart_time\u001b[0m\u001b[0;34m)\u001b[0m \u001b[0;34m==\u001b[0m \u001b[0;36m1\u001b[0m\u001b[0;34m\u001b[0m\u001b[0;34m\u001b[0m\u001b[0m\n\u001b[1;32m      4\u001b[0m     \u001b[0mvasopressin_events\u001b[0m\u001b[0;34m.\u001b[0m\u001b[0mloc\u001b[0m\u001b[0;34m[\u001b[0m\u001b[0mvasopressin_events\u001b[0m\u001b[0;34m[\u001b[0m\u001b[0;34m'hadm_id'\u001b[0m\u001b[0;34m]\u001b[0m \u001b[0;34m==\u001b[0m \u001b[0mrow\u001b[0m\u001b[0;34m[\u001b[0m\u001b[0;34m'hadm_id'\u001b[0m\u001b[0;34m]\u001b[0m\u001b[0;34m,\u001b[0m \u001b[0;34m'starttime'\u001b[0m\u001b[0;34m]\u001b[0m \u001b[0;34m=\u001b[0m\u001b[0;31m \u001b[0m\u001b[0;31m\\\u001b[0m\u001b[0;34m\u001b[0m\u001b[0;34m\u001b[0m\u001b[0m\n\u001b[0;32m----> 5\u001b[0;31m         \u001b[0mvasopressin_events\u001b[0m\u001b[0;34m.\u001b[0m\u001b[0mloc\u001b[0m\u001b[0;34m[\u001b[0m\u001b[0mvasopressin_events\u001b[0m\u001b[0;34m[\u001b[0m\u001b[0;34m'hadm_id'\u001b[0m\u001b[0;34m]\u001b[0m \u001b[0;34m==\u001b[0m \u001b[0mrow\u001b[0m\u001b[0;34m[\u001b[0m\u001b[0;34m'hadm_id'\u001b[0m\u001b[0;34m]\u001b[0m\u001b[0;34m,\u001b[0m \u001b[0;34m'starttime'\u001b[0m\u001b[0;34m]\u001b[0m \u001b[0;34m-\u001b[0m \u001b[0mstart_time\u001b[0m\u001b[0;34m[\u001b[0m\u001b[0;36m0\u001b[0m\u001b[0;34m]\u001b[0m\u001b[0;34m\u001b[0m\u001b[0;34m\u001b[0m\u001b[0m\n\u001b[0m\u001b[1;32m      6\u001b[0m \u001b[0;34m\u001b[0m\u001b[0m\n",
      "\u001b[0;32m~/miniconda3/envs/treatment_recommender/lib/python3.7/site-packages/pandas/core/ops/common.py\u001b[0m in \u001b[0;36mnew_method\u001b[0;34m(self, other)\u001b[0m\n\u001b[1;32m     62\u001b[0m         \u001b[0mother\u001b[0m \u001b[0;34m=\u001b[0m \u001b[0mitem_from_zerodim\u001b[0m\u001b[0;34m(\u001b[0m\u001b[0mother\u001b[0m\u001b[0;34m)\u001b[0m\u001b[0;34m\u001b[0m\u001b[0;34m\u001b[0m\u001b[0m\n\u001b[1;32m     63\u001b[0m \u001b[0;34m\u001b[0m\u001b[0m\n\u001b[0;32m---> 64\u001b[0;31m         \u001b[0;32mreturn\u001b[0m \u001b[0mmethod\u001b[0m\u001b[0;34m(\u001b[0m\u001b[0mself\u001b[0m\u001b[0;34m,\u001b[0m \u001b[0mother\u001b[0m\u001b[0;34m)\u001b[0m\u001b[0;34m\u001b[0m\u001b[0;34m\u001b[0m\u001b[0m\n\u001b[0m\u001b[1;32m     65\u001b[0m \u001b[0;34m\u001b[0m\u001b[0m\n\u001b[1;32m     66\u001b[0m     \u001b[0;32mreturn\u001b[0m \u001b[0mnew_method\u001b[0m\u001b[0;34m\u001b[0m\u001b[0;34m\u001b[0m\u001b[0m\n",
      "\u001b[0;32m~/miniconda3/envs/treatment_recommender/lib/python3.7/site-packages/pandas/core/ops/__init__.py\u001b[0m in \u001b[0;36mwrapper\u001b[0;34m(left, right)\u001b[0m\n\u001b[1;32m    498\u001b[0m         \u001b[0mlvalues\u001b[0m \u001b[0;34m=\u001b[0m \u001b[0mextract_array\u001b[0m\u001b[0;34m(\u001b[0m\u001b[0mleft\u001b[0m\u001b[0;34m,\u001b[0m \u001b[0mextract_numpy\u001b[0m\u001b[0;34m=\u001b[0m\u001b[0;32mTrue\u001b[0m\u001b[0;34m)\u001b[0m\u001b[0;34m\u001b[0m\u001b[0;34m\u001b[0m\u001b[0m\n\u001b[1;32m    499\u001b[0m         \u001b[0mrvalues\u001b[0m \u001b[0;34m=\u001b[0m \u001b[0mextract_array\u001b[0m\u001b[0;34m(\u001b[0m\u001b[0mright\u001b[0m\u001b[0;34m,\u001b[0m \u001b[0mextract_numpy\u001b[0m\u001b[0;34m=\u001b[0m\u001b[0;32mTrue\u001b[0m\u001b[0;34m)\u001b[0m\u001b[0;34m\u001b[0m\u001b[0;34m\u001b[0m\u001b[0m\n\u001b[0;32m--> 500\u001b[0;31m         \u001b[0mresult\u001b[0m \u001b[0;34m=\u001b[0m \u001b[0marithmetic_op\u001b[0m\u001b[0;34m(\u001b[0m\u001b[0mlvalues\u001b[0m\u001b[0;34m,\u001b[0m \u001b[0mrvalues\u001b[0m\u001b[0;34m,\u001b[0m \u001b[0mop\u001b[0m\u001b[0;34m,\u001b[0m \u001b[0mstr_rep\u001b[0m\u001b[0;34m)\u001b[0m\u001b[0;34m\u001b[0m\u001b[0;34m\u001b[0m\u001b[0m\n\u001b[0m\u001b[1;32m    501\u001b[0m \u001b[0;34m\u001b[0m\u001b[0m\n\u001b[1;32m    502\u001b[0m         \u001b[0;32mreturn\u001b[0m \u001b[0m_construct_result\u001b[0m\u001b[0;34m(\u001b[0m\u001b[0mleft\u001b[0m\u001b[0;34m,\u001b[0m \u001b[0mresult\u001b[0m\u001b[0;34m,\u001b[0m \u001b[0mindex\u001b[0m\u001b[0;34m=\u001b[0m\u001b[0mleft\u001b[0m\u001b[0;34m.\u001b[0m\u001b[0mindex\u001b[0m\u001b[0;34m,\u001b[0m \u001b[0mname\u001b[0m\u001b[0;34m=\u001b[0m\u001b[0mres_name\u001b[0m\u001b[0;34m)\u001b[0m\u001b[0;34m\u001b[0m\u001b[0;34m\u001b[0m\u001b[0m\n",
      "\u001b[0;32m~/miniconda3/envs/treatment_recommender/lib/python3.7/site-packages/pandas/core/ops/array_ops.py\u001b[0m in \u001b[0;36marithmetic_op\u001b[0;34m(left, right, op, str_rep)\u001b[0m\n\u001b[1;32m    191\u001b[0m         \u001b[0;31m#  by dispatch_to_extension_op.\u001b[0m\u001b[0;34m\u001b[0m\u001b[0;34m\u001b[0m\u001b[0;34m\u001b[0m\u001b[0m\n\u001b[1;32m    192\u001b[0m         \u001b[0;31m# Timedelta is included because numexpr will fail on it, see GH#31457\u001b[0m\u001b[0;34m\u001b[0m\u001b[0;34m\u001b[0m\u001b[0;34m\u001b[0m\u001b[0m\n\u001b[0;32m--> 193\u001b[0;31m         \u001b[0mres_values\u001b[0m \u001b[0;34m=\u001b[0m \u001b[0mdispatch_to_extension_op\u001b[0m\u001b[0;34m(\u001b[0m\u001b[0mop\u001b[0m\u001b[0;34m,\u001b[0m \u001b[0mlvalues\u001b[0m\u001b[0;34m,\u001b[0m \u001b[0mrvalues\u001b[0m\u001b[0;34m)\u001b[0m\u001b[0;34m\u001b[0m\u001b[0;34m\u001b[0m\u001b[0m\n\u001b[0m\u001b[1;32m    194\u001b[0m \u001b[0;34m\u001b[0m\u001b[0m\n\u001b[1;32m    195\u001b[0m     \u001b[0;32melse\u001b[0m\u001b[0;34m:\u001b[0m\u001b[0;34m\u001b[0m\u001b[0;34m\u001b[0m\u001b[0m\n",
      "\u001b[0;32m~/miniconda3/envs/treatment_recommender/lib/python3.7/site-packages/pandas/core/ops/dispatch.py\u001b[0m in \u001b[0;36mdispatch_to_extension_op\u001b[0;34m(op, left, right)\u001b[0m\n\u001b[1;32m    123\u001b[0m     \u001b[0;31m# The op calls will raise TypeError if the op is not defined\u001b[0m\u001b[0;34m\u001b[0m\u001b[0;34m\u001b[0m\u001b[0;34m\u001b[0m\u001b[0m\n\u001b[1;32m    124\u001b[0m     \u001b[0;31m# on the ExtensionArray\u001b[0m\u001b[0;34m\u001b[0m\u001b[0;34m\u001b[0m\u001b[0;34m\u001b[0m\u001b[0m\n\u001b[0;32m--> 125\u001b[0;31m     \u001b[0mres_values\u001b[0m \u001b[0;34m=\u001b[0m \u001b[0mop\u001b[0m\u001b[0;34m(\u001b[0m\u001b[0mleft\u001b[0m\u001b[0;34m,\u001b[0m \u001b[0mright\u001b[0m\u001b[0;34m)\u001b[0m\u001b[0;34m\u001b[0m\u001b[0;34m\u001b[0m\u001b[0m\n\u001b[0m\u001b[1;32m    126\u001b[0m     \u001b[0;32mreturn\u001b[0m \u001b[0mres_values\u001b[0m\u001b[0;34m\u001b[0m\u001b[0;34m\u001b[0m\u001b[0m\n",
      "\u001b[0;31mTypeError\u001b[0m: unsupported operand type(s) for -: 'numpy.ndarray' and 'Timestamp'"
     ],
     "ename": "TypeError",
     "evalue": "unsupported operand type(s) for -: 'numpy.ndarray' and 'Timestamp'",
     "output_type": "error"
    }
   ],
   "source": [
    "for index, row in sepsis_admissions.iterrows():\n",
    "    start_time = sepsis_admissions['admittime'][sepsis_admissions['hadm_id'] == row['hadm_id']].array\n",
    "    assert len(start_time) == 1\n",
    "    vasopressin_events.loc[vasopressin_events['hadm_id'] == row['hadm_id'], 'starttime'] = \\\n",
    "        vasopressin_events.loc[vasopressin_events['hadm_id'] == row['hadm_id'], 'starttime'] - start_time[0] "
   ],
   "metadata": {
    "collapsed": false,
    "pycharm": {
     "name": "#%%\n",
     "is_executing": false
    }
   }
  },
  {
   "cell_type": "code",
   "execution_count": 96,
   "outputs": [
    {
     "data": {
      "text/plain": "        hadm_id           starttime             endtime  itemid     amount  \\\n99       170225 2105-04-30 07:43:00 2105-04-30 20:30:00  222315  30.686589   \n239      138598 2175-05-05 10:24:00 2175-05-05 19:42:00  222315  22.319999   \n502      132488 2150-07-10 10:43:00 2150-07-12 04:03:00  222315  99.999996   \n690      176834 2187-08-22 06:36:00 2187-08-23 07:15:00  222315  88.720113   \n736      176834 2187-08-25 18:09:00 2187-08-26 06:50:00  222315  30.439999   \n...         ...                 ...                 ...     ...        ...   \n698807   127431 2195-07-17 04:21:00 2195-07-18 22:00:00  222315  99.959998   \n699872   166088 2149-07-03 23:15:00 2149-07-04 17:06:00  222315  42.839999   \n700044   167226 2170-06-17 10:45:00 2170-06-17 22:23:00  222315  13.960000   \n700253   143269 2122-05-31 00:00:00 2122-05-31 03:30:00  222315   8.400000   \n700312   146668 2200-08-04 15:30:00 2200-08-05 04:04:00  222315  30.159999   \n\n       amountuom      rate     rateuom  orderid  linkorderid  \n99         units  2.400515  units/hour  5677917      4342388  \n239        units  2.400000  units/hour  3151116      3151116  \n502        units  2.419355  units/hour  8139223      8139223  \n690        units  3.599193  units/hour  2227782      2227782  \n736        units  2.400000  units/hour  4815294      4815294  \n...          ...       ...         ...      ...          ...  \n698807     units  2.400000  units/hour  9227493      9227493  \n699872     units  2.400000  units/hour  4772268      4772268  \n700044     units  1.200000  units/hour   230104       230104  \n700253     units  2.400000  units/hour  2567771      2567771  \n700312     units  2.400000  units/hour  4460131      4460131  \n\n[3095 rows x 10 columns]",
      "text/html": "<div>\n<style scoped>\n    .dataframe tbody tr th:only-of-type {\n        vertical-align: middle;\n    }\n\n    .dataframe tbody tr th {\n        vertical-align: top;\n    }\n\n    .dataframe thead th {\n        text-align: right;\n    }\n</style>\n<table border=\"1\" class=\"dataframe\">\n  <thead>\n    <tr style=\"text-align: right;\">\n      <th></th>\n      <th>hadm_id</th>\n      <th>starttime</th>\n      <th>endtime</th>\n      <th>itemid</th>\n      <th>amount</th>\n      <th>amountuom</th>\n      <th>rate</th>\n      <th>rateuom</th>\n      <th>orderid</th>\n      <th>linkorderid</th>\n    </tr>\n  </thead>\n  <tbody>\n    <tr>\n      <th>99</th>\n      <td>170225</td>\n      <td>2105-04-30 07:43:00</td>\n      <td>2105-04-30 20:30:00</td>\n      <td>222315</td>\n      <td>30.686589</td>\n      <td>units</td>\n      <td>2.400515</td>\n      <td>units/hour</td>\n      <td>5677917</td>\n      <td>4342388</td>\n    </tr>\n    <tr>\n      <th>239</th>\n      <td>138598</td>\n      <td>2175-05-05 10:24:00</td>\n      <td>2175-05-05 19:42:00</td>\n      <td>222315</td>\n      <td>22.319999</td>\n      <td>units</td>\n      <td>2.400000</td>\n      <td>units/hour</td>\n      <td>3151116</td>\n      <td>3151116</td>\n    </tr>\n    <tr>\n      <th>502</th>\n      <td>132488</td>\n      <td>2150-07-10 10:43:00</td>\n      <td>2150-07-12 04:03:00</td>\n      <td>222315</td>\n      <td>99.999996</td>\n      <td>units</td>\n      <td>2.419355</td>\n      <td>units/hour</td>\n      <td>8139223</td>\n      <td>8139223</td>\n    </tr>\n    <tr>\n      <th>690</th>\n      <td>176834</td>\n      <td>2187-08-22 06:36:00</td>\n      <td>2187-08-23 07:15:00</td>\n      <td>222315</td>\n      <td>88.720113</td>\n      <td>units</td>\n      <td>3.599193</td>\n      <td>units/hour</td>\n      <td>2227782</td>\n      <td>2227782</td>\n    </tr>\n    <tr>\n      <th>736</th>\n      <td>176834</td>\n      <td>2187-08-25 18:09:00</td>\n      <td>2187-08-26 06:50:00</td>\n      <td>222315</td>\n      <td>30.439999</td>\n      <td>units</td>\n      <td>2.400000</td>\n      <td>units/hour</td>\n      <td>4815294</td>\n      <td>4815294</td>\n    </tr>\n    <tr>\n      <th>...</th>\n      <td>...</td>\n      <td>...</td>\n      <td>...</td>\n      <td>...</td>\n      <td>...</td>\n      <td>...</td>\n      <td>...</td>\n      <td>...</td>\n      <td>...</td>\n      <td>...</td>\n    </tr>\n    <tr>\n      <th>698807</th>\n      <td>127431</td>\n      <td>2195-07-17 04:21:00</td>\n      <td>2195-07-18 22:00:00</td>\n      <td>222315</td>\n      <td>99.959998</td>\n      <td>units</td>\n      <td>2.400000</td>\n      <td>units/hour</td>\n      <td>9227493</td>\n      <td>9227493</td>\n    </tr>\n    <tr>\n      <th>699872</th>\n      <td>166088</td>\n      <td>2149-07-03 23:15:00</td>\n      <td>2149-07-04 17:06:00</td>\n      <td>222315</td>\n      <td>42.839999</td>\n      <td>units</td>\n      <td>2.400000</td>\n      <td>units/hour</td>\n      <td>4772268</td>\n      <td>4772268</td>\n    </tr>\n    <tr>\n      <th>700044</th>\n      <td>167226</td>\n      <td>2170-06-17 10:45:00</td>\n      <td>2170-06-17 22:23:00</td>\n      <td>222315</td>\n      <td>13.960000</td>\n      <td>units</td>\n      <td>1.200000</td>\n      <td>units/hour</td>\n      <td>230104</td>\n      <td>230104</td>\n    </tr>\n    <tr>\n      <th>700253</th>\n      <td>143269</td>\n      <td>2122-05-31 00:00:00</td>\n      <td>2122-05-31 03:30:00</td>\n      <td>222315</td>\n      <td>8.400000</td>\n      <td>units</td>\n      <td>2.400000</td>\n      <td>units/hour</td>\n      <td>2567771</td>\n      <td>2567771</td>\n    </tr>\n    <tr>\n      <th>700312</th>\n      <td>146668</td>\n      <td>2200-08-04 15:30:00</td>\n      <td>2200-08-05 04:04:00</td>\n      <td>222315</td>\n      <td>30.159999</td>\n      <td>units</td>\n      <td>2.400000</td>\n      <td>units/hour</td>\n      <td>4460131</td>\n      <td>4460131</td>\n    </tr>\n  </tbody>\n</table>\n<p>3095 rows × 10 columns</p>\n</div>"
     },
     "metadata": {},
     "output_type": "execute_result",
     "execution_count": 96
    }
   ],
   "source": [
    "vasopressin_events"
   ],
   "metadata": {
    "collapsed": false,
    "pycharm": {
     "name": "#%%\n",
     "is_executing": false
    }
   }
  },
  {
   "cell_type": "code",
   "execution_count": 90,
   "outputs": [
    {
     "data": {
      "text/plain": "       hadm_id           starttime             endtime  itemid     amount  \\\n99      170225 2105-04-30 07:43:00 2105-04-30 20:30:00  222315  30.686589   \n10046   170225 2105-04-30 02:00:00 2105-04-30 07:43:00  222315   6.860000   \n\n      amountuom      rate     rateuom  orderid  linkorderid  \n99        units  2.400515  units/hour  5677917      4342388  \n10046     units  1.200000  units/hour  4342388      4342388  ",
      "text/html": "<div>\n<style scoped>\n    .dataframe tbody tr th:only-of-type {\n        vertical-align: middle;\n    }\n\n    .dataframe tbody tr th {\n        vertical-align: top;\n    }\n\n    .dataframe thead th {\n        text-align: right;\n    }\n</style>\n<table border=\"1\" class=\"dataframe\">\n  <thead>\n    <tr style=\"text-align: right;\">\n      <th></th>\n      <th>hadm_id</th>\n      <th>starttime</th>\n      <th>endtime</th>\n      <th>itemid</th>\n      <th>amount</th>\n      <th>amountuom</th>\n      <th>rate</th>\n      <th>rateuom</th>\n      <th>orderid</th>\n      <th>linkorderid</th>\n    </tr>\n  </thead>\n  <tbody>\n    <tr>\n      <th>99</th>\n      <td>170225</td>\n      <td>2105-04-30 07:43:00</td>\n      <td>2105-04-30 20:30:00</td>\n      <td>222315</td>\n      <td>30.686589</td>\n      <td>units</td>\n      <td>2.400515</td>\n      <td>units/hour</td>\n      <td>5677917</td>\n      <td>4342388</td>\n    </tr>\n    <tr>\n      <th>10046</th>\n      <td>170225</td>\n      <td>2105-04-30 02:00:00</td>\n      <td>2105-04-30 07:43:00</td>\n      <td>222315</td>\n      <td>6.860000</td>\n      <td>units</td>\n      <td>1.200000</td>\n      <td>units/hour</td>\n      <td>4342388</td>\n      <td>4342388</td>\n    </tr>\n  </tbody>\n</table>\n</div>"
     },
     "metadata": {},
     "output_type": "execute_result",
     "execution_count": 90
    }
   ],
   "source": [
    "individual_vasopressin = vasopressin_events.loc[vasopressin_events['hadm_id'] == 170225]\n",
    "individual_vasopressin"
   ],
   "metadata": {
    "collapsed": false,
    "pycharm": {
     "name": "#%%\n",
     "is_executing": false
    }
   }
  },
  {
   "cell_type": "code",
   "execution_count": 91,
   "outputs": [
    {
     "data": {
      "text/plain": "Timestamp('2105-04-22 17:12:00')"
     },
     "metadata": {},
     "output_type": "execute_result",
     "execution_count": 91
    }
   ],
   "source": [
    "start_time = sepsis_admissions.loc[sepsis_admissions['hadm_id'] == 170225, 'admittime']\n",
    "assert len(start_time) == 1\n",
    "start_time.array[0]"
   ],
   "metadata": {
    "collapsed": false,
    "pycharm": {
     "name": "#%%\n",
     "is_executing": false
    }
   }
  },
  {
   "cell_type": "code",
   "execution_count": 94,
   "outputs": [
    {
     "name": "stderr",
     "text": [
      "/home/ian/miniconda3/envs/treatment_recommender/lib/python3.7/site-packages/pandas/core/indexing.py:965: SettingWithCopyWarning: \n",
      "A value is trying to be set on a copy of a slice from a DataFrame.\n",
      "Try using .loc[row_indexer,col_indexer] = value instead\n",
      "\n",
      "See the caveats in the documentation: https://pandas.pydata.org/pandas-docs/stable/user_guide/indexing.html#returning-a-view-versus-a-copy\n",
      "  self.obj[item] = s\n"
     ],
     "output_type": "stream"
    }
   ],
   "source": [
    "individual_vasopressin.loc[:, 'starttime'] = individual_vasopressin.loc[:, 'starttime'] - start_time.array[0]"
   ],
   "metadata": {
    "collapsed": false,
    "pycharm": {
     "name": "#%%\n",
     "is_executing": false
    }
   }
  },
  {
   "cell_type": "code",
   "execution_count": null,
   "outputs": [],
   "source": [
    "\n"
   ],
   "metadata": {
    "collapsed": false,
    "pycharm": {
     "name": "#%%\n"
    }
   }
  }
 ],
 "metadata": {
  "kernelspec": {
   "display_name": "Python 3",
   "language": "python",
   "name": "python3"
  },
  "language_info": {
   "codemirror_mode": {
    "name": "ipython",
    "version": 2
   },
   "file_extension": ".py",
   "mimetype": "text/x-python",
   "name": "python",
   "nbconvert_exporter": "python",
   "pygments_lexer": "ipython2",
   "version": "2.7.6"
  },
  "pycharm": {
   "stem_cell": {
    "cell_type": "raw",
    "source": [],
    "metadata": {
     "collapsed": false
    }
   }
  }
 },
 "nbformat": 4,
 "nbformat_minor": 0
}